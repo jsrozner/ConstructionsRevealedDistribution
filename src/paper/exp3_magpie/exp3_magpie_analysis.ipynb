{
 "cells": [
  {
   "cell_type": "code",
   "id": "initial_id",
   "metadata": {
    "collapsed": true,
    "ExecuteTime": {
     "end_time": "2025-02-15T20:35:00.498517Z",
     "start_time": "2025-02-15T20:35:00.489958Z"
    }
   },
   "source": [
    "%load_ext autoreload\n",
    "%autoreload 2\n"
   ],
   "outputs": [],
   "execution_count": 1
  },
  {
   "metadata": {},
   "cell_type": "markdown",
   "source": "# Read in data",
   "id": "615c1064958742a9"
  },
  {
   "metadata": {
    "ExecuteTime": {
     "end_time": "2025-02-15T20:35:01.245772Z",
     "start_time": "2025-02-15T20:35:00.501261Z"
    }
   },
   "cell_type": "code",
   "source": [
    "\n",
    "from rozlib.libs.plotting.utils_latex_matplot import config_matplot_for_latex\n",
    "from lib.utils.utils_misc import save_fig\n",
    "import numpy as np\n",
    "import matplotlib.pyplot as plt\n",
    "from collections import Counter\n",
    "import warnings\n",
    "from typing import List\n",
    "from pprint import pp\n"
   ],
   "id": "4be1a26703956610",
   "outputs": [],
   "execution_count": 2
  },
  {
   "metadata": {
    "ExecuteTime": {
     "end_time": "2025-02-15T20:35:12.415889Z",
     "start_time": "2025-02-15T20:35:01.280960Z"
    }
   },
   "cell_type": "code",
   "source": [
    "from paper.exp3_magpie.corpus_magpie import get_all_magpie_json, get_magpie_pretty\n",
    "\n",
    "\"\"\"\n",
    "Read in data\n",
    "\"\"\"\n",
    "from paper.exp3_magpie.magpie_processing_helpers import get_all_magpie_results_unclean\n",
    "# from paper.exp3_magpie.magpie_processing_helpers import load_minicons_score_data\n",
    "\n",
    "# read in cluster data - includes hhi and surprisal scores\n",
    "# todo: don't know why but we had some dupes in 0.jsonl??; todo (check whether there were dupes in 0.txt in the input?)\n",
    "all_magpie_results = get_all_magpie_results_unclean()\n",
    "print(f\"total results: {len(all_magpie_results)}\")\n",
    "\n",
    "# We produced overall sentence scores using minicons - read that in\n",
    "# all_magpie_minicons_scores = load_minicons_score_data()\n",
    "\n",
    "# read in original data and then we line up with results\n",
    "all_magpie_json = get_all_magpie_json()\n",
    "all_magpie_entries, all_magpie_wrappers = get_magpie_pretty(all_magpie_json)\n",
    "print(f\"magpie json length (should match): {len(all_magpie_json)}\")\n",
    "print(\"num idioms\", len([m for m in all_magpie_entries if m.label == 'i']))\n",
    "\n"
   ],
   "id": "48ce50167100d206",
   "outputs": [
    {
     "name": "stderr",
     "output_type": "stream",
     "text": [
      "/opt/homebrew/Caskroom/miniconda/base/envs/2024_coelm/lib/python3.12/site-packages/transformers/tokenization_utils_base.py:1601: FutureWarning: `clean_up_tokenization_spaces` was not set. It will be set to `True` by default. This behavior will be depracted in transformers v4.45, and will be then set to `False` by default. For more details check this issue: https://github.com/huggingface/transformers/issues/31884\n",
      "  warnings.warn(\n",
      "WARNING:root:Initializing roberta-large\n"
     ]
    },
    {
     "name": "stdout",
     "output_type": "stream",
     "text": [
      "total results: 48395\n"
     ]
    },
    {
     "name": "stderr",
     "output_type": "stream",
     "text": [
      "Token indices sequence length is longer than the specified maximum sequence length for this model (1538 > 512). Running this sequence through the model will result in indexing errors\n"
     ]
    },
    {
     "name": "stdout",
     "output_type": "stream",
     "text": [
      "magpie json length (should match): 48395\n",
      "num idioms 36328\n"
     ]
    }
   ],
   "execution_count": 3
  },
  {
   "metadata": {
    "ExecuteTime": {
     "end_time": "2025-02-15T20:36:24.195508Z",
     "start_time": "2025-02-15T20:35:12.809063Z"
    }
   },
   "cell_type": "code",
   "source": [
    "\"\"\"Get POS so that we can filter on POS\n",
    "\"\"\"\n",
    "from paper.exp3_magpie.magpie_processing_helpers import get_all_pos_for_magpie, get_all_pos_for_magpie_wrapper\n",
    "\n",
    "# also get POS labels for all the magpie data (this uses non-transformer)\n",
    "import os\n",
    "os.environ[\"TOKENIZERS_PARALLELISM\"] = \"true\"       # apparently needed even if we're not using the transformer model\n",
    "magpie_pos = get_all_pos_for_magpie(all_magpie_entries)\n",
    "\n",
    "# example usage\n",
    "get_all_pos_for_magpie_wrapper(magpie_pos[0], all_magpie_wrappers[0])"
   ],
   "id": "34b78a877700fc4f",
   "outputs": [
    {
     "name": "stderr",
     "output_type": "stream",
     "text": [
      "100%|██████████| 48395/48395 [01:11<00:00, 680.74it/s]\n"
     ]
    }
   ],
   "execution_count": 4
  },
  {
   "metadata": {
    "ExecuteTime": {
     "end_time": "2025-02-15T20:36:24.291477Z",
     "start_time": "2025-02-15T20:36:24.238669Z"
    }
   },
   "cell_type": "code",
   "source": [
    "from paper.exp3_magpie.magpie_processing_helpers import check_data\n",
    "\n",
    "# make sure alignment is as expected\n",
    "check_data(all_magpie_wrappers, all_magpie_results)\n"
   ],
   "id": "69d7da418540195",
   "outputs": [
    {
     "name": "stdout",
     "output_type": "stream",
     "text": [
      "OK\n"
     ]
    }
   ],
   "execution_count": 5
  },
  {
   "metadata": {
    "ExecuteTime": {
     "end_time": "2025-02-15T20:36:24.320965Z",
     "start_time": "2025-02-15T20:36:24.294708Z"
    }
   },
   "cell_type": "code",
   "source": [
    "# sample a few examples\n",
    "def find_exs():\n",
    "    return [mw for mw in all_magpie_wrappers if mw.magpie_entry.idiom == \"nuts and bolts\"]\n",
    "x = find_exs()\n",
    "len(x)\n",
    "pp([(mw.magpie_entry.sent, mw.magpie_entry.label) for mw in x])\n"
   ],
   "id": "e4754d7098e2eabe",
   "outputs": [
    {
     "name": "stdout",
     "output_type": "stream",
     "text": [
      "[('The computer takes care of the nuts and bolts of the composition , the '\n",
      "  'component Dr Mathews calls its predetermined part .',\n",
      "  'i'),\n",
      " ('Sir Adrian Cadbury is not one of those who subscribes to the popular theory '\n",
      "  'that a truly professional manager can take over the helm of any type of '\n",
      "  'business with only a superficial knowledge of the nuts and bolts .',\n",
      "  'i'),\n",
      " ('The nuts and bolts of the deal have been put together cleverly to comply '\n",
      "  'with the 1982 Cable Act and with the specific terms of the 1984 consent '\n",
      "  'decree from Judge Harold Greene that set up the Baby Bells .',\n",
      "  'i'),\n",
      " ('They are basically the nuts and bolts of the er the report , if anyone has '\n",
      "  \"any questions questions I 'd rather not hear it ,\",\n",
      "  'i'),\n",
      " ('In that case the employees , who were warehousemen employed by a company '\n",
      "  \"which supplied nuts and bolts , wrote to ten of their employers ' suppliers \"\n",
      "  'informing them that they intended to start up in business on their own '\n",
      "  'trading in nuts and bolts , and asking for details of their products .',\n",
      "  'l'),\n",
      " ('For example , the trade association in the nut and bolt industry actually '\n",
      "  'employed individuals who posed as buyers and tried to obtain discounts on '\n",
      "  'prices from sellers suspected of cheating .',\n",
      "  'l'),\n",
      " ('Commonly used components such as instruments , machine tools , rivets , '\n",
      "  'nuts and bolts , instead of being produced efficiently by a single supplier '\n",
      "  'are manufactured by all branches of defence industry ; missile electronics '\n",
      "  ', for example , are produced by the Ministry of General Machine Building .',\n",
      "  'l'),\n",
      " ('This page is concerned with the ‘ nuts and bolts’ of your Enterprise '\n",
      "  'holiday .',\n",
      "  'i'),\n",
      " ('The rugged manly types on the scaffolding flung nuts and bolts at them .',\n",
      "  'l'),\n",
      " ('Common to all though , is an initial induction of maybe four to six weeks , '\n",
      "  'during which all trainees spend time getting to grips with the nuts and '\n",
      "  'bolts of every aspect of branch operations , which they can then discuss '\n",
      "  'with their peer group at an induction day at the Area Office .',\n",
      "  'i'),\n",
      " ('That meant that they could not stand the Central Office youths involved in '\n",
      "  'the nuts and bolts of the campaign .',\n",
      "  'i'),\n",
      " (\"The nut and bolt holding my friend 's chain came off and there we were , \"\n",
      "  'two ten - year - olds , some fourteen miles from home with a useless bike .',\n",
      "  'l'),\n",
      " ('Highly specialised manufacturing equipment , chemical cleanser for '\n",
      "  'photographic equipment , or nuts and bolts for plumbing equipment do not '\n",
      "  'readily lend themselves to sampling , but a case might be made for '\n",
      "  'including small but appropriate gifts in any press pack .',\n",
      "  'l'),\n",
      " ('Covering the brick floor were piles of scrap — rusty cracked drain pipes , '\n",
      "  'guttering , old kitchen ranges , wooden tubs for oddments , such as nuts '\n",
      "  'and bolts , square wicker baskets that held rabbit skins , cotton , wool , '\n",
      "  'crates into which jam jars were stacked , the variety was endless .',\n",
      "  'l'),\n",
      " ('anything like nuts and bolts , fixings , fasteners , that type of thing go '\n",
      "  ', has to go through the',\n",
      "  'l'),\n",
      " ('Most claimants at the time of their appeal will be too troubled and hassled '\n",
      "  'by the more practical day to day problems of their plight ever to have the '\n",
      "  'emotional energy to study the nuts and bolts of the machinery by which '\n",
      "  'their appeal will be processed .',\n",
      "  'i'),\n",
      " ('Jay comes from a different end of the spectrum to Dave Ambrose , but the '\n",
      "  'two both like to talk nuts and bolts .',\n",
      "  'i'),\n",
      " ('Household and garden equipment is often difficult to repair with nuts and '\n",
      "  'bolts , but a riveter can make a strong , neat repair to metal , leather '\n",
      "  'and plastics .',\n",
      "  'l'),\n",
      " ('Men go up high mountains to achieve a new perspective ; thus all prophets '\n",
      "  'have done this so they can dissolve the nuts and bolts of difference and '\n",
      "  'see in their place the unity .',\n",
      "  'i'),\n",
      " ('Most of the successful efforts cited by reengineering advocates are such '\n",
      "  'nuts - and - bolts examples .',\n",
      "  'i'),\n",
      " ('That way , we can strip the thing down to its last nut and bolt .', 'i'),\n",
      " ('In this article I would like to have a look at the nuts and bolts of his '\n",
      "  'style , with the emphasis being shifted to the devices that he uses as '\n",
      "  'opposed to the specific parts that he plays .',\n",
      "  'i'),\n",
      " ('It is an absolutely essential part of the nuts and bolts that hold the '\n",
      "  'thing together — though the client rarely meets a traffic person except in '\n",
      "  'a crisis .',\n",
      "  'i'),\n",
      " ('Never before interested in the nuts and bolts of public policy , the BJP '\n",
      "  \"has set up study groups to define the party 's position on such communally \"\n",
      "  'uncharged questions as water supply and the ( for Hindus , low - caste ) '\n",
      "  'leather trade .',\n",
      "  'i'),\n",
      " ('At the high level , X / Open already has its XA transaction processing '\n",
      "  'interface but , at the nuts and bolts level , an evaluation mechanism needs '\n",
      "  'to be established for the OLTP technologies now being productised .',\n",
      "  'i'),\n",
      " ('Their bosses , sitting on the senior loan committee , are pragmatic , nuts '\n",
      "  '- and - bolts bankers whose grasp of local banking is often profound , the '\n",
      "  'product of 20 or 30 years experience .',\n",
      "  'i'),\n",
      " ('Sue Hall of Lee Jeans went for the workwear look , stitching on small '\n",
      "  'spanners , nuts and bolts .',\n",
      "  'l'),\n",
      " ('Those of you who have been fingering your calculator buttons anxiously can '\n",
      "  'now relax : the excursion into philosophy is over , and we return to the '\n",
      "  'nuts and bolts of describing patterns in batches of numbers .',\n",
      "  'i'),\n",
      " (\"I really needed these two nuts and bolts for for a chair I 'm making at \"\n",
      "  'home .',\n",
      "  'l'),\n",
      " ('At the nuts and bolts level , significant progress was made towards '\n",
      "  'achieving a full internal market by January 1 , 1993 , with member '\n",
      "  'countries heeding the warning of the Europen Commission president , Mr '\n",
      "  'Jacques Delors , that further delays in implementing the raft of '\n",
      "  'legislation could cause real problems .',\n",
      "  'i'),\n",
      " ('They would include orders for routine raw materials such as steel stock ; '\n",
      "  'screws , nuts and bolts ; lubricants and fuel oil .',\n",
      "  'l'),\n",
      " ('Soon PostScript ( and one of its rivals , called TrueType , which is the '\n",
      "  'brain - child of Apple and Microsoft , two suppliers to the personal - '\n",
      "  'computer market ) will be added to the nuts and bolts of computers so that '\n",
      "  'their screens accurately display the page about to be printed .',\n",
      "  'i'),\n",
      " ('Besides engines and boilers , the ships need many pipes , pumps , nuts and '\n",
      "  'bolts , furnishings , cranes , electrical parts , ventilators , cooking '\n",
      "  'equipment , and sometimes large refrigerators .',\n",
      "  'l'),\n",
      " ('They should be checked regularly to endure that all nuts and bolts are '\n",
      "  'secure , and also inspected for cracks and flaws which can develop at '\n",
      "  'places which are subject to a lot of stress , such as the bottom of '\n",
      "  'attachment posts , the hinge area and where the metal is thinner round nut '\n",
      "  'holes .',\n",
      "  'l'),\n",
      " ('Choose one small and one medium spanner , to cope with a wide range of nut '\n",
      "  'and bolt sizes .',\n",
      "  'l'),\n",
      " ('‘ But you can make nuts and bolts listen to you .', 'l'),\n",
      " ('He attracted whistles and jeers and minor missiles , such as nuts and bolts '\n",
      "  '.',\n",
      "  'l'),\n",
      " ('Until recently Chandler have busied themselves producing guitar parts and '\n",
      "  'accessories — everything from high - quality necks and exotic wood bodies '\n",
      "  'to various pickups and just about every guitar - orientated nut and bolt '\n",
      "  'you can think of .',\n",
      "  'i'),\n",
      " ('Witness for instance the use in car manufacture of self - tapping screws '\n",
      "  'rather than nuts and bolts , the use of circlips instead of nuts to secure '\n",
      "  'bolts , or plastic body sections and panels to reduce both body weight and '\n",
      "  'manufacturing costs .',\n",
      "  'l'),\n",
      " ('Do you not have little nuts and bolts in the garage ?', 'l'),\n",
      " ('Manufacturing techniques and finish are the same ; nuts and bolts come from '\n",
      "  'the same vendors .',\n",
      "  'i'),\n",
      " ('The adjustment system is not particularly good , something of a nut - and - '\n",
      "  'bolt operation , and looks as though it could well be vulnerable to failure '\n",
      "  'as the bolt wears through the covering fabric .',\n",
      "  'i'),\n",
      " ('He also shows a healthy disrespect for the over - specialised , and is as '\n",
      "  'much at home with the nuts and bolts of medical practice as he is with '\n",
      "  'basic research in the laboratory .',\n",
      "  'i'),\n",
      " ('Specific criticisms included the view that coverage of Business Questions ( '\n",
      "  'coming immediately after the Prime Minister on Thursdays ) was excessive ; '\n",
      "  'that there was too much coverage of points of order ; that too much '\n",
      "  'attention was paid to the confrontation between the Prime Minister and the '\n",
      "  'Leader of the Opposition ; that not enough attention was paid to '\n",
      "  'legislation ; and that more should be shown of the nuts and bolts of the '\n",
      "  \"House 's work .\",\n",
      "  'i'),\n",
      " ('There are a number of distinct approaches to providing the recipe for an '\n",
      "  'optimal distribution of income which take the discussion away from the nuts '\n",
      "  'and bolts of the actual effects of government policies on different income '\n",
      "  'groups .',\n",
      "  'i'),\n",
      " ('Aluminium nuts and bolts .', 'l'),\n",
      " (\"‘ We 're the nuts and bolts people .\", 'i'),\n",
      " ('Whenever Layton had a promotional tour or appearance , a poetry reading or '\n",
      "  \"a workshop ( poetry - reading in Canada predated Ginsberg 's sensation with \"\n",
      "  'Howl that set in motion the ‘ beat - poetry’ style , despite Scobie arguing '\n",
      "  \"it as an influence on Leonard 's background ) , he would take Leonard along \"\n",
      "  ', acquaint him with the nuts and bolts of the business and get him to read '\n",
      "  'some of his own poetry .',\n",
      "  'i'),\n",
      " ('We drilled a small hole in the bracket and secured it with a nut and bolt '\n",
      "  'to the front panel .',\n",
      "  'l'),\n",
      " ('This , plus the fact that the role entailed involving the County Librarian '\n",
      "  'and \" selling the project \" to the DCSLs , meant that the ACL : E&SS '\n",
      "  'covered the spectrum from working politically with senior management of the '\n",
      "  'education service to the coordination of those who implemented the project '\n",
      "  'at the nuts and bolts level .',\n",
      "  'i'),\n",
      " ('Chair , erm , every year we try and hold er , an event or something of '\n",
      "  'interest to the local business community , to local industries , and we '\n",
      "  'have contacts with local freight - forwarders , banks and companies that '\n",
      "  \"have exported , embassies , and we 're proposing that we erm , hold the \"\n",
      "  'event this year on the subject of exporting and how to do it , because we '\n",
      "  \"'ve had very many small companies that might be clueless and want to know \"\n",
      "  'erm , exact nuts and bolts of it , so if we could run an event on that '\n",
      "  'basis , and then use that event as the core of a group to take across in '\n",
      "  'this case , Ireland , but perhaps in the future , Holland , who knows where '\n",
      "  'else , to actually sell , using the services of erm , the Embassy in Dublin '\n",
      "  ', our Embassy and the Chamber , with whom we have very good links , then it '\n",
      "  'would be to the benefit of our businesses .',\n",
      "  'i'),\n",
      " ('What we have done to ourselves is to destroy the adventure of life by '\n",
      "  'rooting ourselves to one spot in the physical sense , and demoralising '\n",
      "  'ourselves by forcing the mind to spend its time on nuts and bolts and the '\n",
      "  'rest of our shoddy interests , when it is thirsting for the trackless '\n",
      "  'regions of the nomads .',\n",
      "  'i'),\n",
      " (\"Adjustable spanners : You'll often be confronted with nuts and bolts of \"\n",
      "  'various types that need tightening or loosening — on domestic appliances , '\n",
      "  'plumbing systems and so on .',\n",
      "  'l')]\n"
     ]
    }
   ],
   "execution_count": 6
  },
  {
   "metadata": {},
   "cell_type": "markdown",
   "source": "# Classification",
   "id": "9efeee0540e20f33"
  },
  {
   "metadata": {
    "ExecuteTime": {
     "end_time": "2025-02-15T20:36:24.353167Z",
     "start_time": "2025-02-15T20:36:24.331180Z"
    }
   },
   "cell_type": "code",
   "source": [
    "from paper.exp3_magpie.corpus_magpie import WrappedIdiomWord, MAGPIE_Wrapper\n",
    "from typing import Literal\n",
    "from paper.exp3_magpie.magpie_processing_helpers import get_pos_for_char_span\n",
    "\n",
    "\"\"\"\n",
    "Collect data so that we can plot histograms of num words at each score\n",
    "- for each result\n",
    "- get the tokens for the idiom (indices)\n",
    "- extract the scores at those indices\n",
    "- get literal vs idiom (assert nothing else)\n",
    "- add the hhi score to a bin\n",
    "\"\"\"\n",
    "\n",
    "def idiom_word_filter(\n",
    "        t: WrappedIdiomWord,\n",
    "        idx: int,\n",
    "        log_counter: Counter,\n",
    "        min_chars_per_word = None,\n",
    "        filter_with_POS = False,\n",
    ") -> bool:\n",
    "    \"\"\"\n",
    "    Return True if the WrappedIdiomWord should be kept\n",
    "    \"\"\"\n",
    "    if len(t.tokens) != 1:\n",
    "        log_counter['filtered_word_multitok'] += 1\n",
    "        return False\n",
    "\n",
    "    if min_chars_per_word and len(t.idiom_word_chars) < min_chars_per_word:\n",
    "        log_counter['filtered_word_too_short'] += 1\n",
    "        return False\n",
    "\n",
    "    if filter_with_POS:\n",
    "        # match up to POS marker\n",
    "        nlp_doc = magpie_pos[idx]\n",
    "        pos = get_pos_for_char_span(nlp_doc, t.offset)\n",
    "        if pos != \"NOUN\" and pos != \"VERB\":\n",
    "            log_counter['filtered_word_POS'] += 1\n",
    "            return False\n",
    "    return True\n",
    "\n",
    "def get_word_level_scores_with_filtering(\n",
    "        magpie_list: List[MAGPIE_Wrapper],\n",
    "        min_chars_per_word = None,\n",
    "        filter_with_POS = False,\n",
    "        score_to_use: Literal['hhi', 'surprisal'] = 'hhi',\n",
    "        print_interesting_examples = False\n",
    "):\n",
    "    log_counter = Counter()\n",
    "    all_scores_idiom: List[float] = []\n",
    "    all_scores_literal: List[float] = []\n",
    "    for mag_wrapper in magpie_list:\n",
    "        idx = mag_wrapper.magpie_entry.id\n",
    "        result = all_magpie_results[idx]\n",
    "\n",
    "        for t in mag_wrapper.idiom_token_list:\n",
    "            if not idiom_word_filter(t, idx, log_counter, min_chars_per_word, filter_with_POS):\n",
    "                continue\n",
    "\n",
    "            tok_idx = t.tokens[0]   # we checked it was a single token\n",
    "\n",
    "            # hhi is the 0th and surprisal is the 2nd\n",
    "            if score_to_use == 'surprisal':\n",
    "                # we make them positive\n",
    "                warnings.warn(\"using surprisal: all scores will be made positive\")\n",
    "                scores = list(map(lambda x: -x, result.scores[2]))\n",
    "            else:\n",
    "                scores = result.scores[0]\n",
    "\n",
    "            score = scores[tok_idx]\n",
    "\n",
    "            if mag_wrapper.magpie_entry.label == 'i':\n",
    "                all_scores_idiom.append(score)\n",
    "            elif mag_wrapper.magpie_entry.label == 'l':\n",
    "                all_scores_literal.append(score)\n",
    "            else:\n",
    "                raise Exception(\"invalid label\")\n",
    "\n",
    "            if print_interesting_examples and score_to_use == 'hhi':\n",
    "                # print particular failure cases - either high hhi and literal or low hhi and idiomatic\n",
    "                if score > 0.95 and mag_wrapper.magpie_entry.label == 'l':\n",
    "                # if score < 0.05 and mag_wrapper.magpie_entry.label == 'i':\n",
    "                    print(f\"{mag_wrapper.magpie_entry.sent}\\n\\t \"\n",
    "                          f\"idiom: {mag_wrapper.magpie_entry.idiom}\\n\\t\"\n",
    "                          f\"tok: {t.idiom_word_chars}\")\n",
    "    pp(log_counter)\n",
    "    return all_scores_idiom, all_scores_literal\n"
   ],
   "id": "e022e55891cb679f",
   "outputs": [],
   "execution_count": 7
  },
  {
   "metadata": {},
   "cell_type": "markdown",
   "source": "## Histogram: Scores for each word",
   "id": "eb330fe2c3195f59"
  },
  {
   "metadata": {
    "ExecuteTime": {
     "end_time": "2025-02-15T20:36:24.572319Z",
     "start_time": "2025-02-15T20:36:24.361989Z"
    }
   },
   "cell_type": "code",
   "source": [
    "from paper.exp3_magpie.magpie_processing_helpers import filter_magpie\n",
    "\n",
    "\"\"\"\n",
    "Produce a histogram over the words by the scores (so each example -> each word in the example)\n",
    "\"\"\"\n",
    "def make_hist_for_word_scores(word_scores: List[float]):\n",
    "    # Plot the histogram\n",
    "    plt.hist(word_scores, bins=np.arange(0, 1.0, 0.05), edgecolor='black',\n",
    "             align='mid')\n",
    "    # plt.title(\"Histogram with Values from 0 to 1 (Increment 0.05)\")\n",
    "    plt.xlabel(\"Value Range\")\n",
    "    plt.ylabel(\"Frequency\")\n",
    "    plt.grid(axis='y', linestyle='--', alpha=0.7)\n",
    "    plt.show()\n",
    "\n",
    "filtered_magpie = filter_magpie(\n",
    "    all_magpie_wrappers,\n",
    "    all_magpie_results,\n",
    "    # all_magpie_minicons_scores,\n",
    "\n",
    "    min_sent_length=10,\n",
    "    # max_minicons_score=2\n",
    ")\n",
    "\n",
    "def get_scores(use_surprisal: bool):\n",
    "    if use_surprisal:\n",
    "        score_to_use = 'surprisal'\n",
    "    else:\n",
    "        score_to_use = 'hhi'\n",
    "\n",
    "    id_scores, lit_scores = get_word_level_scores_with_filtering(\n",
    "        filtered_magpie,\n",
    "        min_chars_per_word=4,\n",
    "        # min_chars_per_word=None,\n",
    "\n",
    "        score_to_use=score_to_use\n",
    "\n",
    "        # print_interesting_examples=True\n",
    "        # filter_with_POS=True,\n",
    "    )\n",
    "\n",
    "    # if use_surprisal:\n",
    "    #     id_scores = [-i for i in id_scores]\n",
    "    #     lit_scores= [-l for l in lit_scores]\n",
    "\n",
    "    return id_scores, lit_scores\n",
    "\n",
    "use_surprisal = True\n",
    "\n",
    "idioms_scores, literals_scores = get_scores(use_surprisal)\n",
    "\n",
    "\n",
    "# test: 10825, 2151 for certain settings\n",
    "print(len(idioms_scores))\n",
    "print(len(literals_scores))\n",
    "\n",
    "# make_hist_for_word_scores(idioms_scores)\n",
    "# make_hist_for_word_scores(literals_scores)\n"
   ],
   "id": "6f54eeda110368c7",
   "outputs": [
    {
     "name": "stdout",
     "output_type": "stream",
     "text": [
      "OK\n",
      "Counter({'filtered_short_sent': 4198, 'filtered_confidence': 3943, 'error': 21})\n",
      "Counter({'filtered_word_too_short': 40090, 'filtered_word_multitok': 4673})\n",
      "51663\n",
      "11804\n"
     ]
    },
    {
     "name": "stderr",
     "output_type": "stream",
     "text": [
      "/var/folders/58/nkm5hbs97tz3vc0x5l5zl4w40000gn/T/ipykernel_94942/734629637.py:63: UserWarning: using surprisal: all scores will be made positive\n",
      "  warnings.warn(\"using surprisal: all scores will be made positive\")\n"
     ]
    }
   ],
   "execution_count": 8
  },
  {
   "metadata": {
    "ExecuteTime": {
     "end_time": "2025-02-15T20:36:24.628253Z",
     "start_time": "2025-02-15T20:36:24.601611Z"
    }
   },
   "cell_type": "code",
   "source": [
    "# for contextual constraint, all numbers should be ... negative!\n",
    "# idioms_scores = [-x for x in idioms_scores]\n",
    "# literals_scores = [-x for x in literals_scores]\n",
    "assert all([x < 0 for x in literals_scores])\n",
    "assert all([x < 0 for x in idioms_scores])\n",
    "\n"
   ],
   "id": "39f1da634e133e2c",
   "outputs": [],
   "execution_count": 9
  },
  {
   "metadata": {},
   "cell_type": "markdown",
   "source": [
    "## ROC curve for words\n",
    "\n"
   ],
   "id": "6c461227e690e4d5"
  },
  {
   "metadata": {
    "ExecuteTime": {
     "end_time": "2025-02-15T20:36:40.106519Z",
     "start_time": "2025-02-15T20:36:39.968131Z"
    }
   },
   "cell_type": "code",
   "source": [
    "from rozlib.libs.plotting.plotting import plot_roc\n",
    "\n",
    "\"\"\"\n",
    "Look at ROC at word level using hhi or surprisal (the score is selected in prev cell)\n",
    "\"\"\"\n",
    "\n",
    "\n",
    "config_matplot_for_latex(12)\n",
    "\n",
    "def make_roc_for_word_level(\n",
    "        idioms_scores,\n",
    "        literals_scores,\n",
    "        use_surprisal: bool\n",
    "\n",
    "):\n",
    "    # Step 1: Combine scores and labels\n",
    "    scores = np.array(idioms_scores + literals_scores)\n",
    "\n",
    "    # if use_surprisal:\n",
    "    #     # surprisal scores run the opposite direction (they are low for idioms)\n",
    "    #     labels = np.array([0] * len(idioms_scores) + [1] * len(literals_scores))\n",
    "    # else:\n",
    "    # hhi scores are *high* for idioms\n",
    "    labels = np.array([1] * len(idioms_scores) + [0] * len(literals_scores))\n",
    "\n",
    "\n",
    "    # sampleing is unnecessary! TPR and FPR (for roc) are not affected by relatiave class sizes\n",
    "    # print(sum(labels)/len(labels))\n",
    "    # labels, scores = sample_evenly(labels, scores, 1000000)\n",
    "    # print(sum(labels)/len(labels))\n",
    "\n",
    "    fig = plot_roc(labels, scores,\n",
    "             # flip_threshold_sign=use_surprisal,\n",
    "             flip_threshold_sign=False,\n",
    "             # title=\"ROC Curve Using Contextual Constraint\",\n",
    "             add_axes_labels=True,\n",
    "             show_thresholds=False,\n",
    "                   figsize=(4,4)\n",
    "             )\n",
    "\n",
    "    save_fig(fig, \"idioms_roc.pdf\")\n",
    "\n",
    "# note that ROC is not affected by sample class imbalance!\n",
    "\n",
    "make_roc_for_word_level(idioms_scores, literals_scores, use_surprisal)"
   ],
   "id": "a8f3c7bbfdeb401a",
   "outputs": [
    {
     "name": "stderr",
     "output_type": "stream",
     "text": [
      "/Users/jsrozner/docs_local/_programming/research_constructions/constructions_repo/utils/utils_latex_matplot.py:62: UserWarning: /Library/TeX/textbin will be added to path\n",
      "  warnings.warn(f\"/Library/TeX/textbin will be added to path\")\n"
     ]
    },
    {
     "data": {
      "text/plain": [
       "<Figure size 600x600 with 1 Axes>"
      ],
      "image/png": "[encoded data removed]"
     },
     "metadata": {},
     "output_type": "display_data"
    }
   ],
   "execution_count": 11
  }
 ],
 "metadata": {
  "kernelspec": {
   "display_name": "Python 3",
   "language": "python",
   "name": "python3"
  },
  "language_info": {
   "codemirror_mode": {
    "name": "ipython",
    "version": 2
   },
   "file_extension": ".py",
   "mimetype": "text/x-python",
   "name": "python",
   "nbconvert_exporter": "python",
   "pygments_lexer": "ipython2",
   "version": "2.7.6"
  }
 },
 "nbformat": 4,
 "nbformat_minor": 5
}
