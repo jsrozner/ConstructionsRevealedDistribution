{
 "cells": [
  {
   "cell_type": "code",
   "id": "initial_id",
   "metadata": {
    "collapsed": true,
    "ExecuteTime": {
     "end_time": "2025-02-15T09:38:49.970827Z",
     "start_time": "2025-02-15T09:38:49.954567Z"
    }
   },
   "source": [
    "%load_ext autoreload\n",
    "%autoreload 2\n"
   ],
   "outputs": [],
   "execution_count": 2
  },
  {
   "metadata": {},
   "cell_type": "code",
   "outputs": [],
   "execution_count": null,
   "source": [
    "\n",
    "from lib.common.mlm_singleton import get_singleton_scorer\n",
    "\n",
    "mlm = get_singleton_scorer()\n"
   ],
   "id": "e0b05acb3fcd48c"
  },
  {
   "metadata": {
    "ExecuteTime": {
     "end_time": "2025-02-15T09:38:56.208986Z",
     "start_time": "2025-02-15T09:38:56.188522Z"
    }
   },
   "cell_type": "code",
   "source": [
    "\n",
    "from data_config import Exp2Cogs\n",
    "from paper.exp2_cogs.cogs_utils import get_all_data_clean, read_csv_row_by_row\n",
    "\n",
    "csv_data_clean = read_csv_row_by_row(Exp2Cogs.cogs_parsed_final)\n",
    "print(csv_data_clean[0])\n",
    "all_cogs_clean = get_all_data_clean(csv_data_clean)\n",
    "# all_clean[0]"
   ],
   "id": "d0cdbe91a438aa72",
   "outputs": [
    {
     "name": "stdout",
     "output_type": "stream",
     "text": [
      "in sent Though punctuated by frequent flash-backs to the period before, during and just after the war, temporal progression in the present is clearly marked by the development of two narrative lines which weave their ways in and out of the novel., idx 33 != way\n",
      "note expected one error message bc one word is 'ways' instead of 'way'\n"
     ]
    }
   ],
   "execution_count": 11
  },
  {
   "metadata": {
    "ExecuteTime": {
     "end_time": "2025-02-15T09:38:56.233718Z",
     "start_time": "2025-02-15T09:38:56.213526Z"
    }
   },
   "cell_type": "code",
   "source": "all_cogs_clean[0]",
   "id": "fbf68f59624e1302",
   "outputs": [
    {
     "data": {
      "text/plain": [
       "CogsEntry(id=0, cx_type='Let Alone', sent='Most wives are too bloody old, let alone mothers.', tgt_words=[6, 7], tgt_word_offsets=[(31, 34), (35, 40)])"
      ]
     },
     "execution_count": 12,
     "metadata": {},
     "output_type": "execute_result"
    }
   ],
   "execution_count": 12
  },
  {
   "metadata": {
    "ExecuteTime": {
     "end_time": "2025-02-15T09:38:56.239222Z",
     "start_time": "2025-02-15T09:38:56.237800Z"
    }
   },
   "cell_type": "code",
   "source": "",
   "id": "dde9e80671d02eb1",
   "outputs": [],
   "execution_count": null
  },
  {
   "metadata": {
    "ExecuteTime": {
     "end_time": "2025-02-15T09:38:56.261934Z",
     "start_time": "2025-02-15T09:38:56.243510Z"
    }
   },
   "cell_type": "code",
   "source": [
    "\n",
    "\n"
   ],
   "id": "b30dae322cdc5531",
   "outputs": [],
   "execution_count": 13
  },
  {
   "metadata": {
    "ExecuteTime": {
     "end_time": "2025-02-15T09:38:56.305039Z",
     "start_time": "2025-02-15T09:38:56.265964Z"
    }
   },
   "cell_type": "code",
   "source": [
    "from paper.exp2_cogs.cogs_utils import CogEntryWrapper\n",
    "\n",
    "all_wrapped = []\n",
    "for ce in all_cogs_clean:\n",
    "    all_wrapped.append(CogEntryWrapper(ce))"
   ],
   "id": "b8874c77a2077f83",
   "outputs": [],
   "execution_count": 14
  },
  {
   "metadata": {
    "ExecuteTime": {
     "end_time": "2025-02-15T09:38:56.328591Z",
     "start_time": "2025-02-15T09:38:56.310Z"
    }
   },
   "cell_type": "code",
   "source": "all_wrapped[0].idiom_token_list\n",
   "id": "5c6c2f16d7bf0a0e",
   "outputs": [
    {
     "data": {
      "text/plain": [
       "[WrappedIdiomWord(offset=(31, 34), idiom_word_chars='let', tokens=[8], token_words=['let'], is_multiple_tokens=False, tokens_do_not_exact_match=False),\n",
       " WrappedIdiomWord(offset=(35, 40), idiom_word_chars='alone', tokens=[9], token_words=['alone'], is_multiple_tokens=False, tokens_do_not_exact_match=False)]"
      ]
     },
     "execution_count": 15,
     "metadata": {},
     "output_type": "execute_result"
    }
   ],
   "execution_count": 15
  },
  {
   "metadata": {
    "ExecuteTime": {
     "end_time": "2025-02-15T09:39:11.508800Z",
     "start_time": "2025-02-15T09:38:56.333408Z"
    }
   },
   "cell_type": "code",
   "source": [
    "from paper.exp3_magpie.corpus_magpie import EntryForProcessing\n",
    "from typing import List, Dict\n",
    "from tqdm import tqdm\n",
    "from lib.scoring_fns import probability\n",
    "# from exp6_idioms_magpie.corpus_magpie import EntryForProcessing\n",
    "\n",
    "\"\"\"\n",
    "Accrue results by cx type and word (word or idx)\n",
    " - todo: check multitoken, eg\n",
    "\"\"\"\n",
    "# adapted from process_sent_exp6\n",
    "# scores: List[List[float]] = []\n",
    "def process_sent_exp8(\n",
    "        cog_entry_wrapped: CogEntryWrapper\n",
    ") -> List[float]:\n",
    "    scores: List[float] = []\n",
    "    cog_entry = cog_entry_wrapped.cog_entry\n",
    "    entry_for_processing = EntryForProcessing(cog_entry.id, cog_entry.sent)\n",
    "    for word_to_mask in cog_entry_wrapped.idiom_token_list:\n",
    "        assert word_to_mask.is_multiple_tokens is False and word_to_mask.tokens_do_not_exact_match is False\n",
    "        t_idx = word_to_mask.tokens[0]\n",
    "        inputs_ids = entry_for_processing.get_inputs_with_mask_for_token_at_idx(\n",
    "            t_idx)\n",
    "        # get likely fills\n",
    "        outputs = mlm.get_model_outputs_for_input(inputs_ids)\n",
    "        logits = outputs.logits\n",
    "\n",
    "        # predictions is vocab_len [logit, logit, ... logit]\n",
    "        token_logits = logits[0, t_idx]     # batch, idx, then vocab_len shape\n",
    "\n",
    "        orig_token_id = entry_for_processing.input_ids[0, t_idx]\n",
    "\n",
    "        # compute surprisal\n",
    "        surprisal_score = probability(token_logits, orig_token_id)\n",
    "        scores.append(surprisal_score.item())\n",
    "    return scores\n",
    "\n",
    "def get_all_scores():\n",
    "    all_scores: List[List[float]] = []\n",
    "    for cog_wrapped in tqdm(all_wrapped):\n",
    "        scores = process_sent_exp8(cog_wrapped)\n",
    "        all_scores.append(scores)\n",
    "    return all_scores\n",
    "\n",
    "all_scores = get_all_scores()\n",
    "\n"
   ],
   "id": "c040546e458b203e",
   "outputs": [
    {
     "name": "stderr",
     "output_type": "stream",
     "text": [
      "huggingface/tokenizers: The current process just got forked, after parallelism has already been used. Disabling parallelism to avoid deadlocks...\n",
      "To disable this warning, you can either:\n",
      "\t- Avoid using `tokenizers` before the fork if possible\n",
      "\t- Explicitly set the environment variable TOKENIZERS_PARALLELISM=(true | false)\n",
      "100%|██████████| 310/310 [00:15<00:00, 20.49it/s]\n"
     ]
    }
   ],
   "execution_count": 16
  },
  {
   "metadata": {
    "ExecuteTime": {
     "end_time": "2025-02-15T09:39:11.542040Z",
     "start_time": "2025-02-15T09:39:11.514495Z"
    }
   },
   "cell_type": "code",
   "source": "all_scores[101]",
   "id": "3e8ef24cac3881a1",
   "outputs": [
    {
     "data": {
      "text/plain": [
       "[0.9993739724159241]"
      ]
     },
     "execution_count": 17,
     "metadata": {},
     "output_type": "execute_result"
    }
   ],
   "execution_count": 17
  },
  {
   "metadata": {
    "ExecuteTime": {
     "end_time": "2025-02-15T09:39:48.097144Z",
     "start_time": "2025-02-15T09:39:48.070129Z"
    }
   },
   "cell_type": "code",
   "source": [
    "from paper.exp2_cogs.cogs_utils import tgt_keys_str_map_no_spaces\n",
    "# aggregate the data\n",
    "# hist buckets\n",
    "from collections import defaultdict\n",
    "# maps, e.g., \"much less\" => {0, 1} => List floats for the scores\n",
    "# so aggreagator[much less][0] -> score list for much\n",
    "def make_histograms():\n",
    "    aggregator: Dict[str, List[float]] = defaultdict(list)\n",
    "    for cog_entry, scores_set in zip(all_cogs_clean, all_scores):\n",
    "        for i, w in enumerate(cog_entry.tgt_words):\n",
    "            tgt_word = tgt_keys_str_map_no_spaces[cog_entry.cx_type].split(\" \")[i]\n",
    "            key = f\"{cog_entry.cx_type}_{tgt_word}\"\n",
    "            aggregator[key].append(scores_set[i])\n",
    "    return aggregator\n",
    "\n",
    "all_aggregated = make_histograms()"
   ],
   "id": "b91295ea336a671",
   "outputs": [],
   "execution_count": 20
  },
  {
   "metadata": {
    "ExecuteTime": {
     "end_time": "2025-02-15T09:39:49.130932Z",
     "start_time": "2025-02-15T09:39:49.105783Z"
    }
   },
   "cell_type": "code",
   "source": "len(all_aggregated['Let Alone_let'])",
   "id": "9aeb63685a9290b4",
   "outputs": [
    {
     "data": {
      "text/plain": [
       "51"
      ]
     },
     "execution_count": 21,
     "metadata": {},
     "output_type": "execute_result"
    }
   ],
   "execution_count": 21
  },
  {
   "metadata": {
    "ExecuteTime": {
     "end_time": "2025-02-15T09:39:50.235307Z",
     "start_time": "2025-02-15T09:39:49.915573Z"
    }
   },
   "cell_type": "code",
   "source": [
    "from rozlib.libs.plotting.utils_latex_matplot import config_matplot_for_latex\n",
    "from lib.utils.utils_misc import save_fig\n",
    "import matplotlib.pyplot as plt\n",
    "import seaborn as sns\n",
    "# from utils.utils_latex_matplot import config_matplot_for_latex, save_fig\n",
    "\n",
    "# plt.figure(figsize=(6, 6))\n",
    "\n",
    "config_matplot_for_latex(13)\n",
    "fig, ax = plt.subplots(figsize=(4,4))\n",
    "ax.set_ylim(-.05, 1.05)\n",
    "# ax.set_title(\"Distribution of contextual probabilities for indicated word\")\n",
    "# ax.set_ylabel(\"Contextual Probability\")\n",
    "for spine in ax.spines.values():\n",
    "    spine.set_edgecolor('black')  # Set dark color (or 'white' for light mode)\n",
    "    # spine.set_linewidth(2)        # Adjust border thickness\n",
    "# plt.xlabel(\"Construction & Word\")\n",
    "# categories, values = zip(*[(key, val) for key, vals in all_aggregated.items() for val in vals])\n",
    "\n",
    "cat_val_tuples = [(key, val) for key, vals in all_aggregated.items() for val in vals]\n",
    "cat_val_tuples_sorted = sorted(cat_val_tuples, key=lambda x: x[0])\n",
    "categories, values = zip(*cat_val_tuples_sorted)\n",
    "\n",
    "cats_sorted = sorted(set(categories))\n",
    "cat_names_nice = [\n",
    "    f\"cause-\\nwith\\n'with'\",\n",
    "    f\"comp-\\ncorr\\n'the'\",\n",
    "    f\"con-\\native\\n'at'\",\n",
    "    f\"let-\\nalone\\n'alone'\",\n",
    "    f\"let-\\nalone\\n'let'\",\n",
    "    f\"much-\\nless\\n'much'\",\n",
    "    f\"much-\\nless\\n'less'\",\n",
    "    f\"way-cx\\n'way'\",\n",
    "]\n",
    "cat_names_short = [\n",
    "    f\"CW\\nwith\",\n",
    "    f\"CC\\nthe\",\n",
    "    f\"Con\\nat\",\n",
    "    f\"LA\\nalone\",\n",
    "    f\"LA\\nlet\",\n",
    "    f\"ML\\nmuch\",\n",
    "    f\"ML\\nless\",\n",
    "    f\"Way\\nway\",\n",
    "]\n",
    "def cats_pretty():\n",
    "    ret = []\n",
    "    for c in categories:\n",
    "        idx = cats_sorted.index(c)\n",
    "        ret.append(cat_names_short[idx])\n",
    "    return ret\n",
    "cats_prettied = cats_pretty()\n",
    "\n",
    "# sns.boxplot(x=cats_prettied, y=values)\n",
    "# sns.violinplot(x=cats_prettied, y=values, scale=\"width\")\n",
    "sns.violinplot(x=cats_prettied, y=values, ax=ax,inner='quartile', cut=0, edgecolor=\"black\",saturation=0.1, scale=\"width\")\n",
    "for violin in ax.collections:\n",
    "    violin.set_facecolor(\"lightgray\")\n",
    "sns.stripplot(x=cats_prettied, y=values, ax=ax,\n",
    "              color=\"black\", alpha=0.5, size=3, jitter=False)  # Adjust size & alpha\n",
    "save_fig(fig, \"cogs_violins.pdf\")\n",
    "# sns.boxplot(x=categories, y=values)\n",
    "\n"
   ],
   "id": "36f06240fb28bb6c",
   "outputs": [
    {
     "name": "stderr",
     "output_type": "stream",
     "text": [
      "/var/folders/58/nkm5hbs97tz3vc0x5l5zl4w40000gn/T/ipykernel_65806/4255280778.py:54: FutureWarning: \n",
      "\n",
      "The `scale` parameter has been renamed and will be removed in v0.15.0. Pass `density_norm='width'` for the same effect.\n",
      "  sns.violinplot(x=cats_prettied, y=values, ax=ax,inner='quartile', cut=0, edgecolor=\"black\",saturation=0.1, scale=\"width\")\n"
     ]
    },
    {
     "data": {
      "text/plain": [
       "<Figure size 400x400 with 1 Axes>"
      ],
      "image/png": "[encoded data removed]"
     },
     "metadata": {},
     "output_type": "display_data"
    }
   ],
   "execution_count": 22
  },
  {
   "metadata": {
    "ExecuteTime": {
     "end_time": "2025-02-04T17:00:43.865290Z",
     "start_time": "2025-02-04T17:00:43.861532Z"
    }
   },
   "cell_type": "code",
   "source": "",
   "id": "6c528ca48f61007e",
   "outputs": [],
   "execution_count": null
  },
  {
   "metadata": {},
   "cell_type": "code",
   "outputs": [],
   "execution_count": null,
   "source": "",
   "id": "614e53c04669c591"
  }
 ],
 "metadata": {
  "kernelspec": {
   "display_name": "Python 3",
   "language": "python",
   "name": "python3"
  },
  "language_info": {
   "codemirror_mode": {
    "name": "ipython",
    "version": 2
   },
   "file_extension": ".py",
   "mimetype": "text/x-python",
   "name": "python",
   "nbconvert_exporter": "python",
   "pygments_lexer": "ipython2",
   "version": "2.7.6"
  }
 },
 "nbformat": 4,
 "nbformat_minor": 5
}
