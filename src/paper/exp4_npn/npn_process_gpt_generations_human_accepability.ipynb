{
 "cells": [
  {
   "cell_type": "code",
   "id": "initial_id",
   "metadata": {
    "collapsed": true,
    "ExecuteTime": {
     "end_time": "2025-02-26T19:50:47.349893Z",
     "start_time": "2025-02-26T19:50:47.339305Z"
    }
   },
   "source": [
    "%load_ext autoreload\n",
    "%autoreload 2\n"
   ],
   "outputs": [],
   "execution_count": 1
  },
  {
   "metadata": {
    "ExecuteTime": {
     "end_time": "2025-02-26T19:50:47.824284Z",
     "start_time": "2025-02-26T19:50:47.389543Z"
    }
   },
   "cell_type": "code",
   "source": [
    "\n",
    "from typing import List, Dict\n",
    "import random\n",
    "from collections import Counter\n",
    "from data_config import Exp4NPN\n",
    "\n"
   ],
   "id": "9037c0ae1be2a11b",
   "outputs": [],
   "execution_count": 3
  },
  {
   "metadata": {},
   "cell_type": "markdown",
   "source": "## Post process gpt4 generations",
   "id": "d3995728876b2b3b"
  },
  {
   "metadata": {
    "ExecuteTime": {
     "end_time": "2025-02-26T19:51:03.586979Z",
     "start_time": "2025-02-26T19:51:03.563347Z"
    }
   },
   "cell_type": "code",
   "source": [
    "\"\"\"\n",
    "check\n",
    "- has only one period\n",
    "- starts with capital letter\n",
    "- contains target string (needs to all be lower case)\n",
    "- check whether the word is repeated (interesting case)\n",
    "\"\"\""
   ],
   "id": "5ccd46da8610d5ff",
   "outputs": [
    {
     "data": {
      "text/plain": [
       "'\\ncheck\\n- has only one period\\n- starts with capital letter\\n- contains target string (needs to all be lower case)\\n- check whether the word is repeated (interesting case)\\n\\nother\\n- make note of pricing\\n\\nsubseq experiments\\n- examine what substitution of the other words for the sentence does (other top fills if we double mask)\\n\\n'"
      ]
     },
     "execution_count": 16,
     "metadata": {},
     "output_type": "execute_result"
    }
   ],
   "execution_count": 16
  },
  {
   "metadata": {
    "ExecuteTime": {
     "end_time": "2025-02-26T19:51:03.866193Z",
     "start_time": "2025-02-26T19:51:03.840234Z"
    }
   },
   "cell_type": "code",
   "source": [
    "\n",
    "from rozlib.libs.common.data.utils_jsonl import read_from_jsonl\n",
    "from paper.exp4_npn.npn_utils import GPTOutput, filter_outputs\n",
    "\n",
    "gpt_outputs: List[GPTOutput] = read_from_jsonl(Exp4NPN.npn_gpt_outputs, GPTOutput)\n",
    "gpt_outputs_after = filter_outputs(gpt_outputs)\n",
    "\n"
   ],
   "id": "1fce68208321a35f",
   "outputs": [],
   "execution_count": 17
  },
  {
   "metadata": {
    "ExecuteTime": {
     "end_time": "2025-02-26T19:51:07.155409Z",
     "start_time": "2025-02-26T19:51:07.132693Z"
    }
   },
   "cell_type": "code",
   "source": "print(len(gpt_outputs_after))",
   "id": "42ee346f07103b70",
   "outputs": [
    {
     "name": "stdout",
     "output_type": "stream",
     "text": [
      "301\n"
     ]
    }
   ],
   "execution_count": 20
  },
  {
   "metadata": {
    "ExecuteTime": {
     "end_time": "2025-02-26T19:51:07.998518Z",
     "start_time": "2025-02-26T19:51:07.975072Z"
    }
   },
   "cell_type": "code",
   "source": [
    "# note does not have bad words removed yet\n",
    "def count_for_stats():\n",
    "    c = Counter()\n",
    "    for g in gpt_outputs_after:\n",
    "        c[g.prep] += 1\n",
    "    print(c)\n",
    "count_for_stats()\n",
    "\n"
   ],
   "id": "47078e6b3488c1e2",
   "outputs": [
    {
     "name": "stdout",
     "output_type": "stream",
     "text": [
      "Counter({'by': 99, 'upon': 99, 'after': 82, 'to': 21})\n"
     ]
    }
   ],
   "execution_count": 21
  },
  {
   "metadata": {},
   "cell_type": "markdown",
   "source": "## human acceptability judgements",
   "id": "3caa8d7878cb8fb0"
  },
  {
   "metadata": {
    "ExecuteTime": {
     "end_time": "2025-02-26T19:51:09.885252Z",
     "start_time": "2025-02-26T19:51:09.860773Z"
    }
   },
   "cell_type": "code",
   "source": [
    "# add ids for use with human ranking\n",
    "gpt_outputs_with_id = [(idx, go) for idx, go in enumerate(gpt_outputs_after)]\n",
    "entries_randomized = [e for e in gpt_outputs_with_id]\n",
    "random.seed(42)\n",
    "random.shuffle(entries_randomized)\n",
    "\n",
    "print(entries_randomized[0])\n"
   ],
   "id": "e35e85b0266acce3",
   "outputs": [
    {
     "name": "stdout",
     "output_type": "stream",
     "text": [
      "(192, GPTOutput(noun=NounRep(id=15345, token='Ġjaw', str_rep=' jaw', str_rep_no_space='jaw'), prep='by', model='gpt-4-0613', output='The boxer trained intensely, preparing for the fight jaw by jaw, focusing on his biting strength and endurance.', finish_reason='stop'))\n"
     ]
    }
   ],
   "execution_count": 22
  },
  {
   "metadata": {
    "ExecuteTime": {
     "end_time": "2025-02-26T19:51:10.723183Z",
     "start_time": "2025-02-26T19:51:10.696391Z"
    }
   },
   "cell_type": "code",
   "source": [
    "from typing import Tuple\n",
    "import pandas as pd\n",
    "\n",
    "\"\"\"\n",
    "Write to CSV for human analysis\n",
    "\"\"\"\n",
    "def write_data_rows_to_csv(entries: List[Tuple[int, GPTOutput]], file_path: str) -> None:\n",
    "    # Convert dataclass instances to dictionaries\n",
    "    # Convert list fields to string for CSV storage\n",
    "    all_dicts: List[Dict] = []\n",
    "    for e in entries:\n",
    "        all_dicts.append({\n",
    "            \"id\": e[0],\n",
    "            \"sent\": e[1].output\n",
    "        })\n",
    "\n",
    "    # Convert to DataFrame and save to CSV\n",
    "    df = pd.DataFrame(all_dicts)\n",
    "    print(df.head(5))\n",
    "    df.to_csv(file_path, index=False)\n",
    "\n",
    "# uncomment to generate csv for human annotation\n",
    "# write_data_rows_to_csv(entries_randomized, Exp4NPN.npn_outputs_for_human_acceptability_csv)\n"
   ],
   "id": "636ec7ac2a5ac39f",
   "outputs": [],
   "execution_count": 23
  }
 ],
 "metadata": {
  "kernelspec": {
   "display_name": "Python 3",
   "language": "python",
   "name": "python3"
  },
  "language_info": {
   "codemirror_mode": {
    "name": "ipython",
    "version": 2
   },
   "file_extension": ".py",
   "mimetype": "text/x-python",
   "name": "python",
   "nbconvert_exporter": "python",
   "pygments_lexer": "ipython2",
   "version": "2.7.6"
  }
 },
 "nbformat": 4,
 "nbformat_minor": 5
}
