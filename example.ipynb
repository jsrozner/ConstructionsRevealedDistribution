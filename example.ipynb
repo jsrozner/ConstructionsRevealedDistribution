{
 "cells": [
  {
   "metadata": {},
   "cell_type": "markdown",
   "source": [
    "## Examples using different affinity methods\n",
    "Note that you'll be running roberta-large\n",
    "\n"
   ],
   "id": "ecfa3083a11534ac"
  },
  {
   "metadata": {
    "ExecuteTime": {
     "end_time": "2025-09-17T04:37:28.673802Z",
     "start_time": "2025-09-17T04:37:28.665079Z"
    }
   },
   "cell_type": "code",
   "source": [
    "%load_ext autoreload\n",
    "%autoreload 2\n"
   ],
   "id": "585cd0e906ada95c",
   "outputs": [],
   "execution_count": 1
  },
  {
   "metadata": {
    "ExecuteTime": {
     "end_time": "2025-09-17T04:37:34.619561Z",
     "start_time": "2025-09-17T04:37:28.679966Z"
    }
   },
   "cell_type": "code",
   "source": [
    "from lib.common.mlm_singleton import init_singleton_scorer\n",
    "import os\n",
    "\n",
    "# make sure we init the scorer for all modules first\n",
    "mlm_scorer = init_singleton_scorer('roberta-large')\n",
    "\n",
    "# make the huggingface warnings shut up (likely bc of latex call)\n",
    "os.environ[\"TOKENIZERS_PARALLELISM\"] = \"true\"\n",
    "\n",
    "# can import if you want prettier plots; but you'll need a tex installation on your machine\n",
    "# from rozlib.libs.plotting.utils_latex_matplot import config_matplot_for_latex\n",
    "# config_matplot_for_latex(12, dpi=100)\n"
   ],
   "id": "db619c3b0ddf6a83",
   "outputs": [
    {
     "name": "stderr",
     "output_type": "stream",
     "text": [
      "/opt/homebrew/Caskroom/miniconda/base/envs/2024_coelm/lib/python3.12/site-packages/memoization/memoization.py:112: SyntaxWarning: Expected custom_key_maker to have the same signature as the function being cached. Call memoization.suppress_warnings() before using @cached to remove this message.\n",
      "  warnings.warn('Expected custom_key_maker to have the same signature as the function being cached. '\n",
      "WARNING:root:Initializing roberta-large, None\n",
      "WARNING:root:INIT\n"
     ]
    }
   ],
   "execution_count": 2
  },
  {
   "metadata": {
    "ExecuteTime": {
     "end_time": "2025-09-17T04:41:02.302491Z",
     "start_time": "2025-09-17T04:40:57.133055Z"
    }
   },
   "cell_type": "code",
   "source": [
    "from affinity.plots_new import full_plot_single_sentence_new\n",
    "\n",
    "\"\"\"Green day examples\"\"\"\n",
    "\n",
    "# s1 = \"I took a walk down memory lane.\"\n",
    "s1 = \"My favorite band is Green Day.\"\n",
    "\n",
    "f = full_plot_single_sentence_new(\n",
    "    s1,\n",
    "    do_print=True,      # whether to print info\n",
    "    plot_local=True,   # whether to calculate and plot local affinities\n",
    "    num_preds=5,        # number of preds to print for each slot under single mask\n",
    "    add_scores_on_top_font_size=10\n",
    ")\n",
    "\n",
    "\n"
   ],
   "id": "fcfb60bb2a07d16e",
   "outputs": [
    {
     "name": "stderr",
     "output_type": "stream",
     "text": [
      "/Users/jsrozner/docs_local/research/proj_code/rozner-mono-cxs-main/proj/cxs_are_revealed/src/affinity/tokenization.py:344: UserWarning: using a function that does not assert that words match\n",
      "  warnings.warn(\"using a function that does not assert that words match\")\n"
     ]
    },
    {
     "name": "stdout",
     "output_type": "stream",
     "text": [
      "global affinities:\n",
      "[0.456, 0.936, 0.957, 0.402, 0.987, 0.997]\n",
      "multitoken indices are:\n",
      " []\n",
      "Top predictions for each word are:\n",
      "[['My', 'His', 'Her', 'Their', 'Our'],\n",
      " [' favorite', ' favourite', ' fav', ' current', ' dream'],\n",
      " [' band', ' group', ' artist', ' musician', ' album'],\n",
      " [' is', '?', ':', ',', ' -'],\n",
      " [' Green', ' Third', ' Independence', ' New', ' Training'],\n",
      " [' Day', ' River', 'day', 'Day', ' Days']]\n"
     ]
    },
    {
     "data": {
      "text/plain": [
       "<Figure size 300x300 with 1 Axes>"
      ],
      "image/png": "[encoded data removed]"
     },
     "metadata": {},
     "output_type": "display_data"
    },
    {
     "data": {
      "text/plain": [
       "<Figure size 300x300 with 1 Axes>"
      ],
      "image/png": "[encoded data removed]"
     },
     "metadata": {},
     "output_type": "display_data"
    }
   ],
   "execution_count": 6
  },
  {
   "metadata": {},
   "cell_type": "markdown",
   "source": [
    "## prepare sentence with mask at correct location Manual use\n",
    "- If you'd like to just use the affinities, then see src/affinity/corr_matrix_new.py.\n",
    "- Here is an example of global affinity calculation\n",
    "- See `get_score_matrix_new()` for local affinity calculation\n"
   ],
   "id": "80fd66c050de8ebf"
  },
  {
   "metadata": {},
   "cell_type": "code",
   "outputs": [],
   "execution_count": null,
   "source": [
    "from lib.scoring_fns import probability, surprisal\n",
    "from affinity.corr_matrix_new import get_logits_for_masked_sent, compute_surprisal_for_logits\n",
    "from affinity.tokenization import Sentence\n",
    "\n",
    "s = Sentence(s1)    # Sentence class takes care of tokenization\n",
    "\n",
    "# prepare sentence with mask at correct location\n",
    "# punctuation is preserved, but will not be part of the mask\n",
    "# this will error if your word is not actually present or if your word is multi-tokenized\n",
    "# masked_sent keeps track of what was masked\n",
    "masked_sent = s.get_input_with_word_masked(\"Green\")\n",
    "\n",
    "# obtain the logits at the masked position\n",
    "logits = get_logits_for_masked_sent(masked_sent)\n",
    "\n",
    "# compute probability of the original word\n",
    "surp = compute_surprisal_for_logits(\n",
    "    masked_sent,\n",
    "    logits,\n",
    "    probability\n",
    "    # surprisal     # can also use surprisal\n",
    ")\n",
    "print(surp)"
   ],
   "id": "e4841741fd7b6722"
  },
  {
   "metadata": {},
   "cell_type": "code",
   "outputs": [],
   "execution_count": null,
   "source": "",
   "id": "df917bc2a2eb1c56"
  }
 ],
 "metadata": {
  "kernelspec": {
   "display_name": "Python 3",
   "language": "python",
   "name": "python3"
  },
  "language_info": {
   "codemirror_mode": {
    "name": "ipython",
    "version": 2
   },
   "file_extension": ".py",
   "mimetype": "text/x-python",
   "name": "python",
   "nbconvert_exporter": "python",
   "pygments_lexer": "ipython2",
   "version": "2.7.6"
  }
 },
 "nbformat": 4,
 "nbformat_minor": 5
}
