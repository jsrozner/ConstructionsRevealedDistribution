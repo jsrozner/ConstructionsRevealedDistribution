{
 "cells": [
  {
   "metadata": {
    "collapsed": true,
    "ExecuteTime": {
     "end_time": "2025-02-15T09:38:49.970827Z",
     "start_time": "2025-02-15T09:38:49.954567Z"
    }
   },
   "cell_type": "code",
   "outputs": [],
   "execution_count": 2,
   "source": [
    "%load_ext autoreload\n",
    "%autoreload 2\n"
   ],
   "id": "initial_id"
  },
  {
   "metadata": {
    "ExecuteTime": {
     "end_time": "2025-02-15T09:38:49.984213Z",
     "start_time": "2025-02-15T09:38:49.974176Z"
    }
   },
   "cell_type": "code",
   "source": [
    "# - dataset -> read in\n",
    "# select constructions\n",
    "# run code using idioms to identify the word spans\n",
    "# get scores\n",
    "# plot as boxplots?"
   ],
   "id": "486e7fe22cdab4c0",
   "outputs": [],
   "execution_count": 3
  },
  {
   "metadata": {
    "ExecuteTime": {
     "end_time": "2025-02-15T09:38:55.751227Z",
     "start_time": "2025-02-15T09:38:55.725329Z"
    }
   },
   "cell_type": "code",
   "source": [
    "from proj.cxs_are_revealed.paper.cxns_in_distrib.exp2_cogs import read_csv_by_column, cogs_initial_clean\n",
    "\n",
    "\"\"\"\n",
    "Read in original cogs dataset\n",
    "\"\"\"\n",
    "from proj.cxs_are_revealed.paper.data_config import Exp2Cogs\n",
    "from typing import List\n",
    "from proj.cxs_are_revealed.paper.cxns_in_distrib.exp2_cogs import DataRow\n",
    "\n",
    "# Example usage\n",
    "csv_data = read_csv_by_column(Exp2Cogs.original_csv)\n",
    "print(csv_data.keys())\n"
   ],
   "id": "fe79fff6e160fb78",
   "outputs": [],
   "execution_count": 5
  },
  {
   "metadata": {
    "ExecuteTime": {
     "end_time": "2025-02-15T09:38:55.775941Z",
     "start_time": "2025-02-15T09:38:55.755494Z"
    }
   },
   "cell_type": "code",
   "source": [
    "\n",
    "\"\"\"\n",
    "Process part 1 - get data into another csv for manual review\n",
    "# filter parenthetical\n",
    "# check num periods\n",
    "# check that the words are present\n",
    "# remove bad rows\n",
    "\"\"\"\n",
    "\n",
    "tgt_keys_str_map = {\n",
    "    'Let Alone': 'let alone',\n",
    "    'Way Manner': 'way',\n",
    "    'Conative': 'at',\n",
    "    'Comparative Correlative ': 'the',\n",
    "    'Much Less ': 'much less',\n",
    "    'Causative with CxN': 'with'\n",
    "}\n",
    "\n"
   ],
   "id": "118aa48fd6879a9b",
   "outputs": [],
   "execution_count": 6
  },
  {
   "metadata": {
    "ExecuteTime": {
     "end_time": "2025-02-15T09:38:55.828705Z",
     "start_time": "2025-02-15T09:38:55.801714Z"
    }
   },
   "cell_type": "code",
   "source": [
    "\n",
    "def get_all_data(csv_data):\n",
    "    all_data: List[DataRow] = []\n",
    "    for k, words in tgt_keys_str_map.items():\n",
    "        unclean_data = csv_data[k]\n",
    "        clean_data = cogs_initial_clean(unclean_data, k, words)\n",
    "        all_data.extend(clean_data)\n",
    "    return all_data\n",
    "\n",
    "all_data = get_all_data(csv_data)\n",
    "\n",
    "# uncomment to reproduce\n",
    "# write_data_rows_to_csv(all_data, Exp2Cogs.cogs_parsed)\n"
   ],
   "id": "c9a579d8e3cbe271",
   "outputs": [],
   "execution_count": 8
  },
  {
   "metadata": {
    "ExecuteTime": {
     "end_time": "2025-02-15T09:38:55.851031Z",
     "start_time": "2025-02-15T09:38:55.832360Z"
    }
   },
   "cell_type": "code",
   "source": [
    "from proj.cxs_are_revealed.paper.cxns_in_distrib.exp2_cogs import read_csv_row_by_row, get_all_data_clean\n",
    "\n",
    "# then we manually processed data by hand in google sheets where there were errors\n",
    "# read in the data\n",
    "csv_data_clean = read_csv_row_by_row(Exp2Cogs.cogs_parsed_final)\n",
    "print(csv_data_clean[0])\n",
    "\n",
    "# clean it up\n",
    "all_cogs_clean = get_all_data_clean(csv_data_clean)\n",
    "\n"
   ],
   "id": "604faa1fe3cad32d",
   "outputs": [
    {
     "data": {
      "text/plain": [
       "'\\nwe manually processed data by hand in google sheets where there were errors\\n'"
      ]
     },
     "execution_count": 9,
     "metadata": {},
     "output_type": "execute_result"
    }
   ],
   "execution_count": 9
  },
  {
   "metadata": {
    "ExecuteTime": {
     "end_time": "2025-02-15T09:38:56.233718Z",
     "start_time": "2025-02-15T09:38:56.213526Z"
    }
   },
   "cell_type": "code",
   "source": "all_cogs_clean[0]",
   "id": "fbf68f59624e1302",
   "outputs": [
    {
     "data": {
      "text/plain": [
       "CogsEntry(id=0, cx_type='Let Alone', sent='Most wives are too bloody old, let alone mothers.', tgt_words=[6, 7], tgt_word_offsets=[(31, 34), (35, 40)])"
      ]
     },
     "execution_count": 12,
     "metadata": {},
     "output_type": "execute_result"
    }
   ],
   "execution_count": 12
  }
 ],
 "metadata": {
  "kernelspec": {
   "display_name": "Python 3",
   "language": "python",
   "name": "python3"
  },
  "language_info": {
   "codemirror_mode": {
    "name": "ipython",
    "version": 2
   },
   "file_extension": ".py",
   "mimetype": "text/x-python",
   "name": "python",
   "nbconvert_exporter": "python",
   "pygments_lexer": "ipython2",
   "version": "2.7.6"
  }
 },
 "nbformat": 4,
 "nbformat_minor": 5
}
