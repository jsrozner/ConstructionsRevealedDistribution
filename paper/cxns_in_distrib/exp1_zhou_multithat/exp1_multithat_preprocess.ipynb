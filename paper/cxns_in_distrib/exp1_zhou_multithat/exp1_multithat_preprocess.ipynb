{
 "cells": [
  {
   "cell_type": "code",
   "id": "initial_id",
   "metadata": {
    "collapsed": true,
    "ExecuteTime": {
     "end_time": "2025-03-03T21:33:35.671503Z",
     "start_time": "2025-03-03T21:33:35.660628Z"
    }
   },
   "source": [
    "%load_ext autoreload\n",
    "%autoreload 2\n",
    "\n",
    "\"\"\"\n",
    "Prepare multithat dataset\n",
    "\"\"\"\n"
   ],
   "outputs": [
    {
     "data": {
      "text/plain": [
       "'\\nIn this file we conduct the multithat affinity analysis:\\n- we set up labels for the multithat examples (manual work outside of this)\\n- then we set up experiment to get affinities for the sentences\\n- then we run the multithat analysis\\n'"
      ]
     },
     "execution_count": 1,
     "metadata": {},
     "output_type": "execute_result"
    }
   ],
   "execution_count": 1
  },
  {
   "metadata": {},
   "cell_type": "markdown",
   "source": [
    "# prep data\n",
    "\n"
   ],
   "id": "7c3fffb4dc394173"
  },
  {
   "metadata": {
    "ExecuteTime": {
     "end_time": "2025-03-04T17:16:16.042935Z",
     "start_time": "2025-03-04T17:16:15.738979Z"
    }
   },
   "cell_type": "code",
   "source": [
    "from corpus_tools.zhou_cxs_so_difficult.corpus_leonie_eap_aap_cec import get_clean_exs\n",
    "from proj.cxs_are_revealed.paper.data_config import Exp1Zhou\n",
    "\n",
    "all_exs = get_clean_exs(Exp1Zhou.zhou_original_xlsx)\n",
    "print(len(all_exs))\n"
   ],
   "id": "da9de73f6a099e8c",
   "outputs": [
    {
     "ename": "FileNotFoundError",
     "evalue": "[Errno 2] No such file or directory: '../exp1_zhou/data/leonie_so_that_construction.xlsx'",
     "output_type": "error",
     "traceback": [
      "\u001B[0;31m---------------------------------------------------------------------------\u001B[0m",
      "\u001B[0;31mFileNotFoundError\u001B[0m                         Traceback (most recent call last)",
      "Cell \u001B[0;32mIn[1], line 3\u001B[0m\n\u001B[1;32m      1\u001B[0m \u001B[38;5;28;01mfrom\u001B[39;00m \u001B[38;5;21;01mcorpus_tools\u001B[39;00m\u001B[38;5;21;01m.\u001B[39;00m\u001B[38;5;21;01mzhou_cxs_so_difficult\u001B[39;00m\u001B[38;5;21;01m.\u001B[39;00m\u001B[38;5;21;01mcorpus_leonie_eap_aap_cec\u001B[39;00m \u001B[38;5;28;01mimport\u001B[39;00m get_clean_exs\n\u001B[0;32m----> 3\u001B[0m all_exs \u001B[38;5;241m=\u001B[39m get_clean_exs(\u001B[38;5;124m\"\u001B[39m\u001B[38;5;124m../exp1_zhou/data/leonie_so_that_construction.xlsx\u001B[39m\u001B[38;5;124m\"\u001B[39m)\n\u001B[1;32m      4\u001B[0m \u001B[38;5;28mprint\u001B[39m(\u001B[38;5;28mlen\u001B[39m(all_exs))\n",
      "File \u001B[0;32m~/docs_local/research/projects/research_constructions/constructions_repo/proj/cxs_are_revealed/src/corpus_tools/zhou_cxs_so_difficult/corpus_leonie_eap_aap_cec.py:18\u001B[0m, in \u001B[0;36mget_clean_exs\u001B[0;34m(path, print_errors)\u001B[0m\n\u001B[1;32m     17\u001B[0m \u001B[38;5;28;01mdef\u001B[39;00m \u001B[38;5;21mget_clean_exs\u001B[39m(path: Path, print_errors \u001B[38;5;241m=\u001B[39m \u001B[38;5;28;01mFalse\u001B[39;00m) \u001B[38;5;241m-\u001B[39m\u001B[38;5;241m>\u001B[39m List[BaseExample]:\n\u001B[0;32m---> 18\u001B[0m     all_exs \u001B[38;5;241m=\u001B[39m get_all_exs(path,print_errors)\n\u001B[1;32m     19\u001B[0m     \u001B[38;5;28mprint\u001B[39m(\u001B[38;5;124mf\u001B[39m\u001B[38;5;124m\"\u001B[39m\u001B[38;5;124mInitially read in \u001B[39m\u001B[38;5;132;01m{\u001B[39;00m\u001B[38;5;28mlen\u001B[39m(all_exs)\u001B[38;5;132;01m}\u001B[39;00m\u001B[38;5;124m examples\u001B[39m\u001B[38;5;124m\"\u001B[39m)\n\u001B[1;32m     20\u001B[0m     exs_no_errors \u001B[38;5;241m=\u001B[39m \u001B[38;5;28mlist\u001B[39m(\u001B[38;5;28mfilter\u001B[39m(\u001B[38;5;28;01mlambda\u001B[39;00m x: \u001B[38;5;129;01mnot\u001B[39;00m x\u001B[38;5;241m.\u001B[39mhas_error, all_exs))\n",
      "File \u001B[0;32m~/docs_local/research/projects/research_constructions/constructions_repo/proj/cxs_are_revealed/src/corpus_tools/zhou_cxs_so_difficult/corpus_leonie_eap_aap_cec.py:25\u001B[0m, in \u001B[0;36mget_all_exs\u001B[0;34m(file, print_errors)\u001B[0m\n\u001B[1;32m     24\u001B[0m \u001B[38;5;28;01mdef\u001B[39;00m \u001B[38;5;21mget_all_exs\u001B[39m(file: Path, print_errors \u001B[38;5;241m=\u001B[39m \u001B[38;5;28;01mFalse\u001B[39;00m):\n\u001B[0;32m---> 25\u001B[0m     data \u001B[38;5;241m=\u001B[39m pd\u001B[38;5;241m.\u001B[39mread_excel(file)\n\u001B[1;32m     26\u001B[0m     all_exs \u001B[38;5;241m=\u001B[39m []\n\u001B[1;32m     27\u001B[0m     err_ct \u001B[38;5;241m=\u001B[39m \u001B[38;5;241m0\u001B[39m\n",
      "File \u001B[0;32m/opt/homebrew/Caskroom/miniconda/base/envs/2024_coelm/lib/python3.12/site-packages/pandas/io/excel/_base.py:495\u001B[0m, in \u001B[0;36mread_excel\u001B[0;34m(io, sheet_name, header, names, index_col, usecols, dtype, engine, converters, true_values, false_values, skiprows, nrows, na_values, keep_default_na, na_filter, verbose, parse_dates, date_parser, date_format, thousands, decimal, comment, skipfooter, storage_options, dtype_backend, engine_kwargs)\u001B[0m\n\u001B[1;32m    493\u001B[0m \u001B[38;5;28;01mif\u001B[39;00m \u001B[38;5;129;01mnot\u001B[39;00m \u001B[38;5;28misinstance\u001B[39m(io, ExcelFile):\n\u001B[1;32m    494\u001B[0m     should_close \u001B[38;5;241m=\u001B[39m \u001B[38;5;28;01mTrue\u001B[39;00m\n\u001B[0;32m--> 495\u001B[0m     io \u001B[38;5;241m=\u001B[39m ExcelFile(\n\u001B[1;32m    496\u001B[0m         io,\n\u001B[1;32m    497\u001B[0m         storage_options\u001B[38;5;241m=\u001B[39mstorage_options,\n\u001B[1;32m    498\u001B[0m         engine\u001B[38;5;241m=\u001B[39mengine,\n\u001B[1;32m    499\u001B[0m         engine_kwargs\u001B[38;5;241m=\u001B[39mengine_kwargs,\n\u001B[1;32m    500\u001B[0m     )\n\u001B[1;32m    501\u001B[0m \u001B[38;5;28;01melif\u001B[39;00m engine \u001B[38;5;129;01mand\u001B[39;00m engine \u001B[38;5;241m!=\u001B[39m io\u001B[38;5;241m.\u001B[39mengine:\n\u001B[1;32m    502\u001B[0m     \u001B[38;5;28;01mraise\u001B[39;00m \u001B[38;5;167;01mValueError\u001B[39;00m(\n\u001B[1;32m    503\u001B[0m         \u001B[38;5;124m\"\u001B[39m\u001B[38;5;124mEngine should not be specified when passing \u001B[39m\u001B[38;5;124m\"\u001B[39m\n\u001B[1;32m    504\u001B[0m         \u001B[38;5;124m\"\u001B[39m\u001B[38;5;124man ExcelFile - ExcelFile already has the engine set\u001B[39m\u001B[38;5;124m\"\u001B[39m\n\u001B[1;32m    505\u001B[0m     )\n",
      "File \u001B[0;32m/opt/homebrew/Caskroom/miniconda/base/envs/2024_coelm/lib/python3.12/site-packages/pandas/io/excel/_base.py:1550\u001B[0m, in \u001B[0;36mExcelFile.__init__\u001B[0;34m(self, path_or_buffer, engine, storage_options, engine_kwargs)\u001B[0m\n\u001B[1;32m   1548\u001B[0m     ext \u001B[38;5;241m=\u001B[39m \u001B[38;5;124m\"\u001B[39m\u001B[38;5;124mxls\u001B[39m\u001B[38;5;124m\"\u001B[39m\n\u001B[1;32m   1549\u001B[0m \u001B[38;5;28;01melse\u001B[39;00m:\n\u001B[0;32m-> 1550\u001B[0m     ext \u001B[38;5;241m=\u001B[39m inspect_excel_format(\n\u001B[1;32m   1551\u001B[0m         content_or_path\u001B[38;5;241m=\u001B[39mpath_or_buffer, storage_options\u001B[38;5;241m=\u001B[39mstorage_options\n\u001B[1;32m   1552\u001B[0m     )\n\u001B[1;32m   1553\u001B[0m     \u001B[38;5;28;01mif\u001B[39;00m ext \u001B[38;5;129;01mis\u001B[39;00m \u001B[38;5;28;01mNone\u001B[39;00m:\n\u001B[1;32m   1554\u001B[0m         \u001B[38;5;28;01mraise\u001B[39;00m \u001B[38;5;167;01mValueError\u001B[39;00m(\n\u001B[1;32m   1555\u001B[0m             \u001B[38;5;124m\"\u001B[39m\u001B[38;5;124mExcel file format cannot be determined, you must specify \u001B[39m\u001B[38;5;124m\"\u001B[39m\n\u001B[1;32m   1556\u001B[0m             \u001B[38;5;124m\"\u001B[39m\u001B[38;5;124man engine manually.\u001B[39m\u001B[38;5;124m\"\u001B[39m\n\u001B[1;32m   1557\u001B[0m         )\n",
      "File \u001B[0;32m/opt/homebrew/Caskroom/miniconda/base/envs/2024_coelm/lib/python3.12/site-packages/pandas/io/excel/_base.py:1402\u001B[0m, in \u001B[0;36minspect_excel_format\u001B[0;34m(content_or_path, storage_options)\u001B[0m\n\u001B[1;32m   1399\u001B[0m \u001B[38;5;28;01mif\u001B[39;00m \u001B[38;5;28misinstance\u001B[39m(content_or_path, \u001B[38;5;28mbytes\u001B[39m):\n\u001B[1;32m   1400\u001B[0m     content_or_path \u001B[38;5;241m=\u001B[39m BytesIO(content_or_path)\n\u001B[0;32m-> 1402\u001B[0m \u001B[38;5;28;01mwith\u001B[39;00m get_handle(\n\u001B[1;32m   1403\u001B[0m     content_or_path, \u001B[38;5;124m\"\u001B[39m\u001B[38;5;124mrb\u001B[39m\u001B[38;5;124m\"\u001B[39m, storage_options\u001B[38;5;241m=\u001B[39mstorage_options, is_text\u001B[38;5;241m=\u001B[39m\u001B[38;5;28;01mFalse\u001B[39;00m\n\u001B[1;32m   1404\u001B[0m ) \u001B[38;5;28;01mas\u001B[39;00m handle:\n\u001B[1;32m   1405\u001B[0m     stream \u001B[38;5;241m=\u001B[39m handle\u001B[38;5;241m.\u001B[39mhandle\n\u001B[1;32m   1406\u001B[0m     stream\u001B[38;5;241m.\u001B[39mseek(\u001B[38;5;241m0\u001B[39m)\n",
      "File \u001B[0;32m/opt/homebrew/Caskroom/miniconda/base/envs/2024_coelm/lib/python3.12/site-packages/pandas/io/common.py:882\u001B[0m, in \u001B[0;36mget_handle\u001B[0;34m(path_or_buf, mode, encoding, compression, memory_map, is_text, errors, storage_options)\u001B[0m\n\u001B[1;32m    873\u001B[0m         handle \u001B[38;5;241m=\u001B[39m \u001B[38;5;28mopen\u001B[39m(\n\u001B[1;32m    874\u001B[0m             handle,\n\u001B[1;32m    875\u001B[0m             ioargs\u001B[38;5;241m.\u001B[39mmode,\n\u001B[0;32m   (...)\u001B[0m\n\u001B[1;32m    878\u001B[0m             newline\u001B[38;5;241m=\u001B[39m\u001B[38;5;124m\"\u001B[39m\u001B[38;5;124m\"\u001B[39m,\n\u001B[1;32m    879\u001B[0m         )\n\u001B[1;32m    880\u001B[0m     \u001B[38;5;28;01melse\u001B[39;00m:\n\u001B[1;32m    881\u001B[0m         \u001B[38;5;66;03m# Binary mode\u001B[39;00m\n\u001B[0;32m--> 882\u001B[0m         handle \u001B[38;5;241m=\u001B[39m \u001B[38;5;28mopen\u001B[39m(handle, ioargs\u001B[38;5;241m.\u001B[39mmode)\n\u001B[1;32m    883\u001B[0m     handles\u001B[38;5;241m.\u001B[39mappend(handle)\n\u001B[1;32m    885\u001B[0m \u001B[38;5;66;03m# Convert BytesIO or file objects passed with an encoding\u001B[39;00m\n",
      "\u001B[0;31mFileNotFoundError\u001B[0m: [Errno 2] No such file or directory: '../exp1_zhou/data/leonie_so_that_construction.xlsx'"
     ]
    }
   ],
   "execution_count": 1
  },
  {
   "metadata": {
    "ExecuteTime": {
     "end_time": "2025-02-10T19:44:53.030209Z",
     "start_time": "2025-02-10T19:44:53.005435Z"
    }
   },
   "cell_type": "code",
   "source": [
    "from rozlib.libs.common.data.utils_dataclass import write_dataclass_to_csv\n",
    "\n",
    "\n",
    "def write_multi_that_to_csv():\n",
    "    # f = data_dir/\"multithat_original_parse.csv\"\n",
    "    f = Exp1Zhou._exp1_multithat / \"multithat_original_parse.csv\"\n",
    "    all_multithat = [e for e in all_exs if e.multi_that]\n",
    "\n",
    "    write_dataclass_to_csv(all_multithat, f)\n",
    "\n",
    "# write_multi_that_to_csv()\n"
   ],
   "id": "11413a81fd4c99fc",
   "outputs": [],
   "execution_count": 26
  },
  {
   "metadata": {
    "ExecuteTime": {
     "end_time": "2025-02-10T19:44:54.899751Z",
     "start_time": "2025-02-10T19:44:54.875102Z"
    }
   },
   "cell_type": "code",
   "source": [
    "\n",
    "from proj.cxs_are_revealed.paper.cxns_in_distrib.exp1_zhou_multithat import print_multithat_info\n",
    "\n",
    "print_multithat_info(all_exs)\n"
   ],
   "id": "40c55e8df77f66f9",
   "outputs": [
    {
     "name": "stdout",
     "output_type": "stream",
     "text": [
      "3\n",
      "0 Marie 1 is 2 so 3 amazed 4 that 5 he 6 came 7 up 8 with 9 that 10 so 11 quickly.\n",
      "6\n",
      "0 The 1 man 2 was 3 so 4 annoyed 5 that 6 he 7 slept 8 hungry 9 and 10 the 11 next 12 morning 13 he 14 chewed 15 so 16 much 17 of 18 a 19 plant 20 that 21 he 22 took 23 on 24 Shaman 25 powers.\n",
      "19\n",
      "0 He 1 was 2 so 3 concerned 4 that 5 there 6 were 7 provisions 8 in 9 the 10 bill 11 that 12 were 13 open 14 to 15 abuse.\n",
      "30\n",
      "0 On 1 the 2 second 3 occasion, 4 Li 5 informed 6 him 7 of 8 Emperor 9 Wu's 10 passing, 11 and 12 Su 13 was 14 so 15 despondent 16 that 17 in 18 mourning 19 that 20 he 21 vomited 22 blood.\n",
      "69\n",
      "0 Susan 1 feels 2 so 3 guilty 4 that 5 Mike 6 fell 7 asleep 8 at 9 the 10 reception 11 due 12 to 13 all 14 the 15 night 16 jobs 17 he 18 has 19 done 20 for 21 her 22 plans, 23 so 24 she 25 asks 26 the 27 reverend 28 if 29 he 30 has 31 time 32 later 33 that 34 night.\n",
      "72\n",
      "0 For 1 example, 2 Zhu 3 Youliang 4 () 5 the 6 Prince 7 of 8 Heng, 9 an 10 older 11 cousin 12 of 13 the 14 emperor's, 15 was 16 so 17 honored 18 at 19 court 20 at 21 that 22 time 23 that 24 even 25 Li 26 Yu's 27 superior, 28 the 29 chief 30 of 31 staff 32 Li 33 Zhen, 34 kneeled 35 to 36 him.\n",
      "76\n",
      "0 He 1 was 2 so 3 impressed 4 that 5 he 6 started 7 a 8 craze 9 for 10 the 11 test 12 that 13 has 14 never 15 diminished.\n",
      "78\n",
      "0 He 1 was 2 so 3 indebted 4 that 5 he 6 sold 7 his 8 Irish 9 estates 10 and 11 used 12 that 13 money 14 to 15 invest 16 in 17 South 18 Sea 19 Company 20 stock.\n",
      "84\n",
      "0 When 1 he 2 nevertheless 3 published 4 a 5 second 6 edition 7 in 8 1794, 9 the 10 censor 11 was 12 so 13 irate 14 that 15 he 16 arranged 17 for 18 a 19 royal 20 order 21 that 22 required 23 Kant 24 never 25 to 26 publish 27 or 28 even 29 speak 30 publicly 31 about 32 religion.\n",
      "87\n",
      "0 Karen 1 tells 2 her 3 that 4 she 5 felt 6 so 7 jealous 8 that 9 Ivy 10 had 11 the 12 role 13 and 14 that 15 she 16 did 17 great.\n",
      "104\n",
      "0 The 1 Australian 2 government 3 was 4 so 5 resentful 6 of 7 this 8 case 9 that 10 it 11 insisted 12 that 13 none 14 of 15 its 16 troops 17 would 18 be 19 tried 20 by 21 the 22 British 23 military 24 during 25 World 26 War 27 I.\n",
      "115\n",
      "0 Evidence 1 is 2 so 3 strong 4 that 5 the 6 Spanish 7 Crown 8 reclaimed 9 the 10 property 11 after 12 the 13 British 14 exited 15 Florida 16 in 17 1783, 18 and 19 that 20 it 21 was 22 sold 23 by 24 auction 25 in 26 1791.\n",
      "122\n",
      "0 Li 1 shiji 2 was 3 so 4 thankful 5 that 6 he 7 wept 8 and 9 bit 10 his 11 finger 12 so 13 hard 14 that 15 he 16 bled.\n",
      "138\n",
      "0 By 1 the 2 4th 3 century 4 BC 5 the 6 Veneti 7 had 8 been 9 so 10 Celticized 11 that 12 Polybius 13 wrote 14 that 15 the 16 Veneti 17 of 18 the 19 2nd 20 century 21 BC 22 were 23 identical 24 to 25 the 26 Gauls 27 except 28 for 29 language.\n",
      "154\n",
      "0 Trump 1 was 2 so 3 active 4 in 5 Jewish 6 and 7 Israeli 8 causes 9 that 10 some 11 believed 12 that 13 he 14 belonged 15 to 16 the 17 Jewish 18 faith.\n",
      "155\n",
      "0 Capablanca 1 also 2 wrote 3 that 4 Lasker 5 was 6 so 7 adaptable 8 that 9 he 10 played 11 in 12 no 13 definite 14 style, 15 and 16 that 17 he 18 was 19 both 20 a 21 tenacious 22 defender 23 and 24 a 25 very 26 efficient 27 finisher 28 of 29 his 30 own 31 attacks.\n",
      "172\n",
      "0 Kujau 1 also 2 began 3 forging 4 a 5 series 6 of 7 war 8 poems 9 by 10 Hitler, 11 which 12 were 13 so 14 amateurish 15 that 16 Kujau 17 later 18 admitted 19 that 20 \"a 21 fourteen-year-old 22 collector 23 would 24 have 25 recognized 26 it 27 as 28 a 29 forgery\".\n",
      "174\n",
      "0 Some 1 programs 2 were 3 so 4 ambiguous 5 that 6 Elmore 7 wrote 8 that 9 \"most 10 program 11 developers 12 were 13 simply 14 not 15 clear 16 what 17 their 18 programs 19 would 20 actually 21 look 22 like 23 in 24 a 25 fully 26 operational 27 form\".\n",
      "183\n",
      "0 This 1 model 2 became 3 so 4 appealing 5 that 6 pure 7 software 8 vendors 9 such 10 as 11 Stonesoft 12 or 13 CheckPoint 14 Software 15 began 16 shipping 17 pre-built 18 operating 19 systems 20 with 21 their 22 security 23 applications 24 after 25 a 26 long 27 history 28 of 29 selling 30 software 31 that 32 had 33 to 34 be 35 installed 36 on 37 existing 38 customer 39 hardware 40 and 41 customer 42 operating 43 systems.\n",
      "223\n",
      "0 The 1 outlook 2 for 3 Swiss 4 Roman 5 Catholics 6 during 7 the 8 \"Kulturkampf\" 9 was 10 so 11 bleak 12 that 13 the 14 ancient 15 Abbeys 16 of 17 Einsiedeln 18 and 19 Engelberg 20 began 21 a 22 program 23 of 24 establishing 25 new 26 monasteries 27 in 28 the 29 United 30 States, 31 so 32 that 33 the 34 remaining 35 Swiss 36 monasteries 37 would 38 have 39 a 40 refuge 41 if 42 they 43 were 44 all 45 exiled.\n",
      "239\n",
      "0 Summer 1 is 2 so 3 adamant 4 that 5 she 6 will 7 not 8 have 9 a 10 fling 11 with 12 her 13 boss, 14 but 15 the 16 chemistry 17 between 18 them 19 is 20 so 21 strong 22 that 23 she 24 gives 25 in.\n",
      "248\n",
      "0 When 1 I 2 first 3 read 4 the 5 first 6 chapter, 7 I 8 was 9 so 10 astounded 11 that 12 I 13 stood 14 up, 15 and 16 read 17 that 18 chapter 19 standing 20 up!\n",
      "252\n",
      "0 I 1 am 2 so 3 awed 4 that 5 what 6 I 7 felt 8 about 9 the 10 love 11 story 12 outweighed 13 the 14 negative 15 aspects 16 and 17 made 18 me 19 so 20 emotionally 21 invested 22 that 23 I 24 had 25 to 26 finish, 27 had 28 to 29 know 30 if 31 they 32 got 33 to 34 their 35 happily 36 ever 37 after.\n",
      "290\n",
      "0 I 1 was 2 always 3 so 4 irritated 5 that 6 all 7 the 8 characters 9 in 10 GW 11 were 12 boring 13 \"humans\" 14 as 15 I 16 play 17 fantasy 18 games 19 to 20 see 21 strange 22 and 23 beautiful 24 things 25 that 26 don't 27 exist 28 in 29 reality.\n",
      "300\n",
      "0 Instead 1 I 2 was 3 so 4 offended 5 that 6 Riley 7 thought 8 so 9 little 10 of 11 clues 12 fans 13 that 14 he 15 barely 16 attempted 17 to 18 keep 19 their 20 beloved 21 characters 22 the 23 same.\n"
     ]
    }
   ],
   "execution_count": 27
  },
  {
   "metadata": {
    "ExecuteTime": {
     "end_time": "2025-02-10T19:44:56.337603Z",
     "start_time": "2025-02-10T19:44:56.314444Z"
    }
   },
   "cell_type": "code",
   "source": [
    "from proj.cxs_are_revealed.paper.cxns_in_distrib.exp1_zhou_multithat import str_with_indexes\n",
    "\n",
    "# help label stuff in our external spreadsheet -> get the indices to use\n",
    "print(str_with_indexes(\"For example, Zhu Youliang the Prince of Heng, an older cousin of the emperor's, was so honored at court at that time that even Li Yu's superior, the chief of staff Li Zhen, kneeled to him.\"))\n"
   ],
   "id": "3412695c912ae10f",
   "outputs": [
    {
     "name": "stdout",
     "output_type": "stream",
     "text": [
      "0 For 1 example, 2 Zhu 3 Youliang 4 the 5 Prince 6 of 7 Heng, 8 an 9 older 10 cousin 11 of 12 the 13 emperor's, 14 was 15 so 16 honored 17 at 18 court 19 at 20 that 21 time 22 that 23 even 24 Li 25 Yu's 26 superior, 27 the 28 chief 29 of 30 staff 31 Li 32 Zhen, 33 kneeled 34 to 35 him.\n"
     ]
    }
   ],
   "execution_count": 28
  },
  {
   "metadata": {},
   "cell_type": "markdown",
   "source": "# Read back in data that was adjusted in google sheets",
   "id": "b2a01f188272051d"
  },
  {
   "metadata": {
    "ExecuteTime": {
     "end_time": "2025-02-10T19:44:57.443313Z",
     "start_time": "2025-02-10T19:44:57.418445Z"
    }
   },
   "cell_type": "code",
   "source": [
    "# Read\n",
    "from corpus_tools.zhou_cxs_so_difficult.corpus_leonie_eap_aap_cec import BaseExample\n",
    "from rozlib.libs.common.data.utils_dataclass import read_csv_to_dataclass\n",
    "\n",
    "# todo: note that sentence_orig may be wrong in the case that we modifid\n",
    "multi_that_exs = read_csv_to_dataclass(BaseExample, Exp1Zhou.cec_multithat_rozner)\n",
    "\n",
    "# modify in place\n",
    "[e._fix_self_for_csv_read() for e in multi_that_exs]\n",
    "\n",
    "print('done')"
   ],
   "id": "399bc94388f16e8f",
   "outputs": [
    {
     "name": "stdout",
     "output_type": "stream",
     "text": [
      "done\n"
     ]
    }
   ],
   "execution_count": 29
  },
  {
   "metadata": {
    "ExecuteTime": {
     "end_time": "2025-02-10T19:44:59.309913Z",
     "start_time": "2025-02-10T19:44:59.285216Z"
    }
   },
   "cell_type": "code",
   "source": [
    "# verify our POS labels\n",
    "def check_all_our_data():\n",
    "    for e in multi_that_exs:\n",
    "        print(e.id)\n",
    "        s_words = e.sentence_punct_fixed.split(\" \")\n",
    "        assert s_words[e.so_idx] == \"so\"\n",
    "        assert s_words[e.that_idx] == \"that\"\n",
    "        assert s_words[e.adj_idx] == e.adj\n",
    "        that_ct = s_words.count(\"that\")\n",
    "        assert that_ct > 1\n",
    "    print(\"ok\")\n",
    "\n",
    "check_all_our_data()\n"
   ],
   "id": "bcbcd035b062e8a5",
   "outputs": [
    {
     "name": "stdout",
     "output_type": "stream",
     "text": [
      "3010\n",
      "6\n",
      "3000\n",
      "3011\n",
      "3012\n",
      "72\n",
      "76\n",
      "78\n",
      "84\n",
      "3001\n",
      "104\n",
      "3002\n",
      "3003\n",
      "122\n",
      "3004\n",
      "138\n",
      "154\n",
      "155\n",
      "172\n",
      "174\n",
      "183\n",
      "223\n",
      "3005\n",
      "3013\n",
      "3014\n",
      "3015\n",
      "248\n",
      "3006\n",
      "3007\n",
      "3008\n",
      "3009\n",
      "ok\n"
     ]
    }
   ],
   "execution_count": 30
  },
  {
   "metadata": {},
   "cell_type": "code",
   "outputs": [],
   "execution_count": null,
   "source": [
    "from typing import List\n",
    "\n",
    "\n",
    "def write_datafile_for_cluster(data: List[BaseExample], fname: str):\n",
    "    with open(fname, 'w') as f:\n",
    "        for ex in data:\n",
    "            f.write(ex.sentence_punct_fixed + '\\n')\n",
    "\n",
    "# write_datafile_for_cluster(multi_that_exs, Exp1Zhou.cec_multithat_input)\n"
   ],
   "id": "f13e452dded56fee"
  }
 ],
 "metadata": {
  "kernelspec": {
   "display_name": "Python 3",
   "language": "python",
   "name": "python3"
  },
  "language_info": {
   "codemirror_mode": {
    "name": "ipython",
    "version": 2
   },
   "file_extension": ".py",
   "mimetype": "text/x-python",
   "name": "python",
   "nbconvert_exporter": "python",
   "pygments_lexer": "ipython2",
   "version": "2.7.6"
  }
 },
 "nbformat": 4,
 "nbformat_minor": 5
}
