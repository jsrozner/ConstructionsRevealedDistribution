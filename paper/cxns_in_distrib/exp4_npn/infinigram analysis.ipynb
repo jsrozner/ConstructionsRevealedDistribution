{
 "cells": [
  {
   "cell_type": "code",
   "id": "initial_id",
   "metadata": {
    "collapsed": true,
    "ExecuteTime": {
     "end_time": "2025-06-02T23:03:52.102250Z",
     "start_time": "2025-06-02T23:03:52.091222Z"
    }
   },
   "source": [
    "%load_ext autoreload\n",
    "%autoreload 2\n"
   ],
   "outputs": [],
   "execution_count": 1
  },
  {
   "metadata": {
    "ExecuteTime": {
     "end_time": "2025-06-02T23:03:52.112224Z",
     "start_time": "2025-06-02T23:03:52.104628Z"
    }
   },
   "cell_type": "code",
   "source": [
    "# get infinigram frequencies\n",
    "\n",
    "# read in all NPNs\n",
    "# with / without acceptability filter"
   ],
   "id": "d1be5103af1fc7ba",
   "outputs": [],
   "execution_count": 2
  },
  {
   "metadata": {
    "ExecuteTime": {
     "end_time": "2025-06-02T23:08:49.940596Z",
     "start_time": "2025-06-02T23:08:49.912779Z"
    }
   },
   "cell_type": "code",
   "source": [
    "from proj.cxs_are_revealed.paper.data_config import Exp4NPN\n",
    "from proj.cxs_are_revealed.paper.proj_common.npns import get_npn_data\n",
    "\n",
    "npn_data = get_npn_data(\n",
    "    Exp4NPN.npn_gpt_outputs_v2_fixed,\n",
    "    Exp4NPN.npn_acceptability_v2,\n",
    "    min_acceptability=4,\n",
    "    output_has_noun_rep=False,\n",
    "    do_filter_gpt_generations=False\n",
    ")\n",
    "# npn_data_filtered = get_npn_data(\n",
    "#     Exp6NPN.npn_gpt_outputs,\n",
    "#     Exp6NPN.npn_acceptability_ratings_csv,\n",
    "#     # None,\n",
    "#     output_has_noun_rep=False,\n",
    "# )\n"
   ],
   "id": "62ff17932557f88e",
   "outputs": [
    {
     "name": "stdout",
     "output_type": "stream",
     "text": [
      "reading from gpt_output_file - before filtering 392\n",
      "after filtering (did filter = False), 392\n",
      "392\n",
      "removed Counter({'rating_by': 46, 'rating_to': 44, 'rating_upon': 33, 'rating_after': 25})\n",
      "totals after remove Counter({'after': 73, 'upon': 65, 'to': 54, 'by': 52})\n"
     ]
    }
   ],
   "execution_count": 17
  },
  {
   "metadata": {
    "ExecuteTime": {
     "end_time": "2025-06-02T23:08:50.451117Z",
     "start_time": "2025-06-02T23:08:50.425848Z"
    }
   },
   "cell_type": "code",
   "source": "len(npn_data)",
   "id": "ce3d43e8c9578c18",
   "outputs": [
    {
     "data": {
      "text/plain": [
       "244"
      ]
     },
     "execution_count": 18,
     "metadata": {},
     "output_type": "execute_result"
    }
   ],
   "execution_count": 18
  },
  {
   "metadata": {
    "ExecuteTime": {
     "end_time": "2025-06-02T23:08:50.898475Z",
     "start_time": "2025-06-02T23:08:50.873804Z"
    }
   },
   "cell_type": "code",
   "source": [
    "from proj.cxs_are_revealed.paper.proj_common.npn_dataset_generation.npn_utils import GPTOutput\n",
    "from tqdm import tqdm\n",
    "from typing import Dict, List\n",
    "from rozlib.libs.api.api_infinigram import check_infinigram\n",
    "\n",
    "def get_freq_dict(gpt_outputs: List[GPTOutput]):\n",
    "    freq_dict: Dict[str, int] = {}\n",
    "    for npn in tqdm(gpt_outputs):\n",
    "        tgt_str = f\"{npn.noun} {npn.prep} {npn.noun}\"\n",
    "        assert tgt_str.lower() in npn.output.lower()\n",
    "        try:\n",
    "            # print(f'check {tgt_str}')\n",
    "            inf_result = check_infinigram(tgt_str, retries=10, sleep_time=0.4)\n",
    "            # print(inf_result)\n",
    "            freq_dict[tgt_str] = inf_result.count\n",
    "        except Exception as e:\n",
    "            print(e)\n",
    "            print('inf query failed')\n",
    "    return freq_dict"
   ],
   "id": "d5216b78ab1a9df1",
   "outputs": [],
   "execution_count": 19
  },
  {
   "metadata": {
    "ExecuteTime": {
     "end_time": "2025-06-02T23:08:51.514532Z",
     "start_time": "2025-06-02T23:08:51.486476Z"
    }
   },
   "cell_type": "code",
   "source": [
    "from proj.cxs_are_revealed.paper.cxns_in_distrib import load_dict_from_file\n",
    "\n",
    "# freqs = get_freq_dict(npn_data)\n",
    "# save_dict_to_file(freqs, Exp6NPN.npn_infingram)\n",
    "# save_dict_to_file(freqs, Exp4NPN.npn_roberta_infinigram)\n",
    "freqs = load_dict_from_file(Exp4NPN.npn_roberta_infinigram)\n"
   ],
   "id": "1e6d15486fa26087",
   "outputs": [],
   "execution_count": 20
  },
  {
   "metadata": {
    "ExecuteTime": {
     "end_time": "2025-06-02T23:08:52.553796Z",
     "start_time": "2025-06-02T23:08:52.528788Z"
    }
   },
   "cell_type": "code",
   "source": "print(len(freqs.keys()))",
   "id": "e485e79c1928fd12",
   "outputs": [
    {
     "name": "stdout",
     "output_type": "stream",
     "text": [
      "392\n"
     ]
    }
   ],
   "execution_count": 21
  },
  {
   "metadata": {
    "ExecuteTime": {
     "end_time": "2025-06-02T23:08:53.437782Z",
     "start_time": "2025-06-02T23:08:53.410754Z"
    }
   },
   "cell_type": "code",
   "source": [
    "from pprint import pp\n",
    "\n",
    "all_res = [(x[0], x[1]) for x in freqs.items()]\n",
    "pp(sorted(all_res, key=lambda x: x[0]))"
   ],
   "id": "512b77a02a617eac",
   "outputs": [
    {
     "name": "stdout",
     "output_type": "stream",
     "text": [
      "[('acronym after acronym', 5),\n",
      " ('acronym by acronym', 3),\n",
      " ('acronym to acronym', 3),\n",
      " ('acronym upon acronym', 3),\n",
      " ('ambiguity after ambiguity', 0),\n",
      " ('ambiguity by ambiguity', 0),\n",
      " ('ambiguity to ambiguity', 4),\n",
      " ('ambiguity upon ambiguity', 5),\n",
      " ('annoying after annoying', 0),\n",
      " ('annoying by annoying', 0),\n",
      " ('annoying to annoying', 0),\n",
      " ('annoying upon annoying', 0),\n",
      " ('asteroid after asteroid', 8),\n",
      " ('asteroid by asteroid', 1),\n",
      " ('asteroid to asteroid', 100),\n",
      " ('asteroid upon asteroid', 0),\n",
      " ('automation after automation', 0),\n",
      " ('automation by automation', 0),\n",
      " ('automation to automation', 4),\n",
      " ('automation upon automation', 0),\n",
      " ('beginning after beginning', 1),\n",
      " ('beginning by beginning', 0),\n",
      " ('beginning to beginning', 45),\n",
      " ('beginning upon beginning', 0),\n",
      " ('bible after bible', 1),\n",
      " ('bible by bible', 0),\n",
      " ('bible to bible', 9),\n",
      " ('bible upon bible', 0),\n",
      " ('binge after binge', 13),\n",
      " ('binge by binge', 1),\n",
      " ('binge to binge', 11),\n",
      " ('binge upon binge', 0),\n",
      " ('butt after butt', 17),\n",
      " ('butt by butt', 6),\n",
      " ('butt to butt', 278),\n",
      " ('butt upon butt', 0),\n",
      " ('cable after cable', 67),\n",
      " ('cable by cable', 43),\n",
      " ('cable to cable', 292),\n",
      " ('cable upon cable', 1),\n",
      " ('catching after catching', 0),\n",
      " ('catching by catching', 0),\n",
      " ('catching to catching', 0),\n",
      " ('catching upon catching', 0),\n",
      " ('chin after chin', 9),\n",
      " ('chin by chin', 3),\n",
      " ('chin to chin', 186),\n",
      " ('chin upon chin', 4),\n",
      " ('clergy after clergy', 0),\n",
      " ('clergy by clergy', 0),\n",
      " ('clergy to clergy', 1),\n",
      " ('clergy upon clergy', 0),\n",
      " ('climax after climax', 189),\n",
      " ('climax by climax', 0),\n",
      " ('climax to climax', 51),\n",
      " ('climax upon climax', 30),\n",
      " ('cm after cm', 0),\n",
      " ('cm by cm', 45),\n",
      " ('cm to cm', 20),\n",
      " ('cm upon cm', 0),\n",
      " ('combustion after combustion', 0),\n",
      " ('combustion by combustion', 7),\n",
      " ('combustion to combustion', 7),\n",
      " ('combustion upon combustion', 0),\n",
      " ('comp after comp', 12),\n",
      " ('comp by comp', 2),\n",
      " ('comp to comp', 51),\n",
      " ('comp upon comp', 0),\n",
      " ('concentration after concentration', 13),\n",
      " ('concentration by concentration', 8),\n",
      " ('concentration to concentration', 31),\n",
      " ('concentration upon concentration', 0),\n",
      " ('conditioning after conditioning', 0),\n",
      " ('conditioning by conditioning', 1),\n",
      " ('conditioning to conditioning', 4),\n",
      " ('conditioning upon conditioning', 0),\n",
      " ('critic after critic', 69),\n",
      " ('critic by critic', 2),\n",
      " ('critic to critic', 82),\n",
      " ('critic upon critic', 0),\n",
      " ('cross after cross', 257),\n",
      " ('cross by cross', 13),\n",
      " ('cross to cross', 86),\n",
      " ('cross upon cross', 6),\n",
      " ('department after department', 130),\n",
      " ('department by department', 689),\n",
      " ('department to department', 2199),\n",
      " ('department upon department', 2),\n",
      " ('director after director', 37),\n",
      " ('director by director', 13),\n",
      " ('director to director', 234),\n",
      " ('director upon director', 0),\n",
      " ('disk after disk', 59),\n",
      " ('disk by disk', 91),\n",
      " ('disk to disk', 906),\n",
      " ('disk upon disk', 3),\n",
      " ('duplication after duplication', 0),\n",
      " ('duplication by duplication', 0),\n",
      " ('duplication to duplication', 3),\n",
      " ('duplication upon duplication', 1),\n",
      " ('ease after ease', 0),\n",
      " ('ease by ease', 0),\n",
      " ('ease to ease', 6),\n",
      " ('ease upon ease', 0),\n",
      " ('facade after facade', 2),\n",
      " ('facade by facade', 1),\n",
      " ('facade to facade', 23),\n",
      " ('facade upon facade', 0),\n",
      " ('fat after fat', 4),\n",
      " ('fat by fat', 17),\n",
      " ('fat to fat', 138),\n",
      " ('fat upon fat', 10),\n",
      " ('felon after felon', 0),\n",
      " ('felon by felon', 0),\n",
      " ('felon to felon', 7),\n",
      " ('felon upon felon', 0),\n",
      " ('female after female', 41),\n",
      " ('female by female', 12),\n",
      " ('female to female', 1034),\n",
      " ('female upon female', 0),\n",
      " ('firm after firm', 76),\n",
      " ('firm by firm', 78),\n",
      " ('firm to firm', 951),\n",
      " ('firm upon firm', 5),\n",
      " ('gallery after gallery', 254),\n",
      " ('gallery by gallery', 18),\n",
      " ('gallery to gallery', 616),\n",
      " ('gallery upon gallery', 38),\n",
      " ('grain after grain', 88),\n",
      " ('grain by grain', 1706),\n",
      " ('grain to grain', 697),\n",
      " ('grain upon grain', 20),\n",
      " ('guard after guard', 98),\n",
      " ('guard by guard', 5),\n",
      " ('guard to guard', 273),\n",
      " ('guard upon guard', 2),\n",
      " ('horsepower after horsepower', 0),\n",
      " ('horsepower by horsepower', 0),\n",
      " ('horsepower to horsepower', 0),\n",
      " ('horsepower upon horsepower', 1),\n",
      " ('imagination after imagination', 0),\n",
      " ('imagination by imagination', 3),\n",
      " ('imagination to imagination', 10),\n",
      " ('imagination upon imagination', 6),\n",
      " ('interior after interior', 1),\n",
      " ('interior by interior', 0),\n",
      " ('interior to interior', 82),\n",
      " ('interior upon interior', 0),\n",
      " ('intolerance after intolerance', 0),\n",
      " ('intolerance by intolerance', 3),\n",
      " ('intolerance to intolerance', 4),\n",
      " ('intolerance upon intolerance', 0),\n",
      " ('introduction after introduction', 18),\n",
      " ('introduction by introduction', 2),\n",
      " ('introduction to introduction', 20),\n",
      " ('introduction upon introduction', 1),\n",
      " ('investor after investor', 27),\n",
      " ('investor by investor', 12),\n",
      " ('investor to investor', 167),\n",
      " ('investor upon investor', 2),\n",
      " ('jail after jail', 27),\n",
      " ('jail by jail', 15),\n",
      " ('jail to jail', 343),\n",
      " ('jail upon jail', 0),\n",
      " ('jaw after jaw', 5),\n",
      " ('jaw by jaw', 1),\n",
      " ('jaw to jaw', 217),\n",
      " ('jaw upon jaw', 0),\n",
      " ('jazz after jazz', 0),\n",
      " ('jazz by jazz', 0),\n",
      " ('jazz to jazz', 27),\n",
      " ('jazz upon jazz', 0),\n",
      " ('joy after joy', 26),\n",
      " ('joy by joy', 14),\n",
      " ('joy to joy', 249),\n",
      " ('joy upon joy', 61),\n",
      " ('km after km', 11),\n",
      " ('km by km', 14),\n",
      " ('km to km', 3),\n",
      " ('km upon km', 0),\n",
      " ('lakh after lakh', 0),\n",
      " ('lakh by lakh', 0),\n",
      " ('lakh to lakh', 0),\n",
      " ('lakh upon lakh', 6),\n",
      " ('landmark after landmark', 51),\n",
      " ('landmark by landmark', 25),\n",
      " ('landmark to landmark', 206),\n",
      " ('landmark upon landmark', 0),\n",
      " ('legislation after legislation', 21),\n",
      " ('legislation by legislation', 12),\n",
      " ('legislation to legislation', 17),\n",
      " ('legislation upon legislation', 1),\n",
      " ('likeness after likeness', 2),\n",
      " ('likeness by likeness', 0),\n",
      " ('likeness to likeness', 8),\n",
      " ('likeness upon likeness', 0),\n",
      " ('linen after linen', 1),\n",
      " ('linen by linen', 0),\n",
      " ('linen to linen', 2),\n",
      " ('linen upon linen', 2),\n",
      " ('liner after liner', 6),\n",
      " ('liner by liner', 5),\n",
      " ('liner to liner', 17),\n",
      " ('liner upon liner', 0),\n",
      " ('manuscript after manuscript', 77),\n",
      " ('manuscript by manuscript', 8),\n",
      " ('manuscript to manuscript', 131),\n",
      " ('manuscript upon manuscript', 2),\n",
      " ('may after may', 0),\n",
      " ('may by may', 0),\n",
      " ('may to may', 10),\n",
      " ('may upon may', 0),\n",
      " ('memo after memo', 180),\n",
      " ('memo by memo', 12),\n",
      " ('memo to memo', 14),\n",
      " ('memo upon memo', 3),\n",
      " ('missionary after missionary', 7),\n",
      " ('missionary by missionary', 0),\n",
      " ('missionary to missionary', 7),\n",
      " ('missionary upon missionary', 0),\n",
      " ('modeling after modeling', 0),\n",
      " ('modeling by modeling', 5),\n",
      " ('modeling to modeling', 12),\n",
      " ('modeling upon modeling', 0),\n",
      " ('myriad after myriad', 0),\n",
      " ('myriad by myriad', 14),\n",
      " ('myriad to myriad', 0),\n",
      " ('myriad upon myriad', 18),\n",
      " ('navy after navy', 0),\n",
      " ('navy by navy', 0),\n",
      " ('navy to navy', 39),\n",
      " ('navy upon navy', 0),\n",
      " ('nobility after nobility', 0),\n",
      " ('nobility by nobility', 0),\n",
      " ('nobility to nobility', 2),\n",
      " ('nobility upon nobility', 0),\n",
      " ('odds after odds', 0),\n",
      " ('odds by odds', 2),\n",
      " ('odds to odds', 24),\n",
      " ('odds upon odds', 2),\n",
      " ('pan after pan', 137),\n",
      " ('pan by pan', 18),\n",
      " ('pan to pan', 96),\n",
      " ('pan upon pan', 0),\n",
      " ('pen after pen', 44),\n",
      " ('pen by pen', 17),\n",
      " ('pen to pen', 326),\n",
      " ('pen upon pen', 0),\n",
      " ('pool after pool', 93),\n",
      " ('pool by pool', 74),\n",
      " ('pool to pool', 1053),\n",
      " ('pool upon pool', 4),\n",
      " ('pretending after pretending', 0),\n",
      " ('pretending by pretending', 0),\n",
      " ('pretending to pretending', 0),\n",
      " ('pretending upon pretending', 0),\n",
      " ('pretext after pretext', 25),\n",
      " ('pretext by pretext', 0),\n",
      " ('pretext to pretext', 0),\n",
      " ('pretext upon pretext', 2),\n",
      " ('primary after primary', 336),\n",
      " ('primary by primary', 17),\n",
      " ('primary to primary', 39),\n",
      " ('primary upon primary', 2),\n",
      " ('pudding after pudding', 6),\n",
      " ('pudding by pudding', 0),\n",
      " ('pudding to pudding', 0),\n",
      " ('pudding upon pudding', 0),\n",
      " ('purchasing after purchasing', 0),\n",
      " ('purchasing by purchasing', 0),\n",
      " ('purchasing to purchasing', 0),\n",
      " ('purchasing upon purchasing', 0),\n",
      " ('railway after railway', 1),\n",
      " ('railway by railway', 2),\n",
      " ('railway to railway', 20),\n",
      " ('railway upon railway', 0),\n",
      " ('rapport after rapport', 0),\n",
      " ('rapport by rapport', 0),\n",
      " ('rapport to rapport', 0),\n",
      " ('rapport upon rapport', 0),\n",
      " ('rating after rating', 2),\n",
      " ('rating by rating', 39),\n",
      " ('rating to rating', 26),\n",
      " ('rating upon rating', 0),\n",
      " ('raven after raven', 2),\n",
      " ('raven by raven', 0),\n",
      " ('raven to raven', 7),\n",
      " ('raven upon raven', 0),\n",
      " ('real after real', 9),\n",
      " ('real by real', 30),\n",
      " ('real to real', 174),\n",
      " ('real upon real', 2),\n",
      " ('retail after retail', 0),\n",
      " ('retail by retail', 4),\n",
      " ('retail to retail', 23),\n",
      " ('retail upon retail', 0),\n",
      " ('retirement after retirement', 11),\n",
      " ('retirement by retirement', 4),\n",
      " ('retirement to retirement', 7),\n",
      " ('retirement upon retirement', 3),\n",
      " ('retro after retro', 1),\n",
      " ('retro by retro', 0),\n",
      " ('retro to retro', 0),\n",
      " ('retro upon retro', 2),\n",
      " ('rpm after rpm', 4),\n",
      " ('rpm by rpm', 5),\n",
      " ('rpm to rpm', 7),\n",
      " ('rpm upon rpm', 0),\n",
      " ('scrub after scrub', 8),\n",
      " ('scrub by scrub', 1),\n",
      " ('scrub to scrub', 17),\n",
      " ('scrub upon scrub', 0),\n",
      " ('serve after serve', 45),\n",
      " ('serve by serve', 1),\n",
      " ('serve to serve', 137),\n",
      " ('serve upon serve', 0),\n",
      " ('shade after shade', 89),\n",
      " ('shade by shade', 206),\n",
      " ('shade to shade', 493),\n",
      " ('shade upon shade', 49),\n",
      " ('sibling after sibling', 14),\n",
      " ('sibling by sibling', 8),\n",
      " ('sibling to sibling', 255),\n",
      " ('sibling upon sibling', 0),\n",
      " ('singer after singer', 34),\n",
      " ('singer by singer', 7),\n",
      " ('singer to singer', 154),\n",
      " ('singer upon singer', 0),\n",
      " ('sock after sock', 36),\n",
      " ('sock by sock', 16),\n",
      " ('sock to sock', 11),\n",
      " ('sock upon sock', 0),\n",
      " ('spectacle after spectacle', 24),\n",
      " ('spectacle by spectacle', 0),\n",
      " ('spectacle to spectacle', 24),\n",
      " ('spectacle upon spectacle', 3),\n",
      " ('stake after stake', 53),\n",
      " ('stake by stake', 20),\n",
      " ('stake to stake', 184),\n",
      " ('stake upon stake', 5),\n",
      " ('stink after stink', 0),\n",
      " ('stink by stink', 0),\n",
      " ('stink to stink', 1),\n",
      " ('stink upon stink', 0),\n",
      " ('supporter after supporter', 23),\n",
      " ('supporter by supporter', 1),\n",
      " ('supporter to supporter', 7),\n",
      " ('supporter upon supporter', 0),\n",
      " ('table after table', 720),\n",
      " ('table by table', 675),\n",
      " ('table to table', 8887),\n",
      " ('table upon table', 51),\n",
      " ('tax after tax', 122),\n",
      " ('tax by tax', 105),\n",
      " ('tax to tax', 157),\n",
      " ('tax upon tax', 77),\n",
      " ('tile after tile', 52),\n",
      " ('tile by tile', 655),\n",
      " ('tile to tile', 689),\n",
      " ('tile upon tile', 5),\n",
      " ('tow after tow', 0),\n",
      " ('tow by tow', 7),\n",
      " ('tow to tow', 7),\n",
      " ('tow upon tow', 0),\n",
      " ('turnaround after turnaround', 8),\n",
      " ('turnaround by turnaround', 0),\n",
      " ('turnaround to turnaround', 2),\n",
      " ('turnaround upon turnaround', 0),\n",
      " ('turtle after turtle', 22),\n",
      " ('turtle by turtle', 0),\n",
      " ('turtle to turtle', 12),\n",
      " ('turtle upon turtle', 5),\n",
      " ('viewpoint after viewpoint', 5),\n",
      " ('viewpoint by viewpoint', 1),\n",
      " ('viewpoint to viewpoint', 80),\n",
      " ('viewpoint upon viewpoint', 2),\n",
      " ('voter after voter', 75),\n",
      " ('voter by voter', 69),\n",
      " ('voter to voter', 80),\n",
      " ('voter upon voter', 0),\n",
      " ('vowel after vowel', 5),\n",
      " ('vowel by vowel', 14),\n",
      " ('vowel to vowel', 61),\n",
      " ('vowel upon vowel', 4),\n",
      " ('weekend after weekend', 1045),\n",
      " ('weekend by weekend', 68),\n",
      " ('weekend to weekend', 419),\n",
      " ('weekend upon weekend', 8),\n",
      " ('yacht after yacht', 11),\n",
      " ('yacht by yacht', 5),\n",
      " ('yacht to yacht', 35),\n",
      " ('yacht upon yacht', 0)]\n"
     ]
    }
   ],
   "execution_count": 22
  },
  {
   "metadata": {
    "ExecuteTime": {
     "end_time": "2025-06-02T23:08:54.369588Z",
     "start_time": "2025-06-02T23:08:54.341883Z"
    }
   },
   "cell_type": "code",
   "source": [
    "from collections import Counter\n",
    "ct = Counter()\n",
    "for npn in tqdm(npn_data):\n",
    "    tgt_str = f\"{npn.noun} {npn.prep} {npn.noun}\"\n",
    "    f = freqs[tgt_str]\n",
    "    if f == 0:\n",
    "        ct[npn.prep] += 1\n",
    "pp(ct)\n"
   ],
   "id": "445f1b49bc85ef14",
   "outputs": [
    {
     "name": "stderr",
     "output_type": "stream",
     "text": [
      "100%|██████████| 244/244 [00:00<00:00, 1755420.54it/s]"
     ]
    },
    {
     "name": "stdout",
     "output_type": "stream",
     "text": [
      "Counter({'upon': 34, 'after': 15, 'by': 14, 'to': 1})\n"
     ]
    },
    {
     "name": "stderr",
     "output_type": "stream",
     "text": [
      "\n"
     ]
    }
   ],
   "execution_count": 23
  },
  {
   "metadata": {
    "ExecuteTime": {
     "end_time": "2025-06-02T23:08:55.436310Z",
     "start_time": "2025-06-02T23:08:55.408828Z"
    }
   },
   "cell_type": "code",
   "source": [
    "import numpy as np\n",
    "import matplotlib.pyplot as plt\n",
    "from typing import List\n",
    "\n",
    "def log_binned_hist(data: List[int], init_bucket: int = 1, base: int = 2):\n",
    "    \"\"\"\n",
    "    Plot a histogram with exponentially growing bucket sizes.\n",
    "\n",
    "    Args:\n",
    "        data: List of non-negative integers.\n",
    "        init_bucket: Starting width (e.g., 1 means [1], [2-3], [4-7], ...)\n",
    "        base: Growth base (e.g., 2 doubles the range each step)\n",
    "    \"\"\"\n",
    "    if not data:\n",
    "        raise ValueError(\"Data is empty.\")\n",
    "\n",
    "    data = np.array(data)\n",
    "    max_val = data.max()\n",
    "\n",
    "    # Construct bin edges: [1, 2, 4, 8, 16, ...]\n",
    "    edges = []\n",
    "    edges.append(0)\n",
    "    edges.append(1)\n",
    "    edges.append(10)\n",
    "    edges.append(50)\n",
    "    edges.append(100)\n",
    "    edges.append(1000)\n",
    "    edges.append(3000)\n",
    "\n",
    "    # current = init_bucket\n",
    "    # while current <= max_val:\n",
    "    #     edges.append(current)\n",
    "    #     current *= base\n",
    "    # edges.append(current)  # add upper edge for last bin\n",
    "\n",
    "    counts, bins = np.histogram(data, bins=edges)\n",
    "\n",
    "    # Format bin labels\n",
    "    labels = [f\"{int(bins[i])}–{int(bins[i+1])-1}\" for i in range(len(bins)-1)]\n",
    "\n",
    "    plt.figure(figsize=(10, 5))\n",
    "    # plt.bar(range(len(counts)), counts, tick_label=labels, width=1, align='center')\n",
    "    bars =     bars = plt.bar(range(len(counts)), counts, tick_label=labels, width=1, align='center')\n",
    "\n",
    "    for bar, count in zip(bars, counts):\n",
    "        plt.text(\n",
    "            bar.get_x() + bar.get_width() / 2,\n",
    "            bar.get_height(),\n",
    "            str(count),\n",
    "            ha='center',\n",
    "            va='bottom',\n",
    "            fontsize=9\n",
    "        )\n",
    "    plt.xticks(rotation=45, ha='right')\n",
    "    plt.xlabel(\"Value Range (log-scaled buckets)\")\n",
    "    plt.ylabel(\"Frequency\")\n",
    "    plt.title(\"Logarithmic Histogram\")\n",
    "    plt.tight_layout()\n",
    "    plt.show()\n"
   ],
   "id": "f45e28bc8dc292f8",
   "outputs": [],
   "execution_count": 24
  },
  {
   "metadata": {
    "ExecuteTime": {
     "end_time": "2025-06-02T23:08:56.648680Z",
     "start_time": "2025-06-02T23:08:56.557286Z"
    }
   },
   "cell_type": "code",
   "source": [
    "\n",
    "log_binned_hist(list(freqs.values()))"
   ],
   "id": "854f00eca76749ec",
   "outputs": [
    {
     "data": {
      "text/plain": [
       "<Figure size 1000x500 with 1 Axes>"
      ],
      "image/png": "[encoded data removed]"
     },
     "metadata": {},
     "output_type": "display_data"
    }
   ],
   "execution_count": 25
  },
  {
   "metadata": {
    "ExecuteTime": {
     "end_time": "2025-03-31T18:25:57.287095Z",
     "start_time": "2025-03-31T18:25:52.344352Z"
    }
   },
   "cell_type": "code",
   "source": [
    "test_npns = [\n",
    "    'limb from limb',\n",
    "    'face to face',\n",
    "    'back to back',\n",
    "    'day by day',\n",
    "    'dollar for dollar',\n",
    "    'book upon book'\n",
    "]\n",
    "for t in test_npns:\n",
    "    res = check_infinigram(t, retries=10, sleep_time=0.4)\n",
    "    print(t, res.count)\n"
   ],
   "id": "e73e868324fc092c",
   "outputs": [
    {
     "name": "stdout",
     "output_type": "stream",
     "text": [
      "limb from limb 17847\n",
      "face to face 420845\n",
      "back to back 125554\n",
      "day by day 164030\n",
      "dollar for dollar 12085\n",
      "book upon book 132\n"
     ]
    }
   ],
   "execution_count": 29
  },
  {
   "metadata": {},
   "cell_type": "code",
   "outputs": [],
   "execution_count": null,
   "source": "",
   "id": "aa7d459ea74e698"
  }
 ],
 "metadata": {
  "kernelspec": {
   "display_name": "Python 3",
   "language": "python",
   "name": "python3"
  },
  "language_info": {
   "codemirror_mode": {
    "name": "ipython",
    "version": 2
   },
   "file_extension": ".py",
   "mimetype": "text/x-python",
   "name": "python",
   "nbconvert_exporter": "python",
   "pygments_lexer": "ipython2",
   "version": "2.7.6"
  }
 },
 "nbformat": 4,
 "nbformat_minor": 5
}
