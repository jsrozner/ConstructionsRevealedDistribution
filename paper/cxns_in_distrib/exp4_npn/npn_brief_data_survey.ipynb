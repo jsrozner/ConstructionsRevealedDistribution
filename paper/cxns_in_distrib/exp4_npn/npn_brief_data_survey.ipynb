{
 "cells": [
  {
   "cell_type": "code",
   "execution_count": null,
   "id": "initial_id",
   "metadata": {
    "collapsed": true
   },
   "outputs": [],
   "source": [
    "# brief examination of NPN generations for EMNLP appendix\n",
    "from lib.common.corr_matrix_common import top_k_preds_for_logits\n",
    "\n",
    "s = \"As a diligent scholar, he poured over his research, analyzing manuscript after manuscript to ensure the accuracy of his findings.\"\n",
    "s= \"Through the philosophical discussions, they delved deeper into the subject, unraveling ambiguity by ambiguity, until clarity was achieved.\"\n",
    "s=\"They lived a nomadic life, moving from resettlement to resettlement, always searching for a place to call home.\"\n",
    "s = \"The two rival politicians went ire to ire in a heated debate.\"\n",
    "s = Sentence(s)\n",
    "w = \"ire\"\n",
    "for occ in [0,1]:\n",
    "    masked_sent = s.get_input_with_word_masked(w, occ=occ)\n",
    "\n",
    "    logits = get_logits_for_masked_sent(masked_sent)\n",
    "    fills = top_k_preds_for_logits(logits, 5)\n",
    "    prob = compute_surprisal_for_logits(\n",
    "        masked_sent,\n",
    "        logits,\n",
    "        probability\n",
    "    )\n",
    "    print(prob)\n"
   ]
  }
 ],
 "metadata": {
  "kernelspec": {
   "display_name": "Python 3",
   "language": "python",
   "name": "python3"
  },
  "language_info": {
   "codemirror_mode": {
    "name": "ipython",
    "version": 2
   },
   "file_extension": ".py",
   "mimetype": "text/x-python",
   "name": "python",
   "nbconvert_exporter": "python",
   "pygments_lexer": "ipython2",
   "version": "2.7.6"
  }
 },
 "nbformat": 4,
 "nbformat_minor": 5
}
