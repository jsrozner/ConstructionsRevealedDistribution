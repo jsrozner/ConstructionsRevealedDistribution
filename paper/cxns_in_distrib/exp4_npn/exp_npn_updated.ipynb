{
 "cells": [
  {
   "cell_type": "code",
   "id": "initial_id",
   "metadata": {
    "collapsed": true,
    "ExecuteTime": {
     "end_time": "2025-06-02T21:32:29.202770Z",
     "start_time": "2025-06-02T21:32:29.187488Z"
    }
   },
   "source": [
    "%load_ext autoreload\n",
    "%autoreload 2\n"
   ],
   "outputs": [],
   "execution_count": 2
  },
  {
   "metadata": {
    "ExecuteTime": {
     "end_time": "2025-06-02T21:32:35.574144Z",
     "start_time": "2025-06-02T21:32:29.319912Z"
    }
   },
   "cell_type": "code",
   "source": [
    "\n",
    "from lib.common.mlm_singleton import init_singleton_scorer\n",
    "mlm_scorer = init_singleton_scorer('roberta-large')\n"
   ],
   "id": "9c363b62f1509185",
   "outputs": [
    {
     "name": "stderr",
     "output_type": "stream",
     "text": [
      "WARNING:root:Initializing roberta-large\n",
      "WARNING:root:INIT\n",
      "WARNING:root:Will use cache for MLMScorer. Use this for analysis.For computation, avoid this; memory will blow up.\n"
     ]
    }
   ],
   "execution_count": 3
  },
  {
   "metadata": {
    "ExecuteTime": {
     "end_time": "2025-06-02T23:36:24.360623Z",
     "start_time": "2025-06-02T23:36:24.301129Z"
    }
   },
   "cell_type": "code",
   "source": [
    "\n",
    "from pathlib import Path\n",
    "from data_config import Exp4NPN\n",
    "from dataclasses import dataclass\n",
    "from typing import List, Dict\n",
    "\n",
    "\n",
    "@dataclass\n",
    "class NPN_config:\n",
    "    judgement_filter: bool\n",
    "    gpt_outputs_file: Path\n",
    "    acceptability_ratings_file: Path\n",
    "    save_name: str\n",
    "    output_has_noun_rep: bool = False\n",
    "\n",
    "# was for original data\n",
    "# # todo(NC): this has a problem (but maybe doesn't matter bc we don't need)\n",
    "# config_v1 = NPN_config(\n",
    "#     judgement_filter=True,\n",
    "#     gpt_outputs_file=Exp4NPN.npn_gpt_outputs,\n",
    "#     acceptability_ratings_file=Exp4NPN.npn_acceptability_ratings_csv,\n",
    "#     save_name=\"npn_v1\",\n",
    "#     output_has_noun_rep=True\n",
    "# )\n",
    "\n",
    "config_v2 = NPN_config(\n",
    "    judgement_filter=True,\n",
    "    gpt_outputs_file=Exp4NPN.npn_gpt_outputs_v2_fixed,\n",
    "    acceptability_ratings_file=Exp4NPN.npn_acceptability_v2,\n",
    "    save_name=\"npn_v2\",\n",
    ")\n",
    "\n",
    "config_v3 = NPN_config(\n",
    "    # judgement_filter=True,\n",
    "    judgement_filter=True,\n",
    "    gpt_outputs_file=Exp4NPN.npn_gpt_outputs_v3_zero_freq,\n",
    "    acceptability_ratings_file=Exp4NPN.npn_acceptability_v3,\n",
    "    save_name=\"npn_v3\"\n",
    ")\n",
    "\n",
    "# change for each data run\n",
    "config = config_v3\n",
    "infinigram_filter = False\n"
   ],
   "id": "9037c0ae1be2a11b",
   "outputs": [],
   "execution_count": 62
  },
  {
   "metadata": {
    "ExecuteTime": {
     "end_time": "2025-06-02T23:36:24.823367Z",
     "start_time": "2025-06-02T23:36:24.793201Z"
    }
   },
   "cell_type": "code",
   "source": [
    "\n",
    "from paper.exp4_npn.exp6_npn_infinigram import load_dict_from_file\n",
    "from proj_common.npn_dataset_generation.npn_utils import GPTOutput\n",
    "from proj_common.npns.npns import get_npn_data, count_by_prep, compute_scores\n",
    "\n",
    "all_npns: List[GPTOutput] = get_npn_data(\n",
    "    config.gpt_outputs_file,\n",
    "    npn_judgement_file = config.acceptability_ratings_file if config.judgement_filter else None,\n",
    "    min_acceptability=4 if config.judgement_filter else None,\n",
    "    output_has_noun_rep=config.output_has_noun_rep,\n",
    "    do_filter_gpt_generations=True\n",
    ")\n",
    "\n",
    "def filter_infinigram(npns: List[GPTOutput]):\n",
    "    # filter infinigram, maybe\n",
    "    freqs = load_dict_from_file(Exp4NPN.npn_roberta_infinigram)\n",
    "    final_npns = [x for x in npns if freqs[x.npn] == 0]\n",
    "    return final_npns\n",
    "\n",
    "# if we want infinigram filter\n",
    "if infinigram_filter:\n",
    "    all_npns = filter_infinigram(all_npns)\n",
    "    print(f\"after infingram filter: {len(all_npns)}\")\n",
    "\n",
    "\n",
    "\n",
    "print(\"all npns after all filters\")\n",
    "count_by_prep(all_npns)\n"
   ],
   "id": "a5648885f553b391",
   "outputs": [
    {
     "name": "stdout",
     "output_type": "stream",
     "text": [
      "reading from gpt_output_file - before filtering 364\n",
      "notify (non error): more than 2 occurrences! maternity As a maternity nurse, she experienced the joy and struggle of new life, maternity upon maternity, and it only strengthened her passion for her job. \n",
      "\n",
      "notify (non error): more than 2 occurrences! despite Despite after despite, she continued to pursue her dreams with unwavering determination. \n",
      "\n",
      "In filter outputs, printing filtered\n",
      "For the preposition category, it's count where desired NPN string did not occur\n",
      "Counter()\n",
      "after filtering (did filter = True), 364\n",
      "364\n",
      "removed Counter({'rating_to': 59, 'rating_by': 57, 'rating_upon': 40, 'rating_after': 37})\n",
      "totals after remove Counter({'after': 54, 'upon': 51, 'by': 34, 'to': 32})\n",
      "all npns after all filters\n",
      "Counter({'after': 54, 'upon': 51, 'by': 34, 'to': 32})\n"
     ]
    }
   ],
   "execution_count": 63
  },
  {
   "metadata": {
    "ExecuteTime": {
     "end_time": "2025-06-02T23:15:42.916707Z",
     "start_time": "2025-06-02T23:15:38.175849Z"
    }
   },
   "cell_type": "code",
   "source": [
    "scores, ct_err, ct_multi, results = compute_scores(\n",
    "    all_npns,\n",
    "    allow_case_mismatch=True\n",
    ")"
   ],
   "id": "ba54a2aaad6259be",
   "outputs": [
    {
     "name": "stdout",
     "output_type": "stream",
     "text": [
      "0 0\n"
     ]
    }
   ],
   "execution_count": 56
  },
  {
   "metadata": {
    "ExecuteTime": {
     "end_time": "2025-06-02T23:15:42.942883Z",
     "start_time": "2025-06-02T23:15:42.921157Z"
    }
   },
   "cell_type": "code",
   "source": [
    "from pprint import pp\n",
    "pp(scores)"
   ],
   "id": "da448c27a4b091d6",
   "outputs": [
    {
     "name": "stdout",
     "output_type": "stream",
     "text": [
      "defaultdict(<class 'list'>,\n",
      "            {'upon': [0.9998530149459839,\n",
      "                      0.9999194145202637,\n",
      "                      0.9982773065567017,\n",
      "                      0.9913197159767151,\n",
      "                      0.9979408383369446,\n",
      "                      0.9968550205230713,\n",
      "                      0.9973353743553162,\n",
      "                      0.9974647760391235,\n",
      "                      0.9991853833198547,\n",
      "                      0.9993333220481873,\n",
      "                      0.9986741542816162,\n",
      "                      0.9978411197662354,\n",
      "                      0.9927706122398376,\n",
      "                      0.9934834837913513,\n",
      "                      0.9977916479110718,\n",
      "                      0.9977812170982361,\n",
      "                      0.9979536533355713,\n",
      "                      0.9973137974739075,\n",
      "                      0.9997945427894592,\n",
      "                      0.9998801946640015,\n",
      "                      0.9694421291351318,\n",
      "                      0.9953426122665405,\n",
      "                      0.9933700561523438,\n",
      "                      0.9945532083511353,\n",
      "                      0.9985564351081848,\n",
      "                      0.9998862743377686,\n",
      "                      0.998964786529541,\n",
      "                      0.9896770119667053,\n",
      "                      0.894188642501831,\n",
      "                      0.9514988660812378,\n",
      "                      0.9995050430297852,\n",
      "                      0.9998134970664978,\n",
      "                      0.9970243573188782,\n",
      "                      0.9987030029296875,\n",
      "                      0.9976069927215576,\n",
      "                      0.9994454979896545,\n",
      "                      0.9998781681060791,\n",
      "                      0.9973093271255493,\n",
      "                      0.9911479949951172,\n",
      "                      0.954170286655426,\n",
      "                      0.9984270334243774,\n",
      "                      0.9994076490402222,\n",
      "                      0.978036105632782,\n",
      "                      0.9998216032981873,\n",
      "                      0.998638927936554,\n",
      "                      0.9969082474708557,\n",
      "                      0.9704533815383911,\n",
      "                      0.9906490445137024,\n",
      "                      0.007678953465074301,\n",
      "                      0.003910203464329243,\n",
      "                      0.968705415725708,\n",
      "                      0.9886592626571655,\n",
      "                      0.9979261159896851,\n",
      "                      0.9924706220626831,\n",
      "                      0.9999641180038452,\n",
      "                      0.9995518326759338,\n",
      "                      0.9421893954277039,\n",
      "                      0.9954877495765686,\n",
      "                      0.8240962028503418,\n",
      "                      0.1835051029920578,\n",
      "                      0.9983370304107666,\n",
      "                      0.9990554451942444,\n",
      "                      0.9962892532348633,\n",
      "                      0.9909201860427856,\n",
      "                      0.9992842078208923,\n",
      "                      0.9999086856842041,\n",
      "                      0.9977915287017822,\n",
      "                      0.9989101886749268],\n",
      "             'by': [0.7686843872070312,\n",
      "                    0.19421294331550598,\n",
      "                    0.9491168856620789,\n",
      "                    0.9558022618293762,\n",
      "                    0.4028567969799042,\n",
      "                    0.9770415425300598,\n",
      "                    0.9994592070579529,\n",
      "                    0.9991658926010132,\n",
      "                    0.6727856993675232,\n",
      "                    1.2187987508127662e-08,\n",
      "                    0.07104871422052383,\n",
      "                    0.9979890584945679,\n",
      "                    0.9997840523719788,\n",
      "                    0.9996115565299988,\n",
      "                    0.994387686252594,\n",
      "                    0.9985383749008179,\n",
      "                    0.9997250437736511,\n",
      "                    0.9998898506164551,\n",
      "                    0.980880856513977,\n",
      "                    0.9883471131324768,\n",
      "                    0.9959851503372192,\n",
      "                    0.8082853555679321,\n",
      "                    0.4340199828147888,\n",
      "                    2.0549334294628352e-05,\n",
      "                    0.8184948563575745,\n",
      "                    7.320844451896846e-05,\n",
      "                    0.9728336334228516,\n",
      "                    0.9998952150344849],\n",
      "             'after': [0.9898086190223694,\n",
      "                       0.9936566948890686,\n",
      "                       0.9978367686271667,\n",
      "                       0.41073721647262573,\n",
      "                       0.9987290501594543,\n",
      "                       0.9983924031257629,\n",
      "                       0.9784029722213745,\n",
      "                       0.9961225390434265,\n",
      "                       0.09592145681381226,\n",
      "                       0.13196949660778046,\n",
      "                       0.9959244728088379,\n",
      "                       0.9688082933425903,\n",
      "                       0.9977089166641235,\n",
      "                       0.9915804266929626,\n",
      "                       0.06416451930999756,\n",
      "                       0.009222975000739098,\n",
      "                       0.49533966183662415,\n",
      "                       0.4032718241214752,\n",
      "                       0.9968656897544861,\n",
      "                       0.9866331815719604,\n",
      "                       0.9998565912246704,\n",
      "                       0.999833345413208,\n",
      "                       0.990731418132782,\n",
      "                       0.9899476170539856,\n",
      "                       0.011028511449694633,\n",
      "                       0.30627506971359253,\n",
      "                       0.9756406545639038,\n",
      "                       0.9573047757148743,\n",
      "                       0.9996024966239929,\n",
      "                       0.6703281402587891],\n",
      "             'to': [0.0041018701158463955, 0.020937703549861908]})\n"
     ]
    }
   ],
   "execution_count": 57
  },
  {
   "metadata": {
    "ExecuteTime": {
     "end_time": "2025-06-02T23:15:42.968322Z",
     "start_time": "2025-06-02T23:15:42.948303Z"
    }
   },
   "cell_type": "code",
   "source": [
    "\n",
    "import matplotlib.pyplot as plt\n",
    "import seaborn as sns\n"
   ],
   "id": "cdf08762e8142861",
   "outputs": [],
   "execution_count": 58
  },
  {
   "metadata": {
    "ExecuteTime": {
     "end_time": "2025-06-02T23:16:44.874435Z",
     "start_time": "2025-06-02T23:16:44.694871Z"
    }
   },
   "cell_type": "code",
   "source": [
    "\n",
    "from rozlib.libs.plotting.utils_latex_matplot import config_matplot_for_latex\n",
    "from lib.utils.utils_misc import save_fig\n",
    "\n",
    "\"\"\"\n",
    "Produce boxplot for all\n",
    "\"\"\"\n",
    "\n",
    "\n",
    "config_matplot_for_latex(13)\n",
    "\n",
    "print('counts')\n",
    "for k in scores.keys():\n",
    "    print(k, len(scores[k]))\n",
    "\n",
    "fig, ax = plt.subplots(figsize=(4,4))\n",
    "ax.set_ylim(-.05, 1.05)\n",
    "# ax.set_title(\"Distribution of contextual probabilities for noun in NPN\")\n",
    "# ax.set_ylabel(\"Contextual Probability for Noun\")\n",
    "# ax.set_xlabel(\"Preposition in NPN\")\n",
    "# plt.rcParams.update({\n",
    "#     # 'text.usetex': True,\n",
    "#     'font.family': 'serif',  # Change to 'sans-serif', 'monospace', etc.\n",
    "#     'font.serif': [\"cm\"],\n",
    "#     'font.size': 10,         # Adjust font size\n",
    "# })\n",
    "for spine in ax.spines.values():\n",
    "    spine.set_edgecolor('black')  # Set dark color (or 'white' for light mode)\n",
    "    # spine.set_linewidth(2)        # Adjust border thickness\n",
    "# plt.xlabel(\"Construction & Word\")\n",
    "# categories, values = zip(*[(key, val) for key, vals in all_aggregated.items() for val in vals])\n",
    "\n",
    "cat_val_tuples = [(key, val) for key, vals in scores.items() for val in vals]\n",
    "order = ['upon', 'after','by', 'to']\n",
    "cat_val_tuples_sorted = sorted(cat_val_tuples, key=lambda x: order.index(x[0]))\n",
    "categories, values = zip(*cat_val_tuples_sorted)\n",
    "print(len(values))\n",
    "\n",
    "\n",
    "# for two cats\n",
    "cats_prettied = categories\n",
    "\n",
    "# sns.boxplot(x=cats_prettied, y=values)\n",
    "sns.violinplot(x=cats_prettied, y=values, ax=ax,inner='quartile', cut=0, edgecolor=\"black\",saturation=0.1, scale=\"width\")\n",
    "# Overlay Data Points (Jittered for Visibility)\n",
    "for violin in ax.collections:\n",
    "    violin.set_facecolor(\"lightgray\")\n",
    "sns.stripplot(x=cats_prettied, y=values, ax=ax,\n",
    "              color=\"black\", alpha=0.5, size=3, jitter=False)  # Adjust size & alpha\n",
    "\n",
    "# config_matplot_for_latex(14)\n",
    "# save_fig(fig, \"npn_acceptable.pdf\")\n",
    "\n",
    "if infinigram_filter:\n",
    "    base_name = config.save_name + \"inf_filter\"\n",
    "else:\n",
    "    base_name = config.save_name\n",
    "\n",
    "if config.judgement_filter:\n",
    "    output_name = base_name + \"_acceptable.pdf\"\n",
    "else:\n",
    "    output_name = base_name + \"_all.pdf\"\n",
    "\n",
    "config_matplot_for_latex(12)\n",
    "save_fig(fig, output_name)\n",
    "\n",
    "\n"
   ],
   "id": "a346e932ae6a372a",
   "outputs": [
    {
     "name": "stdout",
     "output_type": "stream",
     "text": [
      "counts\n",
      "upon 68\n",
      "by 28\n",
      "after 30\n",
      "to 2\n",
      "128\n"
     ]
    },
    {
     "name": "stderr",
     "output_type": "stream",
     "text": [
      "/var/folders/58/nkm5hbs97tz3vc0x5l5zl4w40000gn/T/ipykernel_55117/431968811.py:43: FutureWarning: \n",
      "\n",
      "The `scale` parameter has been renamed and will be removed in v0.15.0. Pass `density_norm='width'` for the same effect.\n",
      "  sns.violinplot(x=cats_prettied, y=values, ax=ax,inner='quartile', cut=0, edgecolor=\"black\",saturation=0.1, scale=\"width\")\n",
      "/Users/jsrozner/docs_local/research/proj_code/rozner-mono-cxs-main/rozlib-python/rozlib/libs/plotting/utils_latex_matplot.py:44: UserWarning: /Library/TeX/textbin will be added to path\n",
      "  warnings.warn(f\"/Library/TeX/textbin will be added to path\")\n"
     ]
    },
    {
     "data": {
      "text/plain": [
       "<Figure size 600x600 with 1 Axes>"
      ],
      "image/png": "[encoded data removed]"
     },
     "metadata": {},
     "output_type": "display_data"
    }
   ],
   "execution_count": 61
  }
 ],
 "metadata": {
  "kernelspec": {
   "display_name": "Python 3",
   "language": "python",
   "name": "python3"
  },
  "language_info": {
   "codemirror_mode": {
    "name": "ipython",
    "version": 2
   },
   "file_extension": ".py",
   "mimetype": "text/x-python",
   "name": "python",
   "nbconvert_exporter": "python",
   "pygments_lexer": "ipython2",
   "version": "2.7.6"
  }
 },
 "nbformat": 4,
 "nbformat_minor": 5
}
