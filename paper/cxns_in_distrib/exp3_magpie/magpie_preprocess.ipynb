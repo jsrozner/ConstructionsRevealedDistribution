{
 "cells": [
  {
   "cell_type": "code",
   "id": "initial_id",
   "metadata": {
    "collapsed": true,
    "ExecuteTime": {
     "end_time": "2024-12-30T18:08:51.814704Z",
     "start_time": "2024-12-30T18:08:51.803304Z"
    }
   },
   "source": [
    "%load_ext autoreload\n",
    "%autoreload 2\n"
   ],
   "outputs": [],
   "execution_count": 2
  },
  {
   "metadata": {
    "ExecuteTime": {
     "end_time": "2025-01-03T03:06:56.452426Z",
     "start_time": "2025-01-03T03:06:45.590842Z"
    }
   },
   "cell_type": "code",
   "source": [
    "\n",
    "from proj.cxs_are_revealed.paper.data_config import Exp3Magpie\n",
    "from paper.exp3_magpie.corpus_magpie import get_all_magpie_json, get_magpie_pretty, set_allow_deprecated\n",
    "\n",
    "set_allow_deprecated()\n",
    "all_magpie_json = get_all_magpie_json()\n",
    "all_magpie_entries, all_magpie_wrappers = get_magpie_pretty(all_magpie_json)\n"
   ],
   "id": "ad5c7cae09c76c8c",
   "outputs": [
    {
     "name": "stderr",
     "output_type": "stream",
     "text": [
      "/opt/homebrew/Caskroom/miniconda/base/envs/2024_coelm/lib/python3.12/site-packages/transformers/tokenization_utils_base.py:1601: FutureWarning: `clean_up_tokenization_spaces` was not set. It will be set to `True` by default. This behavior will be depracted in transformers v4.45, and will be then set to `False` by default. For more details check this issue: https://github.com/huggingface/transformers/issues/31884\n",
      "  warnings.warn(\n",
      "WARNING:root:Initializing roberta-large\n",
      "Token indices sequence length is longer than the specified maximum sequence length for this model (1538 > 512). Running this sequence through the model will result in indexing errors\n"
     ]
    }
   ],
   "execution_count": 3
  },
  {
   "metadata": {
    "ExecuteTime": {
     "end_time": "2024-12-29T22:29:39.662727Z",
     "start_time": "2024-12-29T22:29:39.626082Z"
    }
   },
   "cell_type": "code",
   "source": [
    "from paper.exp3_magpie.corpus_magpie import MAGPIE_entry, MagpieEntryForProcessing\n",
    "##############\n",
    "#### produce magpie for use on cluster\n",
    "##############\n",
    "\n",
    "from typing import List\n",
    "\n",
    "def make_magpie_json_for_cluster(magpie_entries: List[MAGPIE_entry]):\n",
    "    all_json: List[MagpieEntryForProcessing] = []\n",
    "    for idx, me in enumerate(magpie_entries):\n",
    "        assert idx == me.id\n",
    "        all_json.append(\n",
    "            MagpieEntryForProcessing(\n",
    "                me.id,\n",
    "                me.sent\n",
    "            )\n",
    "        )\n",
    "    return all_json\n",
    "\n",
    "magpie_json_for_cluster = make_magpie_json_for_cluster(all_magpie_entries)\n"
   ],
   "id": "579fd4c49ecb63da",
   "outputs": [],
   "execution_count": 9
  },
  {
   "metadata": {
    "ExecuteTime": {
     "end_time": "2024-12-29T22:29:51.609803Z",
     "start_time": "2024-12-29T22:29:50.405759Z"
    }
   },
   "cell_type": "code",
   "source": [
    "from rozlib.libs.common.data.utils_jsonl import dump_to_jsonl\n",
    "\n",
    "# write into files\n",
    "# magpie-unclean - will have extra spaces (i.e. no tokenization clean up)\n",
    "# magpie_dir = Path(\"../../../../../data/corpus_parsed/magpie_unclean\")\n",
    "magpie_dir = Exp3Magpie.magpie_text_file_dir\n",
    "chunksize = 1000\n",
    "\n",
    "def write_to_chunked_files(all_inputs: List[MagpieEntryForProcessing]):\n",
    "    line_ct = 0\n",
    "    file_ct = 0\n",
    "    # f = open(magpie_dir / f\"{file_ct}.txt\", \"w\")\n",
    "    f = magpie_dir / f\"{file_ct}.txt\"\n",
    "\n",
    "    for idx, i in enumerate(all_inputs):\n",
    "        if line_ct == chunksize:\n",
    "            # f.close()\n",
    "            line_ct = 0\n",
    "            file_ct += 1\n",
    "            # f = open(magpie_dir / f\"{file_ct}.txt\", \"w\")\n",
    "            f = magpie_dir / f\"{file_ct}.txt\"\n",
    "        dump_to_jsonl(i, f)\n",
    "        # f.write(i + \"\\n\")\n",
    "        line_ct += 1\n",
    "    # f.close()\n",
    "\n",
    "# uncomment to rewrite output\n",
    "# write_to_chunked_files(magpie_json_for_cluster)\n"
   ],
   "id": "717ef756de920557",
   "outputs": [],
   "execution_count": 11
  },
  {
   "metadata": {},
   "cell_type": "markdown",
   "source": "",
   "id": "8ac83f84e07c04e2"
  }
 ],
 "metadata": {
  "kernelspec": {
   "display_name": "Python 3",
   "language": "python",
   "name": "python3"
  },
  "language_info": {
   "codemirror_mode": {
    "name": "ipython",
    "version": 2
   },
   "file_extension": ".py",
   "mimetype": "text/x-python",
   "name": "python",
   "nbconvert_exporter": "python",
   "pygments_lexer": "ipython2",
   "version": "2.7.6"
  }
 },
 "nbformat": 4,
 "nbformat_minor": 5
}
