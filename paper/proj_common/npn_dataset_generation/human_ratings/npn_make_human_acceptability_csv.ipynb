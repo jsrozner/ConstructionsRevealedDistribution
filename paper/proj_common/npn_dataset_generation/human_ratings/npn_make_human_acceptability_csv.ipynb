{
 "cells": [
  {
   "cell_type": "code",
   "id": "initial_id",
   "metadata": {
    "collapsed": true,
    "ExecuteTime": {
     "end_time": "2025-04-23T18:37:48.686035Z",
     "start_time": "2025-04-23T18:37:48.675161Z"
    }
   },
   "source": [
    "# dump gpt generations to file for human acceptability ratings\n",
    "\n",
    "%load_ext autoreload\n",
    "%autoreload 2\n"
   ],
   "outputs": [],
   "execution_count": 1
  },
  {
   "metadata": {
    "ExecuteTime": {
     "end_time": "2025-04-23T18:37:48.703674Z",
     "start_time": "2025-04-23T18:37:48.688967Z"
    }
   },
   "cell_type": "code",
   "source": [
    "from proj.cxs_are_revealed.paper.data_config import Exp4NPN\n",
    "from proj.cxs_are_revealed.paper.proj_common.npn_dataset_generation.npn_utils import make_csv_for_human_analysis\n",
    "\n"
   ],
   "id": "1fce68208321a35f",
   "outputs": [],
   "execution_count": 2
  },
  {
   "metadata": {},
   "cell_type": "code",
   "outputs": [],
   "execution_count": null,
   "source": [
    "# original paper v1 dataset\n",
    "# make_csv_for_human_analysis(\n",
    "#     Exp4NPN.npn_gpt_outputs,\n",
    "#     Exp4NPN.npn_outputs_for_human_acceptability_csv\n",
    "# )\n"
   ],
   "id": "be4ea05f93f41f57"
  },
  {
   "metadata": {
    "ExecuteTime": {
     "end_time": "2025-04-23T18:37:49.899514Z",
     "start_time": "2025-04-23T18:37:49.612671Z"
    }
   },
   "cell_type": "code",
   "source": [
    "# original paper v2 dataset resample\n",
    "# make_csv_for_human_analysis(\n",
    "#     Exp4NPN.npn_gpt_outputs_v2_fixed,\n",
    "#     Exp4NPN.npn_outputs_for_human_acceptability_csv_v2\n",
    "# )\n"
   ],
   "id": "703bce6dd33fb932",
   "outputs": [
    {
     "name": "stdout",
     "output_type": "stream",
     "text": [
      "notify (non error): more than 2 occurrences! asteroid The explorer traveled from asteroid to asteroid, seeking valuable minerals in the vast expanse of the asteroid belt. \n",
      "\n",
      "notify (non error): more than 2 occurrences! asteroid The spacecraft maneuvered through the dense asteroid belt, dodging asteroid upon asteroid in its daring journey. \n",
      "\n",
      "notify (non error): more than 2 occurrences! interior As an interior designer, she meticulously worked through interior after interior, bringing each one to life with her unique style. \n",
      "\n",
      "notify (non error): more than 2 occurrences! tow As the snowstorm raged on, the tow trucks worked relentlessly, pulling out tow after tow from the heaps of snow. \n",
      "\n",
      "notify (non error): more than 2 occurrences! tow The seasoned tow truck driver cleared the pileup on the highway, moving the vehicles tow by tow until the road was clear. \n",
      "\n",
      "notify (non error): more than 2 occurrences! comp As he delved deeper into his programming career, he found himself working on comp upon comp, creating complex systems and coding structures. \n",
      "\n",
      "notify (non error): more than 2 occurrences! may His garden bloomed from May to May, showcasing a year-round explosion of color and fragrance. \n",
      "\n",
      "In filter outputs, printing filtered\n",
      "For the preposition category, it's count where desired NPN string did not occur\n",
      "Counter()\n",
      "after filtering total outputs: 392\n",
      "Counter({'to': 98, 'after': 98, 'by': 98, 'upon': 98})\n",
      "    id                                               sent\n",
      "0  345  As a diligent scholar, he poured over his rese...\n",
      "1  306  The church managed to rebuild itself, clergy b...\n",
      "2  357  As the political candidate persevered through ...\n",
      "3  240  The new business regulations affected the mark...\n",
      "4   72  As a film critic, I scrutinize each movie I wa...\n"
     ]
    }
   ],
   "execution_count": 3
  },
  {
   "metadata": {
    "ExecuteTime": {
     "end_time": "2025-04-23T19:11:43.723547Z",
     "start_time": "2025-04-23T19:11:43.615075Z"
    }
   },
   "cell_type": "code",
   "source": [
    "# original paper v3 dataset - infinigram 0 counts\n",
    "make_csv_for_human_analysis(\n",
    "    Exp4NPN.npn_gpt_outputs_v3_zero_freq,\n",
    "    Exp4NPN.npn_outputs_for_human_acceptability_csv_v3\n",
    ")\n"
   ],
   "id": "e68a84f795f3b541",
   "outputs": [
    {
     "name": "stdout",
     "output_type": "stream",
     "text": [
      "notify (non error): more than 2 occurrences! maternity As a maternity nurse, she experienced the joy and struggle of new life, maternity upon maternity, and it only strengthened her passion for her job. \n",
      "\n",
      "notify (non error): more than 2 occurrences! despite Despite after despite, she continued to pursue her dreams with unwavering determination. \n",
      "\n",
      "In filter outputs, printing filtered\n",
      "For the preposition category, it's count where desired NPN string did not occur\n",
      "Counter()\n",
      "after filtering total outputs: 364\n",
      "Counter({'to': 91, 'after': 91, 'by': 91, 'upon': 91})\n",
      "    id                                               sent\n",
      "0  353  The museum displayed an impressive collection,...\n",
      "1  324  They lived a nomadic life, moving from resettl...\n",
      "2   72  The heated debate raged on, nationalist to nat...\n",
      "3  336  He lived his life on the edge, making one risk...\n",
      "4  215  In the library, she delved into ancient texts,...\n"
     ]
    }
   ],
   "execution_count": 5
  },
  {
   "metadata": {},
   "cell_type": "code",
   "outputs": [],
   "execution_count": null,
   "source": [
    "# babyLM dataset\n",
    "# make_csv_for_human_analysis(\n",
    "#     BabyLMExp6NPN.npn_gpt_outputs,\n",
    "#     BabyLMExp6NPN.npn_outputs_for_human_acceptability_csv\n",
    "# )\n"
   ],
   "id": "cd2b3ecad98e449a"
  },
  {
   "metadata": {},
   "cell_type": "code",
   "outputs": [],
   "execution_count": null,
   "source": "",
   "id": "82a1ed65422b15b8"
  }
 ],
 "metadata": {
  "kernelspec": {
   "display_name": "Python 3",
   "language": "python",
   "name": "python3"
  },
  "language_info": {
   "codemirror_mode": {
    "name": "ipython",
    "version": 2
   },
   "file_extension": ".py",
   "mimetype": "text/x-python",
   "name": "python",
   "nbconvert_exporter": "python",
   "pygments_lexer": "ipython2",
   "version": "2.7.6"
  }
 },
 "nbformat": 4,
 "nbformat_minor": 5
}
