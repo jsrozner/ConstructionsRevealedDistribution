{
 "cells": [
  {
   "cell_type": "code",
   "id": "initial_id",
   "metadata": {
    "collapsed": true,
    "ExecuteTime": {
     "end_time": "2025-05-22T05:33:34.006564Z",
     "start_time": "2025-05-22T05:33:33.996205Z"
    }
   },
   "source": [
    "%load_ext autoreload\n",
    "%autoreload 2\n",
    "\n",
    "# get various statistics for the babyLM paper (supplementary info)\n"
   ],
   "outputs": [],
   "execution_count": 1
  },
  {
   "metadata": {
    "ExecuteTime": {
     "end_time": "2025-05-22T05:33:37.613635Z",
     "start_time": "2025-05-22T05:33:34.011738Z"
    }
   },
   "cell_type": "code",
   "source": [
    "\n",
    "from lib.common.mlm_singleton import init_singleton_scorer\n",
    "\n",
    "mlm_scorer = init_singleton_scorer('babylm/ltgbert-10m-2024')\n",
    "total_params = sum(p.numel() for p in mlm_scorer.model.parameters())\n",
    "print(total_params)\n",
    "\n"
   ],
   "id": "1e1eae0c7ff2edd2",
   "outputs": [
    {
     "name": "stderr",
     "output_type": "stream",
     "text": [
      "WARNING:root:Initializing babylm/ltgbert-10m-2024\n",
      "WARNING:root:INIT\n",
      "WARNING:root:Will use cache for MLMScorer. Use this for analysis.For computation, avoid this; memory will blow up.\n",
      "/Users/jsrozner/docs_local/research/proj_code/rozner-mono-cxs-main/proj/cxs_are_revealed/src/lib/common/mlm_scorer_base.py:74: UserWarning: This repo has been set to autotrust remote; you prev gave confirmation which is stored in /Users/jsrozner/docs_local/research/proj_code/rozner-mono-cxs-main/proj/cxs_are_revealed/exp/trust_hf_remote_repo\n",
      "  warnings.warn(f\"This repo has been set to autotrust remote; you prev gave confirmation which is stored \"\n"
     ]
    },
    {
     "name": "stdout",
     "output_type": "stream",
     "text": [
      "110812672\n"
     ]
    }
   ],
   "execution_count": 2
  },
  {
   "metadata": {
    "ExecuteTime": {
     "end_time": "2025-03-27T19:42:28.492650Z",
     "start_time": "2025-03-27T19:42:25.932294Z"
    }
   },
   "cell_type": "code",
   "source": [
    "from proj.cxs_are_revealed.exp import get_data\n",
    "\n",
    "exs_no_errors = get_data()\n"
   ],
   "id": "7200573a711be9ca",
   "outputs": [
    {
     "name": "stderr",
     "output_type": "stream",
     "text": [
      "/Users/jsrozner/docs_local/research/projects/research_constructions/constructions_repo/proj/cxs_are_revealed/src/corpus_tools/zhou_cxs_so_difficult/corpus_leonie_eap_aap_cec.py:148: UserWarning: the adj_idx, so_idx, and that_idx will be set to 0!\n",
      "  warnings.warn(\"the adj_idx, so_idx, and that_idx will be set to 0!\")\n",
      "WARNING:root:While processing, 30 errors\n"
     ]
    },
    {
     "name": "stdout",
     "output_type": "stream",
     "text": [
      "Initially read in 323 examples\n",
      "num exs after remove errors: 293\n",
      "returning 0 or more than one example!!\n",
      "WARN: ex not found\n",
      "number of examples: 293\n"
     ]
    }
   ],
   "execution_count": 2
  },
  {
   "metadata": {
    "ExecuteTime": {
     "end_time": "2025-03-27T19:46:01.683078Z",
     "start_time": "2025-03-27T19:46:01.641351Z"
    }
   },
   "cell_type": "code",
   "source": [
    "from pprint import pp\n",
    "from collections import Counter\n",
    "\n",
    "# cec\n",
    "\n",
    "def count_cec():\n",
    "    c = Counter()\n",
    "    for e in exs_no_errors:\n",
    "        if e.sentence_orig.lower().count('so ') > 1:\n",
    "            pp(e)\n",
    "        c[e.label] += 1\n",
    "    print(c)\n",
    "count_cec()"
   ],
   "id": "23931c8729f43ab7",
   "outputs": [
    {
     "name": "stdout",
     "output_type": "stream",
     "text": [
      "BaseExample(id=269,\n",
      "            adj='disturbed',\n",
      "            label=<CxType.cec: 3>,\n",
      "            sentence_orig='So , therefore , I was so disturbed by it that I '\n",
      "                          \"just sat and wept for a missed opportunity of a ' \"\n",
      "                          \"grand ' finale .\",\n",
      "            _sentence_punct_fixed='So , therefore , I was so disturbed by it '\n",
      "                                  'that I just sat and wept for a missed '\n",
      "                                  \"opportunity of a ' grand ' finale .\",\n",
      "            has_error=False,\n",
      "            multi_that=False,\n",
      "            so_idx=0,\n",
      "            adj_idx=0,\n",
      "            that_idx=0)\n",
      "Counter({<CxType.cec: 3>: 100, <CxType.oce: 4>: 94, <CxType.aap_causal: 1>: 73, <CxType.eap_noncausal: 2>: 22, <CxType.invalid: 5>: 4})\n"
     ]
    }
   ],
   "execution_count": 4
  },
  {
   "metadata": {
    "ExecuteTime": {
     "end_time": "2025-03-27T19:57:49.941302Z",
     "start_time": "2025-03-27T19:57:49.716934Z"
    }
   },
   "cell_type": "code",
   "source": [
    "# multithat\n",
    "from proj.cxs_are_revealed.paper.babylm.exp2_multithat import get_data as get_data_mulithat\n",
    "def count_mulitthat():\n",
    "    exs = get_data_mulithat()\n",
    "    print(len(exs))\n",
    "count_mulitthat()"
   ],
   "id": "b6169c40fb9b9542",
   "outputs": [
    {
     "name": "stdout",
     "output_type": "stream",
     "text": [
      "31\n"
     ]
    }
   ],
   "execution_count": 5
  },
  {
   "metadata": {
    "ExecuteTime": {
     "end_time": "2025-03-27T20:58:33.551719Z",
     "start_time": "2025-03-27T20:58:32.899076Z"
    }
   },
   "cell_type": "code",
   "source": [
    "from proj.cxs_are_revealed.paper.cxns_in_distrib.exp3_magpie import get_all_magpie_json, MAGPIE_entry\n",
    "\n",
    "\n",
    "# magpie\n",
    "def count_magpie():\n",
    "\n",
    "    # read in the output json\n",
    "    all_magpie_json = get_all_magpie_json()\n",
    "    print(len(all_magpie_json))\n",
    "\n",
    "    magpie_entries = [MAGPIE_entry.from_dict(j) for j in all_magpie_json]\n",
    "\n",
    "    total = 0\n",
    "    ct_sents = 0\n",
    "    for m in magpie_entries:\n",
    "        ct_sents += 1\n",
    "        total += len(m.offsets)\n",
    "    print(total)\n",
    "    print(ct_sents)\n",
    "\n",
    "    # confidence\n",
    "    conf_okay = [x for x in magpie_entries if x.confidence >= 0.99]\n",
    "    print(f\"filtered {ct_sents - len(conf_okay)} sentences for confidence; new total: {len(conf_okay)}\")\n",
    "    lit_sents = [x for x in conf_okay if x.label == 'l']\n",
    "    id_sents = [x for x in conf_okay if x.label == 'i']\n",
    "    print(f\"lit_sents: {len(lit_sents)}\")\n",
    "    print(f\"id_sents: {len(id_sents)}\")\n",
    "\n",
    "    # check num words in these\n",
    "    words = [(x,m.label) for m in conf_okay for x in m.offsets]\n",
    "    print(f\"potential words in okay conf: {len(words)}\")\n",
    "    print(words[:5])\n",
    "\n",
    "    words_lit = [x for x in words if x[1] == 'l']\n",
    "    words_id = [x for x in words if x[1] == 'i']\n",
    "    print(len(words_lit), len(words_id))\n",
    "\n",
    "count_magpie()\n",
    "\n",
    "\n"
   ],
   "id": "16a6c2e6a0142a5c",
   "outputs": [
    {
     "name": "stdout",
     "output_type": "stream",
     "text": [
      "48395\n",
      "129397\n",
      "48395\n",
      "filtered 3944 sentences for confidence; new total: 44451\n",
      "lit_sents: 10313\n",
      "id_sents: 34138\n",
      "potential words in okay conf: 119401\n",
      "[((117, 120), 'i'), ((125, 131), 'i'), ((132, 137), 'i'), ((3, 8), 'i'), ((9, 11), 'i')]\n",
      "23484 95917\n"
     ]
    }
   ],
   "execution_count": 14
  },
  {
   "metadata": {},
   "cell_type": "code",
   "outputs": [],
   "execution_count": null,
   "source": [
    "48395\n",
    "129397\n",
    "48395"
   ],
   "id": "7c14c047c0935a34"
  }
 ],
 "metadata": {
  "kernelspec": {
   "display_name": "Python 3",
   "language": "python",
   "name": "python3"
  },
  "language_info": {
   "codemirror_mode": {
    "name": "ipython",
    "version": 2
   },
   "file_extension": ".py",
   "mimetype": "text/x-python",
   "name": "python",
   "nbconvert_exporter": "python",
   "pygments_lexer": "ipython2",
   "version": "2.7.6"
  }
 },
 "nbformat": 4,
 "nbformat_minor": 5
}
