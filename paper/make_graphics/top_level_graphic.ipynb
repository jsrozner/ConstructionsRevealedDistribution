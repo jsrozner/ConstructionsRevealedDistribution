{
 "cells": [
  {
   "cell_type": "code",
   "id": "initial_id",
   "metadata": {
    "collapsed": true
   },
   "source": [
    "\n",
    "%load_ext autoreload\n",
    "%autoreload 2\n"
   ],
   "outputs": [],
   "execution_count": null
  },
  {
   "metadata": {
    "ExecuteTime": {
     "end_time": "2025-09-17T18:48:58.179840Z",
     "start_time": "2025-09-17T18:48:58.113665Z"
    }
   },
   "cell_type": "code",
   "source": [
    "from lib.distr_diff_fcns import jensen_shannon_divergence\n",
    "from lib.common.mlm_singleton import init_singleton_scorer\n",
    "from rozlib.libs.plotting.utils_latex_matplot import config_matplot_for_latex, FigSaver, save_fig\n",
    "from lib.scoring_fns import probability, surprisal\n",
    "import os\n",
    "\n",
    "# make sure we init the scorer for all modules first\n",
    "mlm_scorer = init_singleton_scorer('roberta-large')\n",
    "# mlm_scorer = init_singleton_scorer('ltg/gpt-bert-babylm-base')\n",
    "\n",
    "# make the warnings shut up (likely bc of latex call)\n",
    "os.environ[\"TOKENIZERS_PARALLELISM\"] = \"true\"\n"
   ],
   "id": "589f90f10b68e50f",
   "outputs": [
    {
     "name": "stderr",
     "output_type": "stream",
     "text": [
      "WARNING:root:WARN: singleton already initialized (roberta-large); will not re-init\n"
     ]
    }
   ],
   "execution_count": 46
  },
  {
   "metadata": {
    "ExecuteTime": {
     "end_time": "2025-09-17T18:48:58.649302Z",
     "start_time": "2025-09-17T18:48:58.619252Z"
    }
   },
   "cell_type": "code",
   "source": [
    "\n",
    "from pathlib import Path\n",
    "fig_saver = FigSaver(Path(\"/Users/jsrozner/docs_local/research/proj_code/rozner-mono-cxs-main/proj/cxs_are_revealed/supplemental/figs/top_level\"))\n"
   ],
   "id": "c8a635163752f0c6",
   "outputs": [
    {
     "name": "stdout",
     "output_type": "stream",
     "text": [
      "Initializing fig saver at dir /Users/jsrozner/docs_local/research/proj_code/rozner-mono-cxs-main/proj/cxs_are_revealed/supplemental/figs/top_level\n"
     ]
    }
   ],
   "execution_count": 47
  },
  {
   "metadata": {
    "ExecuteTime": {
     "end_time": "2025-09-17T18:49:03.262331Z",
     "start_time": "2025-09-17T18:49:00.489399Z"
    }
   },
   "cell_type": "code",
   "source": [
    "\n",
    "from lib.plotting.plot_corr_matrix import plot_heatmap\n",
    "from affinity.corr_matrix_new import get_scores_new\n",
    "from affinity.tokenization import Sentence\n",
    "\n",
    "\n",
    "def make_local_plot(sent, cmap=\"Grays\"):\n",
    "    local_affinities, _, multi_tok_indices, global_affinities, preds = (\n",
    "        get_scores_new(\n",
    "            sent,\n",
    "            score_fn = probability,\n",
    "            num_preds=5,\n",
    "            calculate_affinities=True,\n",
    "            dist_diff_fn=jensen_shannon_divergence,\n",
    "            normalize=False\n",
    "        ))\n",
    "\n",
    "    f = plot_heatmap(local_affinities,\n",
    "                 sent.words_clean,\n",
    "                 # actual_subs,\n",
    "                 None,\n",
    "                 cmap=cmap,\n",
    "                 # title=\"Local Affinities\",\n",
    "                 xlabel_rotation=45,\n",
    "                     return_fig=True\n",
    "                 )\n",
    "    return f\n",
    "\n",
    "s1 = \"It is a secret so do not spill the beans.\" # that the speech made me cry.\" #could get my clothes on\"\n",
    "s = Sentence(s1)\n",
    "config_matplot_for_latex(10, dpi=100)\n",
    "aff_map = make_local_plot(s)\n",
    "fig_saver.save(aff_map, \"aff_plot.png\")\n",
    "\n"
   ],
   "id": "5cabc29d842bd40b",
   "outputs": [
    {
     "name": "stderr",
     "output_type": "stream",
     "text": [
      "/Users/jsrozner/docs_local/research/proj_code/rozner-mono-cxs-main/rozlib-python/rozlib/libs/plotting/utils_latex_matplot.py:44: UserWarning: /Library/TeX/textbin will be added to path\n",
      "  warnings.warn(f\"/Library/TeX/textbin will be added to path\")\n",
      "/Users/jsrozner/docs_local/research/proj_code/rozner-mono-cxs-main/proj/cxs_are_revealed/src/affinity/tokenization.py:344: UserWarning: using a function that does not assert that words match\n",
      "  warnings.warn(\"using a function that does not assert that words match\")\n"
     ]
    },
    {
     "data": {
      "text/plain": [
       "<Figure size 300x300 with 1 Axes>"
      ],
      "image/png": "[encoded data removed]"
     },
     "metadata": {},
     "output_type": "display_data"
    }
   ],
   "execution_count": 48
  },
  {
   "metadata": {},
   "cell_type": "code",
   "source": [
    "from lib.plotting.plots import full_plot_single_sentence, plot_one_global_aff, plot_all_affinities\n",
    "from affinity.plots_new import full_plot_single_sentence_new\n",
    "\n",
    "# for paper ARRreview\n",
    "\n",
    "def x(s):\n",
    "    f = full_plot_single_sentence_new(s,\n",
    "                                      do_print=True,\n",
    "                                      plot_local=True,\n",
    "                                      use_euclid=False,\n",
    "                                      num_preds=5,\n",
    "                                      add_scores_on_top_font_size=10,\n",
    "                                      fig_size=(10,2)\n",
    "                                      # normalize =False\n",
    "                                      )\n",
    "\n",
    "x(s1)\n",
    "# x(s2)\n"
   ],
   "id": "f42e66d89419eeb4",
   "outputs": [],
   "execution_count": null
  },
  {
   "metadata": {
    "ExecuteTime": {
     "end_time": "2025-09-17T18:52:47.467031Z",
     "start_time": "2025-09-17T18:52:45.740496Z"
    }
   },
   "cell_type": "code",
   "source": "",
   "id": "e7017c9b29ba5a74",
   "outputs": [
    {
     "data": {
      "text/plain": [
       "<Figure size 1000x100 with 1 Axes>"
      ],
      "image/png": "[encoded data removed]"
     },
     "metadata": {},
     "output_type": "display_data"
    },
    {
     "name": "stdout",
     "output_type": "stream",
     "text": [
      "Error in callback <function _draw_all_if_interactive at 0x10a484a40> (for post_execute), with arguments args (),kwargs {}:\n"
     ]
    },
    {
     "ename": "RuntimeError",
     "evalue": "latex was not able to process the following string:\nb'\\\\\\\\textcolor{Orange}{beans}'\n\nHere is the full command invocation and its output:\n\nlatex -interaction=nonstopmode --halt-on-error --output-directory=tmpe8io9hpc ea217875f36652814369b96ca50ad54c.tex\n\nThis is pdfTeX, Version 3.141592653-2.6-1.40.26 (TeX Live 2024) (preloaded format=latex)\n restricted \\write18 enabled.\nentering extended mode\n(./ea217875f36652814369b96ca50ad54c.tex\nLaTeX2e <2023-11-01> patch level 1\nL3 programming layer <2024-02-20>\n(/usr/local/texlive/2024/texmf-dist/tex/latex/base/article.cls\nDocument Class: article 2023/05/17 v1.4n Standard LaTeX document class\n(/usr/local/texlive/2024/texmf-dist/tex/latex/base/size10.clo))\n(/usr/local/texlive/2024/texmf-dist/tex/latex/psnfss/mathptmx.sty)\n(/usr/local/texlive/2024/texmf-dist/tex/latex/type1cm/type1cm.sty)\n(/usr/local/texlive/2024/texmf-dist/tex/latex/cm-super/type1ec.sty\n(/usr/local/texlive/2024/texmf-dist/tex/latex/base/t1cmr.fd))\n(/usr/local/texlive/2024/texmf-dist/tex/latex/base/inputenc.sty)\n(/usr/local/texlive/2024/texmf-dist/tex/latex/geometry/geometry.sty\n(/usr/local/texlive/2024/texmf-dist/tex/latex/graphics/keyval.sty)\n(/usr/local/texlive/2024/texmf-dist/tex/generic/iftex/ifvtex.sty\n(/usr/local/texlive/2024/texmf-dist/tex/generic/iftex/iftex.sty)))\n(/usr/local/texlive/2024/texmf-dist/tex/latex/xcolor/xcolor.sty\n(/usr/local/texlive/2024/texmf-dist/tex/latex/graphics-cfg/color.cfg)\n(/usr/local/texlive/2024/texmf-dist/tex/latex/graphics-def/dvips.def)\n(/usr/local/texlive/2024/texmf-dist/tex/latex/graphics/mathcolor.ltx))\n(/usr/local/texlive/2024/texmf-dist/tex/latex/underscore/underscore.sty)\n(/usr/local/texlive/2024/texmf-dist/tex/latex/firstaid/underscore-ltx.sty)\n(/usr/local/texlive/2024/texmf-dist/tex/latex/base/textcomp.sty)\n(/usr/local/texlive/2024/texmf-dist/tex/latex/psnfss/ot1ptm.fd)\n(/usr/local/texlive/2024/texmf-dist/tex/latex/l3backend/l3backend-dvips.def)\nNo file ea217875f36652814369b96ca50ad54c.aux.\n*geometry* driver: auto-detecting\n*geometry* detected driver: dvips\n\n! Package xcolor Error: Undefined color `Orange'.\n\nSee the xcolor package documentation for explanation.\nType  H <return>  for immediate help.\n ...                                              \n                                                  \nl.30 {\\rmfamily \\textcolor{Orange}{beans}\n                                         }%\nNo pages of output.\nTranscript written on tmpe8io9hpc/ea217875f36652814369b96ca50ad54c.log.\n\n\n",
     "output_type": "error",
     "traceback": [
      "\u001B[0;31m---------------------------------------------------------------------------\u001B[0m",
      "\u001B[0;31mRuntimeError\u001B[0m                              Traceback (most recent call last)",
      "File \u001B[0;32m/opt/homebrew/Caskroom/miniconda/base/envs/2024_coelm/lib/python3.12/site-packages/matplotlib/pyplot.py:268\u001B[0m, in \u001B[0;36m_draw_all_if_interactive\u001B[0;34m()\u001B[0m\n\u001B[1;32m    266\u001B[0m \u001B[38;5;28;01mdef\u001B[39;00m \u001B[38;5;21m_draw_all_if_interactive\u001B[39m() \u001B[38;5;241m-\u001B[39m\u001B[38;5;241m>\u001B[39m \u001B[38;5;28;01mNone\u001B[39;00m:\n\u001B[1;32m    267\u001B[0m     \u001B[38;5;28;01mif\u001B[39;00m matplotlib\u001B[38;5;241m.\u001B[39mis_interactive():\n\u001B[0;32m--> 268\u001B[0m         draw_all()\n",
      "File \u001B[0;32m/opt/homebrew/Caskroom/miniconda/base/envs/2024_coelm/lib/python3.12/site-packages/matplotlib/_pylab_helpers.py:131\u001B[0m, in \u001B[0;36mGcf.draw_all\u001B[0;34m(cls, force)\u001B[0m\n\u001B[1;32m    129\u001B[0m \u001B[38;5;28;01mfor\u001B[39;00m manager \u001B[38;5;129;01min\u001B[39;00m \u001B[38;5;28mcls\u001B[39m\u001B[38;5;241m.\u001B[39mget_all_fig_managers():\n\u001B[1;32m    130\u001B[0m     \u001B[38;5;28;01mif\u001B[39;00m force \u001B[38;5;129;01mor\u001B[39;00m manager\u001B[38;5;241m.\u001B[39mcanvas\u001B[38;5;241m.\u001B[39mfigure\u001B[38;5;241m.\u001B[39mstale:\n\u001B[0;32m--> 131\u001B[0m         manager\u001B[38;5;241m.\u001B[39mcanvas\u001B[38;5;241m.\u001B[39mdraw_idle()\n",
      "File \u001B[0;32m/opt/homebrew/Caskroom/miniconda/base/envs/2024_coelm/lib/python3.12/site-packages/matplotlib/backend_bases.py:1905\u001B[0m, in \u001B[0;36mFigureCanvasBase.draw_idle\u001B[0;34m(self, *args, **kwargs)\u001B[0m\n\u001B[1;32m   1903\u001B[0m \u001B[38;5;28;01mif\u001B[39;00m \u001B[38;5;129;01mnot\u001B[39;00m \u001B[38;5;28mself\u001B[39m\u001B[38;5;241m.\u001B[39m_is_idle_drawing:\n\u001B[1;32m   1904\u001B[0m     \u001B[38;5;28;01mwith\u001B[39;00m \u001B[38;5;28mself\u001B[39m\u001B[38;5;241m.\u001B[39m_idle_draw_cntx():\n\u001B[0;32m-> 1905\u001B[0m         \u001B[38;5;28mself\u001B[39m\u001B[38;5;241m.\u001B[39mdraw(\u001B[38;5;241m*\u001B[39margs, \u001B[38;5;241m*\u001B[39m\u001B[38;5;241m*\u001B[39mkwargs)\n",
      "File \u001B[0;32m/opt/homebrew/Caskroom/miniconda/base/envs/2024_coelm/lib/python3.12/site-packages/matplotlib/backends/backend_agg.py:387\u001B[0m, in \u001B[0;36mFigureCanvasAgg.draw\u001B[0;34m(self)\u001B[0m\n\u001B[1;32m    384\u001B[0m \u001B[38;5;66;03m# Acquire a lock on the shared font cache.\u001B[39;00m\n\u001B[1;32m    385\u001B[0m \u001B[38;5;28;01mwith\u001B[39;00m (\u001B[38;5;28mself\u001B[39m\u001B[38;5;241m.\u001B[39mtoolbar\u001B[38;5;241m.\u001B[39m_wait_cursor_for_draw_cm() \u001B[38;5;28;01mif\u001B[39;00m \u001B[38;5;28mself\u001B[39m\u001B[38;5;241m.\u001B[39mtoolbar\n\u001B[1;32m    386\u001B[0m       \u001B[38;5;28;01melse\u001B[39;00m nullcontext()):\n\u001B[0;32m--> 387\u001B[0m     \u001B[38;5;28mself\u001B[39m\u001B[38;5;241m.\u001B[39mfigure\u001B[38;5;241m.\u001B[39mdraw(\u001B[38;5;28mself\u001B[39m\u001B[38;5;241m.\u001B[39mrenderer)\n\u001B[1;32m    388\u001B[0m     \u001B[38;5;66;03m# A GUI class may be need to update a window using this draw, so\u001B[39;00m\n\u001B[1;32m    389\u001B[0m     \u001B[38;5;66;03m# don't forget to call the superclass.\u001B[39;00m\n\u001B[1;32m    390\u001B[0m     \u001B[38;5;28msuper\u001B[39m()\u001B[38;5;241m.\u001B[39mdraw()\n",
      "File \u001B[0;32m/opt/homebrew/Caskroom/miniconda/base/envs/2024_coelm/lib/python3.12/site-packages/matplotlib/artist.py:95\u001B[0m, in \u001B[0;36m_finalize_rasterization.<locals>.draw_wrapper\u001B[0;34m(artist, renderer, *args, **kwargs)\u001B[0m\n\u001B[1;32m     93\u001B[0m \u001B[38;5;129m@wraps\u001B[39m(draw)\n\u001B[1;32m     94\u001B[0m \u001B[38;5;28;01mdef\u001B[39;00m \u001B[38;5;21mdraw_wrapper\u001B[39m(artist, renderer, \u001B[38;5;241m*\u001B[39margs, \u001B[38;5;241m*\u001B[39m\u001B[38;5;241m*\u001B[39mkwargs):\n\u001B[0;32m---> 95\u001B[0m     result \u001B[38;5;241m=\u001B[39m draw(artist, renderer, \u001B[38;5;241m*\u001B[39margs, \u001B[38;5;241m*\u001B[39m\u001B[38;5;241m*\u001B[39mkwargs)\n\u001B[1;32m     96\u001B[0m     \u001B[38;5;28;01mif\u001B[39;00m renderer\u001B[38;5;241m.\u001B[39m_rasterizing:\n\u001B[1;32m     97\u001B[0m         renderer\u001B[38;5;241m.\u001B[39mstop_rasterizing()\n",
      "File \u001B[0;32m/opt/homebrew/Caskroom/miniconda/base/envs/2024_coelm/lib/python3.12/site-packages/matplotlib/artist.py:72\u001B[0m, in \u001B[0;36mallow_rasterization.<locals>.draw_wrapper\u001B[0;34m(artist, renderer)\u001B[0m\n\u001B[1;32m     69\u001B[0m     \u001B[38;5;28;01mif\u001B[39;00m artist\u001B[38;5;241m.\u001B[39mget_agg_filter() \u001B[38;5;129;01mis\u001B[39;00m \u001B[38;5;129;01mnot\u001B[39;00m \u001B[38;5;28;01mNone\u001B[39;00m:\n\u001B[1;32m     70\u001B[0m         renderer\u001B[38;5;241m.\u001B[39mstart_filter()\n\u001B[0;32m---> 72\u001B[0m     \u001B[38;5;28;01mreturn\u001B[39;00m draw(artist, renderer)\n\u001B[1;32m     73\u001B[0m \u001B[38;5;28;01mfinally\u001B[39;00m:\n\u001B[1;32m     74\u001B[0m     \u001B[38;5;28;01mif\u001B[39;00m artist\u001B[38;5;241m.\u001B[39mget_agg_filter() \u001B[38;5;129;01mis\u001B[39;00m \u001B[38;5;129;01mnot\u001B[39;00m \u001B[38;5;28;01mNone\u001B[39;00m:\n",
      "File \u001B[0;32m/opt/homebrew/Caskroom/miniconda/base/envs/2024_coelm/lib/python3.12/site-packages/matplotlib/figure.py:3162\u001B[0m, in \u001B[0;36mFigure.draw\u001B[0;34m(self, renderer)\u001B[0m\n\u001B[1;32m   3159\u001B[0m             \u001B[38;5;66;03m# ValueError can occur when resizing a window.\u001B[39;00m\n\u001B[1;32m   3161\u001B[0m     \u001B[38;5;28mself\u001B[39m\u001B[38;5;241m.\u001B[39mpatch\u001B[38;5;241m.\u001B[39mdraw(renderer)\n\u001B[0;32m-> 3162\u001B[0m     mimage\u001B[38;5;241m.\u001B[39m_draw_list_compositing_images(\n\u001B[1;32m   3163\u001B[0m         renderer, \u001B[38;5;28mself\u001B[39m, artists, \u001B[38;5;28mself\u001B[39m\u001B[38;5;241m.\u001B[39msuppressComposite)\n\u001B[1;32m   3165\u001B[0m     renderer\u001B[38;5;241m.\u001B[39mclose_group(\u001B[38;5;124m'\u001B[39m\u001B[38;5;124mfigure\u001B[39m\u001B[38;5;124m'\u001B[39m)\n\u001B[1;32m   3166\u001B[0m \u001B[38;5;28;01mfinally\u001B[39;00m:\n",
      "File \u001B[0;32m/opt/homebrew/Caskroom/miniconda/base/envs/2024_coelm/lib/python3.12/site-packages/matplotlib/image.py:132\u001B[0m, in \u001B[0;36m_draw_list_compositing_images\u001B[0;34m(renderer, parent, artists, suppress_composite)\u001B[0m\n\u001B[1;32m    130\u001B[0m \u001B[38;5;28;01mif\u001B[39;00m not_composite \u001B[38;5;129;01mor\u001B[39;00m \u001B[38;5;129;01mnot\u001B[39;00m has_images:\n\u001B[1;32m    131\u001B[0m     \u001B[38;5;28;01mfor\u001B[39;00m a \u001B[38;5;129;01min\u001B[39;00m artists:\n\u001B[0;32m--> 132\u001B[0m         a\u001B[38;5;241m.\u001B[39mdraw(renderer)\n\u001B[1;32m    133\u001B[0m \u001B[38;5;28;01melse\u001B[39;00m:\n\u001B[1;32m    134\u001B[0m     \u001B[38;5;66;03m# Composite any adjacent images together\u001B[39;00m\n\u001B[1;32m    135\u001B[0m     image_group \u001B[38;5;241m=\u001B[39m []\n",
      "File \u001B[0;32m/opt/homebrew/Caskroom/miniconda/base/envs/2024_coelm/lib/python3.12/site-packages/matplotlib/artist.py:72\u001B[0m, in \u001B[0;36mallow_rasterization.<locals>.draw_wrapper\u001B[0;34m(artist, renderer)\u001B[0m\n\u001B[1;32m     69\u001B[0m     \u001B[38;5;28;01mif\u001B[39;00m artist\u001B[38;5;241m.\u001B[39mget_agg_filter() \u001B[38;5;129;01mis\u001B[39;00m \u001B[38;5;129;01mnot\u001B[39;00m \u001B[38;5;28;01mNone\u001B[39;00m:\n\u001B[1;32m     70\u001B[0m         renderer\u001B[38;5;241m.\u001B[39mstart_filter()\n\u001B[0;32m---> 72\u001B[0m     \u001B[38;5;28;01mreturn\u001B[39;00m draw(artist, renderer)\n\u001B[1;32m     73\u001B[0m \u001B[38;5;28;01mfinally\u001B[39;00m:\n\u001B[1;32m     74\u001B[0m     \u001B[38;5;28;01mif\u001B[39;00m artist\u001B[38;5;241m.\u001B[39mget_agg_filter() \u001B[38;5;129;01mis\u001B[39;00m \u001B[38;5;129;01mnot\u001B[39;00m \u001B[38;5;28;01mNone\u001B[39;00m:\n",
      "File \u001B[0;32m/opt/homebrew/Caskroom/miniconda/base/envs/2024_coelm/lib/python3.12/site-packages/matplotlib/axes/_base.py:3137\u001B[0m, in \u001B[0;36m_AxesBase.draw\u001B[0;34m(self, renderer)\u001B[0m\n\u001B[1;32m   3134\u001B[0m \u001B[38;5;28;01mif\u001B[39;00m artists_rasterized:\n\u001B[1;32m   3135\u001B[0m     _draw_rasterized(\u001B[38;5;28mself\u001B[39m\u001B[38;5;241m.\u001B[39mfigure, artists_rasterized, renderer)\n\u001B[0;32m-> 3137\u001B[0m mimage\u001B[38;5;241m.\u001B[39m_draw_list_compositing_images(\n\u001B[1;32m   3138\u001B[0m     renderer, \u001B[38;5;28mself\u001B[39m, artists, \u001B[38;5;28mself\u001B[39m\u001B[38;5;241m.\u001B[39mfigure\u001B[38;5;241m.\u001B[39msuppressComposite)\n\u001B[1;32m   3140\u001B[0m renderer\u001B[38;5;241m.\u001B[39mclose_group(\u001B[38;5;124m'\u001B[39m\u001B[38;5;124maxes\u001B[39m\u001B[38;5;124m'\u001B[39m)\n\u001B[1;32m   3141\u001B[0m \u001B[38;5;28mself\u001B[39m\u001B[38;5;241m.\u001B[39mstale \u001B[38;5;241m=\u001B[39m \u001B[38;5;28;01mFalse\u001B[39;00m\n",
      "File \u001B[0;32m/opt/homebrew/Caskroom/miniconda/base/envs/2024_coelm/lib/python3.12/site-packages/matplotlib/image.py:132\u001B[0m, in \u001B[0;36m_draw_list_compositing_images\u001B[0;34m(renderer, parent, artists, suppress_composite)\u001B[0m\n\u001B[1;32m    130\u001B[0m \u001B[38;5;28;01mif\u001B[39;00m not_composite \u001B[38;5;129;01mor\u001B[39;00m \u001B[38;5;129;01mnot\u001B[39;00m has_images:\n\u001B[1;32m    131\u001B[0m     \u001B[38;5;28;01mfor\u001B[39;00m a \u001B[38;5;129;01min\u001B[39;00m artists:\n\u001B[0;32m--> 132\u001B[0m         a\u001B[38;5;241m.\u001B[39mdraw(renderer)\n\u001B[1;32m    133\u001B[0m \u001B[38;5;28;01melse\u001B[39;00m:\n\u001B[1;32m    134\u001B[0m     \u001B[38;5;66;03m# Composite any adjacent images together\u001B[39;00m\n\u001B[1;32m    135\u001B[0m     image_group \u001B[38;5;241m=\u001B[39m []\n",
      "File \u001B[0;32m/opt/homebrew/Caskroom/miniconda/base/envs/2024_coelm/lib/python3.12/site-packages/matplotlib/artist.py:72\u001B[0m, in \u001B[0;36mallow_rasterization.<locals>.draw_wrapper\u001B[0;34m(artist, renderer)\u001B[0m\n\u001B[1;32m     69\u001B[0m     \u001B[38;5;28;01mif\u001B[39;00m artist\u001B[38;5;241m.\u001B[39mget_agg_filter() \u001B[38;5;129;01mis\u001B[39;00m \u001B[38;5;129;01mnot\u001B[39;00m \u001B[38;5;28;01mNone\u001B[39;00m:\n\u001B[1;32m     70\u001B[0m         renderer\u001B[38;5;241m.\u001B[39mstart_filter()\n\u001B[0;32m---> 72\u001B[0m     \u001B[38;5;28;01mreturn\u001B[39;00m draw(artist, renderer)\n\u001B[1;32m     73\u001B[0m \u001B[38;5;28;01mfinally\u001B[39;00m:\n\u001B[1;32m     74\u001B[0m     \u001B[38;5;28;01mif\u001B[39;00m artist\u001B[38;5;241m.\u001B[39mget_agg_filter() \u001B[38;5;129;01mis\u001B[39;00m \u001B[38;5;129;01mnot\u001B[39;00m \u001B[38;5;28;01mNone\u001B[39;00m:\n",
      "File \u001B[0;32m/opt/homebrew/Caskroom/miniconda/base/envs/2024_coelm/lib/python3.12/site-packages/matplotlib/axis.py:1424\u001B[0m, in \u001B[0;36mAxis.draw\u001B[0;34m(self, renderer)\u001B[0m\n\u001B[1;32m   1421\u001B[0m renderer\u001B[38;5;241m.\u001B[39mopen_group(\u001B[38;5;18m__name__\u001B[39m, gid\u001B[38;5;241m=\u001B[39m\u001B[38;5;28mself\u001B[39m\u001B[38;5;241m.\u001B[39mget_gid())\n\u001B[1;32m   1423\u001B[0m ticks_to_draw \u001B[38;5;241m=\u001B[39m \u001B[38;5;28mself\u001B[39m\u001B[38;5;241m.\u001B[39m_update_ticks()\n\u001B[0;32m-> 1424\u001B[0m tlb1, tlb2 \u001B[38;5;241m=\u001B[39m \u001B[38;5;28mself\u001B[39m\u001B[38;5;241m.\u001B[39m_get_ticklabel_bboxes(ticks_to_draw, renderer)\n\u001B[1;32m   1426\u001B[0m \u001B[38;5;28;01mfor\u001B[39;00m tick \u001B[38;5;129;01min\u001B[39;00m ticks_to_draw:\n\u001B[1;32m   1427\u001B[0m     tick\u001B[38;5;241m.\u001B[39mdraw(renderer)\n",
      "File \u001B[0;32m/opt/homebrew/Caskroom/miniconda/base/envs/2024_coelm/lib/python3.12/site-packages/matplotlib/axis.py:1351\u001B[0m, in \u001B[0;36mAxis._get_ticklabel_bboxes\u001B[0;34m(self, ticks, renderer)\u001B[0m\n\u001B[1;32m   1349\u001B[0m \u001B[38;5;28;01mif\u001B[39;00m renderer \u001B[38;5;129;01mis\u001B[39;00m \u001B[38;5;28;01mNone\u001B[39;00m:\n\u001B[1;32m   1350\u001B[0m     renderer \u001B[38;5;241m=\u001B[39m \u001B[38;5;28mself\u001B[39m\u001B[38;5;241m.\u001B[39mfigure\u001B[38;5;241m.\u001B[39m_get_renderer()\n\u001B[0;32m-> 1351\u001B[0m \u001B[38;5;28;01mreturn\u001B[39;00m ([tick\u001B[38;5;241m.\u001B[39mlabel1\u001B[38;5;241m.\u001B[39mget_window_extent(renderer)\n\u001B[1;32m   1352\u001B[0m          \u001B[38;5;28;01mfor\u001B[39;00m tick \u001B[38;5;129;01min\u001B[39;00m ticks \u001B[38;5;28;01mif\u001B[39;00m tick\u001B[38;5;241m.\u001B[39mlabel1\u001B[38;5;241m.\u001B[39mget_visible()],\n\u001B[1;32m   1353\u001B[0m         [tick\u001B[38;5;241m.\u001B[39mlabel2\u001B[38;5;241m.\u001B[39mget_window_extent(renderer)\n\u001B[1;32m   1354\u001B[0m          \u001B[38;5;28;01mfor\u001B[39;00m tick \u001B[38;5;129;01min\u001B[39;00m ticks \u001B[38;5;28;01mif\u001B[39;00m tick\u001B[38;5;241m.\u001B[39mlabel2\u001B[38;5;241m.\u001B[39mget_visible()])\n",
      "File \u001B[0;32m/opt/homebrew/Caskroom/miniconda/base/envs/2024_coelm/lib/python3.12/site-packages/matplotlib/text.py:959\u001B[0m, in \u001B[0;36mText.get_window_extent\u001B[0;34m(self, renderer, dpi)\u001B[0m\n\u001B[1;32m    954\u001B[0m     \u001B[38;5;28;01mraise\u001B[39;00m \u001B[38;5;167;01mRuntimeError\u001B[39;00m(\n\u001B[1;32m    955\u001B[0m         \u001B[38;5;124m\"\u001B[39m\u001B[38;5;124mCannot get window extent of text w/o renderer. You likely \u001B[39m\u001B[38;5;124m\"\u001B[39m\n\u001B[1;32m    956\u001B[0m         \u001B[38;5;124m\"\u001B[39m\u001B[38;5;124mwant to call \u001B[39m\u001B[38;5;124m'\u001B[39m\u001B[38;5;124mfigure.draw_without_rendering()\u001B[39m\u001B[38;5;124m'\u001B[39m\u001B[38;5;124m first.\u001B[39m\u001B[38;5;124m\"\u001B[39m)\n\u001B[1;32m    958\u001B[0m \u001B[38;5;28;01mwith\u001B[39;00m cbook\u001B[38;5;241m.\u001B[39m_setattr_cm(\u001B[38;5;28mself\u001B[39m\u001B[38;5;241m.\u001B[39mfigure, dpi\u001B[38;5;241m=\u001B[39mdpi):\n\u001B[0;32m--> 959\u001B[0m     bbox, info, descent \u001B[38;5;241m=\u001B[39m \u001B[38;5;28mself\u001B[39m\u001B[38;5;241m.\u001B[39m_get_layout(\u001B[38;5;28mself\u001B[39m\u001B[38;5;241m.\u001B[39m_renderer)\n\u001B[1;32m    960\u001B[0m     x, y \u001B[38;5;241m=\u001B[39m \u001B[38;5;28mself\u001B[39m\u001B[38;5;241m.\u001B[39mget_unitless_position()\n\u001B[1;32m    961\u001B[0m     x, y \u001B[38;5;241m=\u001B[39m \u001B[38;5;28mself\u001B[39m\u001B[38;5;241m.\u001B[39mget_transform()\u001B[38;5;241m.\u001B[39mtransform((x, y))\n",
      "File \u001B[0;32m/opt/homebrew/Caskroom/miniconda/base/envs/2024_coelm/lib/python3.12/site-packages/matplotlib/text.py:381\u001B[0m, in \u001B[0;36mText._get_layout\u001B[0;34m(self, renderer)\u001B[0m\n\u001B[1;32m    379\u001B[0m clean_line, ismath \u001B[38;5;241m=\u001B[39m \u001B[38;5;28mself\u001B[39m\u001B[38;5;241m.\u001B[39m_preprocess_math(line)\n\u001B[1;32m    380\u001B[0m \u001B[38;5;28;01mif\u001B[39;00m clean_line:\n\u001B[0;32m--> 381\u001B[0m     w, h, d \u001B[38;5;241m=\u001B[39m _get_text_metrics_with_cache(\n\u001B[1;32m    382\u001B[0m         renderer, clean_line, \u001B[38;5;28mself\u001B[39m\u001B[38;5;241m.\u001B[39m_fontproperties,\n\u001B[1;32m    383\u001B[0m         ismath\u001B[38;5;241m=\u001B[39mismath, dpi\u001B[38;5;241m=\u001B[39m\u001B[38;5;28mself\u001B[39m\u001B[38;5;241m.\u001B[39mfigure\u001B[38;5;241m.\u001B[39mdpi)\n\u001B[1;32m    384\u001B[0m \u001B[38;5;28;01melse\u001B[39;00m:\n\u001B[1;32m    385\u001B[0m     w \u001B[38;5;241m=\u001B[39m h \u001B[38;5;241m=\u001B[39m d \u001B[38;5;241m=\u001B[39m \u001B[38;5;241m0\u001B[39m\n",
      "File \u001B[0;32m/opt/homebrew/Caskroom/miniconda/base/envs/2024_coelm/lib/python3.12/site-packages/matplotlib/text.py:69\u001B[0m, in \u001B[0;36m_get_text_metrics_with_cache\u001B[0;34m(renderer, text, fontprop, ismath, dpi)\u001B[0m\n\u001B[1;32m     66\u001B[0m \u001B[38;5;250m\u001B[39m\u001B[38;5;124;03m\"\"\"Call ``renderer.get_text_width_height_descent``, caching the results.\"\"\"\u001B[39;00m\n\u001B[1;32m     67\u001B[0m \u001B[38;5;66;03m# Cached based on a copy of fontprop so that later in-place mutations of\u001B[39;00m\n\u001B[1;32m     68\u001B[0m \u001B[38;5;66;03m# the passed-in argument do not mess up the cache.\u001B[39;00m\n\u001B[0;32m---> 69\u001B[0m \u001B[38;5;28;01mreturn\u001B[39;00m _get_text_metrics_with_cache_impl(\n\u001B[1;32m     70\u001B[0m     weakref\u001B[38;5;241m.\u001B[39mref(renderer), text, fontprop\u001B[38;5;241m.\u001B[39mcopy(), ismath, dpi)\n",
      "File \u001B[0;32m/opt/homebrew/Caskroom/miniconda/base/envs/2024_coelm/lib/python3.12/site-packages/matplotlib/text.py:77\u001B[0m, in \u001B[0;36m_get_text_metrics_with_cache_impl\u001B[0;34m(renderer_ref, text, fontprop, ismath, dpi)\u001B[0m\n\u001B[1;32m     73\u001B[0m \u001B[38;5;129m@functools\u001B[39m\u001B[38;5;241m.\u001B[39mlru_cache(\u001B[38;5;241m4096\u001B[39m)\n\u001B[1;32m     74\u001B[0m \u001B[38;5;28;01mdef\u001B[39;00m \u001B[38;5;21m_get_text_metrics_with_cache_impl\u001B[39m(\n\u001B[1;32m     75\u001B[0m         renderer_ref, text, fontprop, ismath, dpi):\n\u001B[1;32m     76\u001B[0m     \u001B[38;5;66;03m# dpi is unused, but participates in cache invalidation (via the renderer).\u001B[39;00m\n\u001B[0;32m---> 77\u001B[0m     \u001B[38;5;28;01mreturn\u001B[39;00m renderer_ref()\u001B[38;5;241m.\u001B[39mget_text_width_height_descent(text, fontprop, ismath)\n",
      "File \u001B[0;32m/opt/homebrew/Caskroom/miniconda/base/envs/2024_coelm/lib/python3.12/site-packages/matplotlib/backends/backend_agg.py:212\u001B[0m, in \u001B[0;36mRendererAgg.get_text_width_height_descent\u001B[0;34m(self, s, prop, ismath)\u001B[0m\n\u001B[1;32m    210\u001B[0m _api\u001B[38;5;241m.\u001B[39mcheck_in_list([\u001B[38;5;124m\"\u001B[39m\u001B[38;5;124mTeX\u001B[39m\u001B[38;5;124m\"\u001B[39m, \u001B[38;5;28;01mTrue\u001B[39;00m, \u001B[38;5;28;01mFalse\u001B[39;00m], ismath\u001B[38;5;241m=\u001B[39mismath)\n\u001B[1;32m    211\u001B[0m \u001B[38;5;28;01mif\u001B[39;00m ismath \u001B[38;5;241m==\u001B[39m \u001B[38;5;124m\"\u001B[39m\u001B[38;5;124mTeX\u001B[39m\u001B[38;5;124m\"\u001B[39m:\n\u001B[0;32m--> 212\u001B[0m     \u001B[38;5;28;01mreturn\u001B[39;00m \u001B[38;5;28msuper\u001B[39m()\u001B[38;5;241m.\u001B[39mget_text_width_height_descent(s, prop, ismath)\n\u001B[1;32m    214\u001B[0m \u001B[38;5;28;01mif\u001B[39;00m ismath:\n\u001B[1;32m    215\u001B[0m     ox, oy, width, height, descent, font_image \u001B[38;5;241m=\u001B[39m \\\n\u001B[1;32m    216\u001B[0m         \u001B[38;5;28mself\u001B[39m\u001B[38;5;241m.\u001B[39mmathtext_parser\u001B[38;5;241m.\u001B[39mparse(s, \u001B[38;5;28mself\u001B[39m\u001B[38;5;241m.\u001B[39mdpi, prop)\n",
      "File \u001B[0;32m/opt/homebrew/Caskroom/miniconda/base/envs/2024_coelm/lib/python3.12/site-packages/matplotlib/backend_bases.py:597\u001B[0m, in \u001B[0;36mRendererBase.get_text_width_height_descent\u001B[0;34m(self, s, prop, ismath)\u001B[0m\n\u001B[1;32m    593\u001B[0m fontsize \u001B[38;5;241m=\u001B[39m prop\u001B[38;5;241m.\u001B[39mget_size_in_points()\n\u001B[1;32m    595\u001B[0m \u001B[38;5;28;01mif\u001B[39;00m ismath \u001B[38;5;241m==\u001B[39m \u001B[38;5;124m'\u001B[39m\u001B[38;5;124mTeX\u001B[39m\u001B[38;5;124m'\u001B[39m:\n\u001B[1;32m    596\u001B[0m     \u001B[38;5;66;03m# todo: handle properties\u001B[39;00m\n\u001B[0;32m--> 597\u001B[0m     \u001B[38;5;28;01mreturn\u001B[39;00m \u001B[38;5;28mself\u001B[39m\u001B[38;5;241m.\u001B[39mget_texmanager()\u001B[38;5;241m.\u001B[39mget_text_width_height_descent(\n\u001B[1;32m    598\u001B[0m         s, fontsize, renderer\u001B[38;5;241m=\u001B[39m\u001B[38;5;28mself\u001B[39m)\n\u001B[1;32m    600\u001B[0m dpi \u001B[38;5;241m=\u001B[39m \u001B[38;5;28mself\u001B[39m\u001B[38;5;241m.\u001B[39mpoints_to_pixels(\u001B[38;5;241m72\u001B[39m)\n\u001B[1;32m    601\u001B[0m \u001B[38;5;28;01mif\u001B[39;00m ismath:\n",
      "File \u001B[0;32m/opt/homebrew/Caskroom/miniconda/base/envs/2024_coelm/lib/python3.12/site-packages/matplotlib/texmanager.py:363\u001B[0m, in \u001B[0;36mTexManager.get_text_width_height_descent\u001B[0;34m(cls, tex, fontsize, renderer)\u001B[0m\n\u001B[1;32m    361\u001B[0m \u001B[38;5;28;01mif\u001B[39;00m tex\u001B[38;5;241m.\u001B[39mstrip() \u001B[38;5;241m==\u001B[39m \u001B[38;5;124m'\u001B[39m\u001B[38;5;124m'\u001B[39m:\n\u001B[1;32m    362\u001B[0m     \u001B[38;5;28;01mreturn\u001B[39;00m \u001B[38;5;241m0\u001B[39m, \u001B[38;5;241m0\u001B[39m, \u001B[38;5;241m0\u001B[39m\n\u001B[0;32m--> 363\u001B[0m dvifile \u001B[38;5;241m=\u001B[39m \u001B[38;5;28mcls\u001B[39m\u001B[38;5;241m.\u001B[39mmake_dvi(tex, fontsize)\n\u001B[1;32m    364\u001B[0m dpi_fraction \u001B[38;5;241m=\u001B[39m renderer\u001B[38;5;241m.\u001B[39mpoints_to_pixels(\u001B[38;5;241m1.\u001B[39m) \u001B[38;5;28;01mif\u001B[39;00m renderer \u001B[38;5;28;01melse\u001B[39;00m \u001B[38;5;241m1\u001B[39m\n\u001B[1;32m    365\u001B[0m \u001B[38;5;28;01mwith\u001B[39;00m dviread\u001B[38;5;241m.\u001B[39mDvi(dvifile, \u001B[38;5;241m72\u001B[39m \u001B[38;5;241m*\u001B[39m dpi_fraction) \u001B[38;5;28;01mas\u001B[39;00m dvi:\n",
      "File \u001B[0;32m/opt/homebrew/Caskroom/miniconda/base/envs/2024_coelm/lib/python3.12/site-packages/matplotlib/texmanager.py:295\u001B[0m, in \u001B[0;36mTexManager.make_dvi\u001B[0;34m(cls, tex, fontsize)\u001B[0m\n\u001B[1;32m    293\u001B[0m     \u001B[38;5;28;01mwith\u001B[39;00m TemporaryDirectory(\u001B[38;5;28mdir\u001B[39m\u001B[38;5;241m=\u001B[39mcwd) \u001B[38;5;28;01mas\u001B[39;00m tmpdir:\n\u001B[1;32m    294\u001B[0m         tmppath \u001B[38;5;241m=\u001B[39m Path(tmpdir)\n\u001B[0;32m--> 295\u001B[0m         \u001B[38;5;28mcls\u001B[39m\u001B[38;5;241m.\u001B[39m_run_checked_subprocess(\n\u001B[1;32m    296\u001B[0m             [\u001B[38;5;124m\"\u001B[39m\u001B[38;5;124mlatex\u001B[39m\u001B[38;5;124m\"\u001B[39m, \u001B[38;5;124m\"\u001B[39m\u001B[38;5;124m-interaction=nonstopmode\u001B[39m\u001B[38;5;124m\"\u001B[39m, \u001B[38;5;124m\"\u001B[39m\u001B[38;5;124m--halt-on-error\u001B[39m\u001B[38;5;124m\"\u001B[39m,\n\u001B[1;32m    297\u001B[0m              \u001B[38;5;124mf\u001B[39m\u001B[38;5;124m\"\u001B[39m\u001B[38;5;124m--output-directory=\u001B[39m\u001B[38;5;132;01m{\u001B[39;00mtmppath\u001B[38;5;241m.\u001B[39mname\u001B[38;5;132;01m}\u001B[39;00m\u001B[38;5;124m\"\u001B[39m,\n\u001B[1;32m    298\u001B[0m              \u001B[38;5;124mf\u001B[39m\u001B[38;5;124m\"\u001B[39m\u001B[38;5;132;01m{\u001B[39;00mtexfile\u001B[38;5;241m.\u001B[39mname\u001B[38;5;132;01m}\u001B[39;00m\u001B[38;5;124m\"\u001B[39m], tex, cwd\u001B[38;5;241m=\u001B[39mcwd)\n\u001B[1;32m    299\u001B[0m         (tmppath \u001B[38;5;241m/\u001B[39m Path(dvifile)\u001B[38;5;241m.\u001B[39mname)\u001B[38;5;241m.\u001B[39mreplace(dvifile)\n\u001B[1;32m    300\u001B[0m \u001B[38;5;28;01mreturn\u001B[39;00m dvifile\n",
      "File \u001B[0;32m/opt/homebrew/Caskroom/miniconda/base/envs/2024_coelm/lib/python3.12/site-packages/matplotlib/texmanager.py:258\u001B[0m, in \u001B[0;36mTexManager._run_checked_subprocess\u001B[0;34m(cls, command, tex, cwd)\u001B[0m\n\u001B[1;32m    254\u001B[0m     \u001B[38;5;28;01mraise\u001B[39;00m \u001B[38;5;167;01mRuntimeError\u001B[39;00m(\n\u001B[1;32m    255\u001B[0m         \u001B[38;5;124mf\u001B[39m\u001B[38;5;124m'\u001B[39m\u001B[38;5;124mFailed to process string with tex because \u001B[39m\u001B[38;5;132;01m{\u001B[39;00mcommand[\u001B[38;5;241m0\u001B[39m]\u001B[38;5;132;01m}\u001B[39;00m\u001B[38;5;124m \u001B[39m\u001B[38;5;124m'\u001B[39m\n\u001B[1;32m    256\u001B[0m         \u001B[38;5;124m'\u001B[39m\u001B[38;5;124mcould not be found\u001B[39m\u001B[38;5;124m'\u001B[39m) \u001B[38;5;28;01mfrom\u001B[39;00m \u001B[38;5;21;01mexc\u001B[39;00m\n\u001B[1;32m    257\u001B[0m \u001B[38;5;28;01mexcept\u001B[39;00m subprocess\u001B[38;5;241m.\u001B[39mCalledProcessError \u001B[38;5;28;01mas\u001B[39;00m exc:\n\u001B[0;32m--> 258\u001B[0m     \u001B[38;5;28;01mraise\u001B[39;00m \u001B[38;5;167;01mRuntimeError\u001B[39;00m(\n\u001B[1;32m    259\u001B[0m         \u001B[38;5;124m'\u001B[39m\u001B[38;5;132;01m{prog}\u001B[39;00m\u001B[38;5;124m was not able to process the following string:\u001B[39m\u001B[38;5;130;01m\\n\u001B[39;00m\u001B[38;5;124m'\u001B[39m\n\u001B[1;32m    260\u001B[0m         \u001B[38;5;124m'\u001B[39m\u001B[38;5;132;01m{tex!r}\u001B[39;00m\u001B[38;5;130;01m\\n\u001B[39;00m\u001B[38;5;130;01m\\n\u001B[39;00m\u001B[38;5;124m'\u001B[39m\n\u001B[1;32m    261\u001B[0m         \u001B[38;5;124m'\u001B[39m\u001B[38;5;124mHere is the full command invocation and its output:\u001B[39m\u001B[38;5;130;01m\\n\u001B[39;00m\u001B[38;5;130;01m\\n\u001B[39;00m\u001B[38;5;124m'\u001B[39m\n\u001B[1;32m    262\u001B[0m         \u001B[38;5;124m'\u001B[39m\u001B[38;5;132;01m{format_command}\u001B[39;00m\u001B[38;5;130;01m\\n\u001B[39;00m\u001B[38;5;130;01m\\n\u001B[39;00m\u001B[38;5;124m'\u001B[39m\n\u001B[1;32m    263\u001B[0m         \u001B[38;5;124m'\u001B[39m\u001B[38;5;132;01m{exc}\u001B[39;00m\u001B[38;5;130;01m\\n\u001B[39;00m\u001B[38;5;130;01m\\n\u001B[39;00m\u001B[38;5;124m'\u001B[39m\u001B[38;5;241m.\u001B[39mformat(\n\u001B[1;32m    264\u001B[0m             prog\u001B[38;5;241m=\u001B[39mcommand[\u001B[38;5;241m0\u001B[39m],\n\u001B[1;32m    265\u001B[0m             format_command\u001B[38;5;241m=\u001B[39mcbook\u001B[38;5;241m.\u001B[39m_pformat_subprocess(command),\n\u001B[1;32m    266\u001B[0m             tex\u001B[38;5;241m=\u001B[39mtex\u001B[38;5;241m.\u001B[39mencode(\u001B[38;5;124m'\u001B[39m\u001B[38;5;124municode_escape\u001B[39m\u001B[38;5;124m'\u001B[39m),\n\u001B[1;32m    267\u001B[0m             exc\u001B[38;5;241m=\u001B[39mexc\u001B[38;5;241m.\u001B[39moutput\u001B[38;5;241m.\u001B[39mdecode(\u001B[38;5;124m'\u001B[39m\u001B[38;5;124mutf-8\u001B[39m\u001B[38;5;124m'\u001B[39m, \u001B[38;5;124m'\u001B[39m\u001B[38;5;124mbackslashreplace\u001B[39m\u001B[38;5;124m'\u001B[39m))\n\u001B[1;32m    268\u001B[0m         ) \u001B[38;5;28;01mfrom\u001B[39;00m \u001B[38;5;28;01mNone\u001B[39;00m\n\u001B[1;32m    269\u001B[0m _log\u001B[38;5;241m.\u001B[39mdebug(report)\n\u001B[1;32m    270\u001B[0m \u001B[38;5;28;01mreturn\u001B[39;00m report\n",
      "\u001B[0;31mRuntimeError\u001B[0m: latex was not able to process the following string:\nb'\\\\\\\\textcolor{Orange}{beans}'\n\nHere is the full command invocation and its output:\n\nlatex -interaction=nonstopmode --halt-on-error --output-directory=tmpe8io9hpc ea217875f36652814369b96ca50ad54c.tex\n\nThis is pdfTeX, Version 3.141592653-2.6-1.40.26 (TeX Live 2024) (preloaded format=latex)\n restricted \\write18 enabled.\nentering extended mode\n(./ea217875f36652814369b96ca50ad54c.tex\nLaTeX2e <2023-11-01> patch level 1\nL3 programming layer <2024-02-20>\n(/usr/local/texlive/2024/texmf-dist/tex/latex/base/article.cls\nDocument Class: article 2023/05/17 v1.4n Standard LaTeX document class\n(/usr/local/texlive/2024/texmf-dist/tex/latex/base/size10.clo))\n(/usr/local/texlive/2024/texmf-dist/tex/latex/psnfss/mathptmx.sty)\n(/usr/local/texlive/2024/texmf-dist/tex/latex/type1cm/type1cm.sty)\n(/usr/local/texlive/2024/texmf-dist/tex/latex/cm-super/type1ec.sty\n(/usr/local/texlive/2024/texmf-dist/tex/latex/base/t1cmr.fd))\n(/usr/local/texlive/2024/texmf-dist/tex/latex/base/inputenc.sty)\n(/usr/local/texlive/2024/texmf-dist/tex/latex/geometry/geometry.sty\n(/usr/local/texlive/2024/texmf-dist/tex/latex/graphics/keyval.sty)\n(/usr/local/texlive/2024/texmf-dist/tex/generic/iftex/ifvtex.sty\n(/usr/local/texlive/2024/texmf-dist/tex/generic/iftex/iftex.sty)))\n(/usr/local/texlive/2024/texmf-dist/tex/latex/xcolor/xcolor.sty\n(/usr/local/texlive/2024/texmf-dist/tex/latex/graphics-cfg/color.cfg)\n(/usr/local/texlive/2024/texmf-dist/tex/latex/graphics-def/dvips.def)\n(/usr/local/texlive/2024/texmf-dist/tex/latex/graphics/mathcolor.ltx))\n(/usr/local/texlive/2024/texmf-dist/tex/latex/underscore/underscore.sty)\n(/usr/local/texlive/2024/texmf-dist/tex/latex/firstaid/underscore-ltx.sty)\n(/usr/local/texlive/2024/texmf-dist/tex/latex/base/textcomp.sty)\n(/usr/local/texlive/2024/texmf-dist/tex/latex/psnfss/ot1ptm.fd)\n(/usr/local/texlive/2024/texmf-dist/tex/latex/l3backend/l3backend-dvips.def)\nNo file ea217875f36652814369b96ca50ad54c.aux.\n*geometry* driver: auto-detecting\n*geometry* detected driver: dvips\n\n! Package xcolor Error: Undefined color `Orange'.\n\nSee the xcolor package documentation for explanation.\nType  H <return>  for immediate help.\n ...                                              \n                                                  \nl.30 {\\rmfamily \\textcolor{Orange}{beans}\n                                         }%\nNo pages of output.\nTranscript written on tmpe8io9hpc/ea217875f36652814369b96ca50ad54c.log.\n\n\n"
     ]
    },
    {
     "ename": "RuntimeError",
     "evalue": "latex was not able to process the following string:\nb'\\\\\\\\textcolor{Orange}{beans}'\n\nHere is the full command invocation and its output:\n\nlatex -interaction=nonstopmode --halt-on-error --output-directory=tmpphm4xig8 ea217875f36652814369b96ca50ad54c.tex\n\nThis is pdfTeX, Version 3.141592653-2.6-1.40.26 (TeX Live 2024) (preloaded format=latex)\n restricted \\write18 enabled.\nentering extended mode\n(./ea217875f36652814369b96ca50ad54c.tex\nLaTeX2e <2023-11-01> patch level 1\nL3 programming layer <2024-02-20>\n(/usr/local/texlive/2024/texmf-dist/tex/latex/base/article.cls\nDocument Class: article 2023/05/17 v1.4n Standard LaTeX document class\n(/usr/local/texlive/2024/texmf-dist/tex/latex/base/size10.clo))\n(/usr/local/texlive/2024/texmf-dist/tex/latex/psnfss/mathptmx.sty)\n(/usr/local/texlive/2024/texmf-dist/tex/latex/type1cm/type1cm.sty)\n(/usr/local/texlive/2024/texmf-dist/tex/latex/cm-super/type1ec.sty\n(/usr/local/texlive/2024/texmf-dist/tex/latex/base/t1cmr.fd))\n(/usr/local/texlive/2024/texmf-dist/tex/latex/base/inputenc.sty)\n(/usr/local/texlive/2024/texmf-dist/tex/latex/geometry/geometry.sty\n(/usr/local/texlive/2024/texmf-dist/tex/latex/graphics/keyval.sty)\n(/usr/local/texlive/2024/texmf-dist/tex/generic/iftex/ifvtex.sty\n(/usr/local/texlive/2024/texmf-dist/tex/generic/iftex/iftex.sty)))\n(/usr/local/texlive/2024/texmf-dist/tex/latex/xcolor/xcolor.sty\n(/usr/local/texlive/2024/texmf-dist/tex/latex/graphics-cfg/color.cfg)\n(/usr/local/texlive/2024/texmf-dist/tex/latex/graphics-def/dvips.def)\n(/usr/local/texlive/2024/texmf-dist/tex/latex/graphics/mathcolor.ltx))\n(/usr/local/texlive/2024/texmf-dist/tex/latex/underscore/underscore.sty)\n(/usr/local/texlive/2024/texmf-dist/tex/latex/firstaid/underscore-ltx.sty)\n(/usr/local/texlive/2024/texmf-dist/tex/latex/base/textcomp.sty)\n(/usr/local/texlive/2024/texmf-dist/tex/latex/psnfss/ot1ptm.fd)\n(/usr/local/texlive/2024/texmf-dist/tex/latex/l3backend/l3backend-dvips.def)\nNo file ea217875f36652814369b96ca50ad54c.aux.\n*geometry* driver: auto-detecting\n*geometry* detected driver: dvips\n\n! Package xcolor Error: Undefined color `Orange'.\n\nSee the xcolor package documentation for explanation.\nType  H <return>  for immediate help.\n ...                                              \n                                                  \nl.30 {\\rmfamily \\textcolor{Orange}{beans}\n                                         }%\nNo pages of output.\nTranscript written on tmpphm4xig8/ea217875f36652814369b96ca50ad54c.log.\n\n\n",
     "output_type": "error",
     "traceback": [
      "\u001B[0;31m---------------------------------------------------------------------------\u001B[0m",
      "\u001B[0;31mRuntimeError\u001B[0m                              Traceback (most recent call last)",
      "File \u001B[0;32m/opt/homebrew/Caskroom/miniconda/base/envs/2024_coelm/lib/python3.12/site-packages/IPython/core/formatters.py:343\u001B[0m, in \u001B[0;36mBaseFormatter.__call__\u001B[0;34m(self, obj)\u001B[0m\n\u001B[1;32m    341\u001B[0m     \u001B[38;5;28;01mpass\u001B[39;00m\n\u001B[1;32m    342\u001B[0m \u001B[38;5;28;01melse\u001B[39;00m:\n\u001B[0;32m--> 343\u001B[0m     \u001B[38;5;28;01mreturn\u001B[39;00m printer(obj)\n\u001B[1;32m    344\u001B[0m \u001B[38;5;66;03m# Finally look for special method names\u001B[39;00m\n\u001B[1;32m    345\u001B[0m method \u001B[38;5;241m=\u001B[39m get_real_method(obj, \u001B[38;5;28mself\u001B[39m\u001B[38;5;241m.\u001B[39mprint_method)\n",
      "File \u001B[0;32m/opt/homebrew/Caskroom/miniconda/base/envs/2024_coelm/lib/python3.12/site-packages/IPython/core/pylabtools.py:170\u001B[0m, in \u001B[0;36mprint_figure\u001B[0;34m(fig, fmt, bbox_inches, base64, **kwargs)\u001B[0m\n\u001B[1;32m    167\u001B[0m     \u001B[38;5;28;01mfrom\u001B[39;00m \u001B[38;5;21;01mmatplotlib\u001B[39;00m\u001B[38;5;21;01m.\u001B[39;00m\u001B[38;5;21;01mbackend_bases\u001B[39;00m \u001B[38;5;28;01mimport\u001B[39;00m FigureCanvasBase\n\u001B[1;32m    168\u001B[0m     FigureCanvasBase(fig)\n\u001B[0;32m--> 170\u001B[0m fig\u001B[38;5;241m.\u001B[39mcanvas\u001B[38;5;241m.\u001B[39mprint_figure(bytes_io, \u001B[38;5;241m*\u001B[39m\u001B[38;5;241m*\u001B[39mkw)\n\u001B[1;32m    171\u001B[0m data \u001B[38;5;241m=\u001B[39m bytes_io\u001B[38;5;241m.\u001B[39mgetvalue()\n\u001B[1;32m    172\u001B[0m \u001B[38;5;28;01mif\u001B[39;00m fmt \u001B[38;5;241m==\u001B[39m \u001B[38;5;124m'\u001B[39m\u001B[38;5;124msvg\u001B[39m\u001B[38;5;124m'\u001B[39m:\n",
      "File \u001B[0;32m/opt/homebrew/Caskroom/miniconda/base/envs/2024_coelm/lib/python3.12/site-packages/matplotlib/backend_bases.py:2175\u001B[0m, in \u001B[0;36mFigureCanvasBase.print_figure\u001B[0;34m(self, filename, dpi, facecolor, edgecolor, orientation, format, bbox_inches, pad_inches, bbox_extra_artists, backend, **kwargs)\u001B[0m\n\u001B[1;32m   2172\u001B[0m     \u001B[38;5;66;03m# we do this instead of `self.figure.draw_without_rendering`\u001B[39;00m\n\u001B[1;32m   2173\u001B[0m     \u001B[38;5;66;03m# so that we can inject the orientation\u001B[39;00m\n\u001B[1;32m   2174\u001B[0m     \u001B[38;5;28;01mwith\u001B[39;00m \u001B[38;5;28mgetattr\u001B[39m(renderer, \u001B[38;5;124m\"\u001B[39m\u001B[38;5;124m_draw_disabled\u001B[39m\u001B[38;5;124m\"\u001B[39m, nullcontext)():\n\u001B[0;32m-> 2175\u001B[0m         \u001B[38;5;28mself\u001B[39m\u001B[38;5;241m.\u001B[39mfigure\u001B[38;5;241m.\u001B[39mdraw(renderer)\n\u001B[1;32m   2176\u001B[0m \u001B[38;5;28;01mif\u001B[39;00m bbox_inches:\n\u001B[1;32m   2177\u001B[0m     \u001B[38;5;28;01mif\u001B[39;00m bbox_inches \u001B[38;5;241m==\u001B[39m \u001B[38;5;124m\"\u001B[39m\u001B[38;5;124mtight\u001B[39m\u001B[38;5;124m\"\u001B[39m:\n",
      "File \u001B[0;32m/opt/homebrew/Caskroom/miniconda/base/envs/2024_coelm/lib/python3.12/site-packages/matplotlib/artist.py:95\u001B[0m, in \u001B[0;36m_finalize_rasterization.<locals>.draw_wrapper\u001B[0;34m(artist, renderer, *args, **kwargs)\u001B[0m\n\u001B[1;32m     93\u001B[0m \u001B[38;5;129m@wraps\u001B[39m(draw)\n\u001B[1;32m     94\u001B[0m \u001B[38;5;28;01mdef\u001B[39;00m \u001B[38;5;21mdraw_wrapper\u001B[39m(artist, renderer, \u001B[38;5;241m*\u001B[39margs, \u001B[38;5;241m*\u001B[39m\u001B[38;5;241m*\u001B[39mkwargs):\n\u001B[0;32m---> 95\u001B[0m     result \u001B[38;5;241m=\u001B[39m draw(artist, renderer, \u001B[38;5;241m*\u001B[39margs, \u001B[38;5;241m*\u001B[39m\u001B[38;5;241m*\u001B[39mkwargs)\n\u001B[1;32m     96\u001B[0m     \u001B[38;5;28;01mif\u001B[39;00m renderer\u001B[38;5;241m.\u001B[39m_rasterizing:\n\u001B[1;32m     97\u001B[0m         renderer\u001B[38;5;241m.\u001B[39mstop_rasterizing()\n",
      "File \u001B[0;32m/opt/homebrew/Caskroom/miniconda/base/envs/2024_coelm/lib/python3.12/site-packages/matplotlib/artist.py:72\u001B[0m, in \u001B[0;36mallow_rasterization.<locals>.draw_wrapper\u001B[0;34m(artist, renderer)\u001B[0m\n\u001B[1;32m     69\u001B[0m     \u001B[38;5;28;01mif\u001B[39;00m artist\u001B[38;5;241m.\u001B[39mget_agg_filter() \u001B[38;5;129;01mis\u001B[39;00m \u001B[38;5;129;01mnot\u001B[39;00m \u001B[38;5;28;01mNone\u001B[39;00m:\n\u001B[1;32m     70\u001B[0m         renderer\u001B[38;5;241m.\u001B[39mstart_filter()\n\u001B[0;32m---> 72\u001B[0m     \u001B[38;5;28;01mreturn\u001B[39;00m draw(artist, renderer)\n\u001B[1;32m     73\u001B[0m \u001B[38;5;28;01mfinally\u001B[39;00m:\n\u001B[1;32m     74\u001B[0m     \u001B[38;5;28;01mif\u001B[39;00m artist\u001B[38;5;241m.\u001B[39mget_agg_filter() \u001B[38;5;129;01mis\u001B[39;00m \u001B[38;5;129;01mnot\u001B[39;00m \u001B[38;5;28;01mNone\u001B[39;00m:\n",
      "File \u001B[0;32m/opt/homebrew/Caskroom/miniconda/base/envs/2024_coelm/lib/python3.12/site-packages/matplotlib/figure.py:3162\u001B[0m, in \u001B[0;36mFigure.draw\u001B[0;34m(self, renderer)\u001B[0m\n\u001B[1;32m   3159\u001B[0m             \u001B[38;5;66;03m# ValueError can occur when resizing a window.\u001B[39;00m\n\u001B[1;32m   3161\u001B[0m     \u001B[38;5;28mself\u001B[39m\u001B[38;5;241m.\u001B[39mpatch\u001B[38;5;241m.\u001B[39mdraw(renderer)\n\u001B[0;32m-> 3162\u001B[0m     mimage\u001B[38;5;241m.\u001B[39m_draw_list_compositing_images(\n\u001B[1;32m   3163\u001B[0m         renderer, \u001B[38;5;28mself\u001B[39m, artists, \u001B[38;5;28mself\u001B[39m\u001B[38;5;241m.\u001B[39msuppressComposite)\n\u001B[1;32m   3165\u001B[0m     renderer\u001B[38;5;241m.\u001B[39mclose_group(\u001B[38;5;124m'\u001B[39m\u001B[38;5;124mfigure\u001B[39m\u001B[38;5;124m'\u001B[39m)\n\u001B[1;32m   3166\u001B[0m \u001B[38;5;28;01mfinally\u001B[39;00m:\n",
      "File \u001B[0;32m/opt/homebrew/Caskroom/miniconda/base/envs/2024_coelm/lib/python3.12/site-packages/matplotlib/image.py:132\u001B[0m, in \u001B[0;36m_draw_list_compositing_images\u001B[0;34m(renderer, parent, artists, suppress_composite)\u001B[0m\n\u001B[1;32m    130\u001B[0m \u001B[38;5;28;01mif\u001B[39;00m not_composite \u001B[38;5;129;01mor\u001B[39;00m \u001B[38;5;129;01mnot\u001B[39;00m has_images:\n\u001B[1;32m    131\u001B[0m     \u001B[38;5;28;01mfor\u001B[39;00m a \u001B[38;5;129;01min\u001B[39;00m artists:\n\u001B[0;32m--> 132\u001B[0m         a\u001B[38;5;241m.\u001B[39mdraw(renderer)\n\u001B[1;32m    133\u001B[0m \u001B[38;5;28;01melse\u001B[39;00m:\n\u001B[1;32m    134\u001B[0m     \u001B[38;5;66;03m# Composite any adjacent images together\u001B[39;00m\n\u001B[1;32m    135\u001B[0m     image_group \u001B[38;5;241m=\u001B[39m []\n",
      "File \u001B[0;32m/opt/homebrew/Caskroom/miniconda/base/envs/2024_coelm/lib/python3.12/site-packages/matplotlib/artist.py:72\u001B[0m, in \u001B[0;36mallow_rasterization.<locals>.draw_wrapper\u001B[0;34m(artist, renderer)\u001B[0m\n\u001B[1;32m     69\u001B[0m     \u001B[38;5;28;01mif\u001B[39;00m artist\u001B[38;5;241m.\u001B[39mget_agg_filter() \u001B[38;5;129;01mis\u001B[39;00m \u001B[38;5;129;01mnot\u001B[39;00m \u001B[38;5;28;01mNone\u001B[39;00m:\n\u001B[1;32m     70\u001B[0m         renderer\u001B[38;5;241m.\u001B[39mstart_filter()\n\u001B[0;32m---> 72\u001B[0m     \u001B[38;5;28;01mreturn\u001B[39;00m draw(artist, renderer)\n\u001B[1;32m     73\u001B[0m \u001B[38;5;28;01mfinally\u001B[39;00m:\n\u001B[1;32m     74\u001B[0m     \u001B[38;5;28;01mif\u001B[39;00m artist\u001B[38;5;241m.\u001B[39mget_agg_filter() \u001B[38;5;129;01mis\u001B[39;00m \u001B[38;5;129;01mnot\u001B[39;00m \u001B[38;5;28;01mNone\u001B[39;00m:\n",
      "File \u001B[0;32m/opt/homebrew/Caskroom/miniconda/base/envs/2024_coelm/lib/python3.12/site-packages/matplotlib/axes/_base.py:3137\u001B[0m, in \u001B[0;36m_AxesBase.draw\u001B[0;34m(self, renderer)\u001B[0m\n\u001B[1;32m   3134\u001B[0m \u001B[38;5;28;01mif\u001B[39;00m artists_rasterized:\n\u001B[1;32m   3135\u001B[0m     _draw_rasterized(\u001B[38;5;28mself\u001B[39m\u001B[38;5;241m.\u001B[39mfigure, artists_rasterized, renderer)\n\u001B[0;32m-> 3137\u001B[0m mimage\u001B[38;5;241m.\u001B[39m_draw_list_compositing_images(\n\u001B[1;32m   3138\u001B[0m     renderer, \u001B[38;5;28mself\u001B[39m, artists, \u001B[38;5;28mself\u001B[39m\u001B[38;5;241m.\u001B[39mfigure\u001B[38;5;241m.\u001B[39msuppressComposite)\n\u001B[1;32m   3140\u001B[0m renderer\u001B[38;5;241m.\u001B[39mclose_group(\u001B[38;5;124m'\u001B[39m\u001B[38;5;124maxes\u001B[39m\u001B[38;5;124m'\u001B[39m)\n\u001B[1;32m   3141\u001B[0m \u001B[38;5;28mself\u001B[39m\u001B[38;5;241m.\u001B[39mstale \u001B[38;5;241m=\u001B[39m \u001B[38;5;28;01mFalse\u001B[39;00m\n",
      "File \u001B[0;32m/opt/homebrew/Caskroom/miniconda/base/envs/2024_coelm/lib/python3.12/site-packages/matplotlib/image.py:132\u001B[0m, in \u001B[0;36m_draw_list_compositing_images\u001B[0;34m(renderer, parent, artists, suppress_composite)\u001B[0m\n\u001B[1;32m    130\u001B[0m \u001B[38;5;28;01mif\u001B[39;00m not_composite \u001B[38;5;129;01mor\u001B[39;00m \u001B[38;5;129;01mnot\u001B[39;00m has_images:\n\u001B[1;32m    131\u001B[0m     \u001B[38;5;28;01mfor\u001B[39;00m a \u001B[38;5;129;01min\u001B[39;00m artists:\n\u001B[0;32m--> 132\u001B[0m         a\u001B[38;5;241m.\u001B[39mdraw(renderer)\n\u001B[1;32m    133\u001B[0m \u001B[38;5;28;01melse\u001B[39;00m:\n\u001B[1;32m    134\u001B[0m     \u001B[38;5;66;03m# Composite any adjacent images together\u001B[39;00m\n\u001B[1;32m    135\u001B[0m     image_group \u001B[38;5;241m=\u001B[39m []\n",
      "File \u001B[0;32m/opt/homebrew/Caskroom/miniconda/base/envs/2024_coelm/lib/python3.12/site-packages/matplotlib/artist.py:72\u001B[0m, in \u001B[0;36mallow_rasterization.<locals>.draw_wrapper\u001B[0;34m(artist, renderer)\u001B[0m\n\u001B[1;32m     69\u001B[0m     \u001B[38;5;28;01mif\u001B[39;00m artist\u001B[38;5;241m.\u001B[39mget_agg_filter() \u001B[38;5;129;01mis\u001B[39;00m \u001B[38;5;129;01mnot\u001B[39;00m \u001B[38;5;28;01mNone\u001B[39;00m:\n\u001B[1;32m     70\u001B[0m         renderer\u001B[38;5;241m.\u001B[39mstart_filter()\n\u001B[0;32m---> 72\u001B[0m     \u001B[38;5;28;01mreturn\u001B[39;00m draw(artist, renderer)\n\u001B[1;32m     73\u001B[0m \u001B[38;5;28;01mfinally\u001B[39;00m:\n\u001B[1;32m     74\u001B[0m     \u001B[38;5;28;01mif\u001B[39;00m artist\u001B[38;5;241m.\u001B[39mget_agg_filter() \u001B[38;5;129;01mis\u001B[39;00m \u001B[38;5;129;01mnot\u001B[39;00m \u001B[38;5;28;01mNone\u001B[39;00m:\n",
      "File \u001B[0;32m/opt/homebrew/Caskroom/miniconda/base/envs/2024_coelm/lib/python3.12/site-packages/matplotlib/axis.py:1424\u001B[0m, in \u001B[0;36mAxis.draw\u001B[0;34m(self, renderer)\u001B[0m\n\u001B[1;32m   1421\u001B[0m renderer\u001B[38;5;241m.\u001B[39mopen_group(\u001B[38;5;18m__name__\u001B[39m, gid\u001B[38;5;241m=\u001B[39m\u001B[38;5;28mself\u001B[39m\u001B[38;5;241m.\u001B[39mget_gid())\n\u001B[1;32m   1423\u001B[0m ticks_to_draw \u001B[38;5;241m=\u001B[39m \u001B[38;5;28mself\u001B[39m\u001B[38;5;241m.\u001B[39m_update_ticks()\n\u001B[0;32m-> 1424\u001B[0m tlb1, tlb2 \u001B[38;5;241m=\u001B[39m \u001B[38;5;28mself\u001B[39m\u001B[38;5;241m.\u001B[39m_get_ticklabel_bboxes(ticks_to_draw, renderer)\n\u001B[1;32m   1426\u001B[0m \u001B[38;5;28;01mfor\u001B[39;00m tick \u001B[38;5;129;01min\u001B[39;00m ticks_to_draw:\n\u001B[1;32m   1427\u001B[0m     tick\u001B[38;5;241m.\u001B[39mdraw(renderer)\n",
      "File \u001B[0;32m/opt/homebrew/Caskroom/miniconda/base/envs/2024_coelm/lib/python3.12/site-packages/matplotlib/axis.py:1351\u001B[0m, in \u001B[0;36mAxis._get_ticklabel_bboxes\u001B[0;34m(self, ticks, renderer)\u001B[0m\n\u001B[1;32m   1349\u001B[0m \u001B[38;5;28;01mif\u001B[39;00m renderer \u001B[38;5;129;01mis\u001B[39;00m \u001B[38;5;28;01mNone\u001B[39;00m:\n\u001B[1;32m   1350\u001B[0m     renderer \u001B[38;5;241m=\u001B[39m \u001B[38;5;28mself\u001B[39m\u001B[38;5;241m.\u001B[39mfigure\u001B[38;5;241m.\u001B[39m_get_renderer()\n\u001B[0;32m-> 1351\u001B[0m \u001B[38;5;28;01mreturn\u001B[39;00m ([tick\u001B[38;5;241m.\u001B[39mlabel1\u001B[38;5;241m.\u001B[39mget_window_extent(renderer)\n\u001B[1;32m   1352\u001B[0m          \u001B[38;5;28;01mfor\u001B[39;00m tick \u001B[38;5;129;01min\u001B[39;00m ticks \u001B[38;5;28;01mif\u001B[39;00m tick\u001B[38;5;241m.\u001B[39mlabel1\u001B[38;5;241m.\u001B[39mget_visible()],\n\u001B[1;32m   1353\u001B[0m         [tick\u001B[38;5;241m.\u001B[39mlabel2\u001B[38;5;241m.\u001B[39mget_window_extent(renderer)\n\u001B[1;32m   1354\u001B[0m          \u001B[38;5;28;01mfor\u001B[39;00m tick \u001B[38;5;129;01min\u001B[39;00m ticks \u001B[38;5;28;01mif\u001B[39;00m tick\u001B[38;5;241m.\u001B[39mlabel2\u001B[38;5;241m.\u001B[39mget_visible()])\n",
      "File \u001B[0;32m/opt/homebrew/Caskroom/miniconda/base/envs/2024_coelm/lib/python3.12/site-packages/matplotlib/text.py:959\u001B[0m, in \u001B[0;36mText.get_window_extent\u001B[0;34m(self, renderer, dpi)\u001B[0m\n\u001B[1;32m    954\u001B[0m     \u001B[38;5;28;01mraise\u001B[39;00m \u001B[38;5;167;01mRuntimeError\u001B[39;00m(\n\u001B[1;32m    955\u001B[0m         \u001B[38;5;124m\"\u001B[39m\u001B[38;5;124mCannot get window extent of text w/o renderer. You likely \u001B[39m\u001B[38;5;124m\"\u001B[39m\n\u001B[1;32m    956\u001B[0m         \u001B[38;5;124m\"\u001B[39m\u001B[38;5;124mwant to call \u001B[39m\u001B[38;5;124m'\u001B[39m\u001B[38;5;124mfigure.draw_without_rendering()\u001B[39m\u001B[38;5;124m'\u001B[39m\u001B[38;5;124m first.\u001B[39m\u001B[38;5;124m\"\u001B[39m)\n\u001B[1;32m    958\u001B[0m \u001B[38;5;28;01mwith\u001B[39;00m cbook\u001B[38;5;241m.\u001B[39m_setattr_cm(\u001B[38;5;28mself\u001B[39m\u001B[38;5;241m.\u001B[39mfigure, dpi\u001B[38;5;241m=\u001B[39mdpi):\n\u001B[0;32m--> 959\u001B[0m     bbox, info, descent \u001B[38;5;241m=\u001B[39m \u001B[38;5;28mself\u001B[39m\u001B[38;5;241m.\u001B[39m_get_layout(\u001B[38;5;28mself\u001B[39m\u001B[38;5;241m.\u001B[39m_renderer)\n\u001B[1;32m    960\u001B[0m     x, y \u001B[38;5;241m=\u001B[39m \u001B[38;5;28mself\u001B[39m\u001B[38;5;241m.\u001B[39mget_unitless_position()\n\u001B[1;32m    961\u001B[0m     x, y \u001B[38;5;241m=\u001B[39m \u001B[38;5;28mself\u001B[39m\u001B[38;5;241m.\u001B[39mget_transform()\u001B[38;5;241m.\u001B[39mtransform((x, y))\n",
      "File \u001B[0;32m/opt/homebrew/Caskroom/miniconda/base/envs/2024_coelm/lib/python3.12/site-packages/matplotlib/text.py:381\u001B[0m, in \u001B[0;36mText._get_layout\u001B[0;34m(self, renderer)\u001B[0m\n\u001B[1;32m    379\u001B[0m clean_line, ismath \u001B[38;5;241m=\u001B[39m \u001B[38;5;28mself\u001B[39m\u001B[38;5;241m.\u001B[39m_preprocess_math(line)\n\u001B[1;32m    380\u001B[0m \u001B[38;5;28;01mif\u001B[39;00m clean_line:\n\u001B[0;32m--> 381\u001B[0m     w, h, d \u001B[38;5;241m=\u001B[39m _get_text_metrics_with_cache(\n\u001B[1;32m    382\u001B[0m         renderer, clean_line, \u001B[38;5;28mself\u001B[39m\u001B[38;5;241m.\u001B[39m_fontproperties,\n\u001B[1;32m    383\u001B[0m         ismath\u001B[38;5;241m=\u001B[39mismath, dpi\u001B[38;5;241m=\u001B[39m\u001B[38;5;28mself\u001B[39m\u001B[38;5;241m.\u001B[39mfigure\u001B[38;5;241m.\u001B[39mdpi)\n\u001B[1;32m    384\u001B[0m \u001B[38;5;28;01melse\u001B[39;00m:\n\u001B[1;32m    385\u001B[0m     w \u001B[38;5;241m=\u001B[39m h \u001B[38;5;241m=\u001B[39m d \u001B[38;5;241m=\u001B[39m \u001B[38;5;241m0\u001B[39m\n",
      "File \u001B[0;32m/opt/homebrew/Caskroom/miniconda/base/envs/2024_coelm/lib/python3.12/site-packages/matplotlib/text.py:69\u001B[0m, in \u001B[0;36m_get_text_metrics_with_cache\u001B[0;34m(renderer, text, fontprop, ismath, dpi)\u001B[0m\n\u001B[1;32m     66\u001B[0m \u001B[38;5;250m\u001B[39m\u001B[38;5;124;03m\"\"\"Call ``renderer.get_text_width_height_descent``, caching the results.\"\"\"\u001B[39;00m\n\u001B[1;32m     67\u001B[0m \u001B[38;5;66;03m# Cached based on a copy of fontprop so that later in-place mutations of\u001B[39;00m\n\u001B[1;32m     68\u001B[0m \u001B[38;5;66;03m# the passed-in argument do not mess up the cache.\u001B[39;00m\n\u001B[0;32m---> 69\u001B[0m \u001B[38;5;28;01mreturn\u001B[39;00m _get_text_metrics_with_cache_impl(\n\u001B[1;32m     70\u001B[0m     weakref\u001B[38;5;241m.\u001B[39mref(renderer), text, fontprop\u001B[38;5;241m.\u001B[39mcopy(), ismath, dpi)\n",
      "File \u001B[0;32m/opt/homebrew/Caskroom/miniconda/base/envs/2024_coelm/lib/python3.12/site-packages/matplotlib/text.py:77\u001B[0m, in \u001B[0;36m_get_text_metrics_with_cache_impl\u001B[0;34m(renderer_ref, text, fontprop, ismath, dpi)\u001B[0m\n\u001B[1;32m     73\u001B[0m \u001B[38;5;129m@functools\u001B[39m\u001B[38;5;241m.\u001B[39mlru_cache(\u001B[38;5;241m4096\u001B[39m)\n\u001B[1;32m     74\u001B[0m \u001B[38;5;28;01mdef\u001B[39;00m \u001B[38;5;21m_get_text_metrics_with_cache_impl\u001B[39m(\n\u001B[1;32m     75\u001B[0m         renderer_ref, text, fontprop, ismath, dpi):\n\u001B[1;32m     76\u001B[0m     \u001B[38;5;66;03m# dpi is unused, but participates in cache invalidation (via the renderer).\u001B[39;00m\n\u001B[0;32m---> 77\u001B[0m     \u001B[38;5;28;01mreturn\u001B[39;00m renderer_ref()\u001B[38;5;241m.\u001B[39mget_text_width_height_descent(text, fontprop, ismath)\n",
      "File \u001B[0;32m/opt/homebrew/Caskroom/miniconda/base/envs/2024_coelm/lib/python3.12/site-packages/matplotlib/backends/backend_agg.py:212\u001B[0m, in \u001B[0;36mRendererAgg.get_text_width_height_descent\u001B[0;34m(self, s, prop, ismath)\u001B[0m\n\u001B[1;32m    210\u001B[0m _api\u001B[38;5;241m.\u001B[39mcheck_in_list([\u001B[38;5;124m\"\u001B[39m\u001B[38;5;124mTeX\u001B[39m\u001B[38;5;124m\"\u001B[39m, \u001B[38;5;28;01mTrue\u001B[39;00m, \u001B[38;5;28;01mFalse\u001B[39;00m], ismath\u001B[38;5;241m=\u001B[39mismath)\n\u001B[1;32m    211\u001B[0m \u001B[38;5;28;01mif\u001B[39;00m ismath \u001B[38;5;241m==\u001B[39m \u001B[38;5;124m\"\u001B[39m\u001B[38;5;124mTeX\u001B[39m\u001B[38;5;124m\"\u001B[39m:\n\u001B[0;32m--> 212\u001B[0m     \u001B[38;5;28;01mreturn\u001B[39;00m \u001B[38;5;28msuper\u001B[39m()\u001B[38;5;241m.\u001B[39mget_text_width_height_descent(s, prop, ismath)\n\u001B[1;32m    214\u001B[0m \u001B[38;5;28;01mif\u001B[39;00m ismath:\n\u001B[1;32m    215\u001B[0m     ox, oy, width, height, descent, font_image \u001B[38;5;241m=\u001B[39m \\\n\u001B[1;32m    216\u001B[0m         \u001B[38;5;28mself\u001B[39m\u001B[38;5;241m.\u001B[39mmathtext_parser\u001B[38;5;241m.\u001B[39mparse(s, \u001B[38;5;28mself\u001B[39m\u001B[38;5;241m.\u001B[39mdpi, prop)\n",
      "File \u001B[0;32m/opt/homebrew/Caskroom/miniconda/base/envs/2024_coelm/lib/python3.12/site-packages/matplotlib/backend_bases.py:597\u001B[0m, in \u001B[0;36mRendererBase.get_text_width_height_descent\u001B[0;34m(self, s, prop, ismath)\u001B[0m\n\u001B[1;32m    593\u001B[0m fontsize \u001B[38;5;241m=\u001B[39m prop\u001B[38;5;241m.\u001B[39mget_size_in_points()\n\u001B[1;32m    595\u001B[0m \u001B[38;5;28;01mif\u001B[39;00m ismath \u001B[38;5;241m==\u001B[39m \u001B[38;5;124m'\u001B[39m\u001B[38;5;124mTeX\u001B[39m\u001B[38;5;124m'\u001B[39m:\n\u001B[1;32m    596\u001B[0m     \u001B[38;5;66;03m# todo: handle properties\u001B[39;00m\n\u001B[0;32m--> 597\u001B[0m     \u001B[38;5;28;01mreturn\u001B[39;00m \u001B[38;5;28mself\u001B[39m\u001B[38;5;241m.\u001B[39mget_texmanager()\u001B[38;5;241m.\u001B[39mget_text_width_height_descent(\n\u001B[1;32m    598\u001B[0m         s, fontsize, renderer\u001B[38;5;241m=\u001B[39m\u001B[38;5;28mself\u001B[39m)\n\u001B[1;32m    600\u001B[0m dpi \u001B[38;5;241m=\u001B[39m \u001B[38;5;28mself\u001B[39m\u001B[38;5;241m.\u001B[39mpoints_to_pixels(\u001B[38;5;241m72\u001B[39m)\n\u001B[1;32m    601\u001B[0m \u001B[38;5;28;01mif\u001B[39;00m ismath:\n",
      "File \u001B[0;32m/opt/homebrew/Caskroom/miniconda/base/envs/2024_coelm/lib/python3.12/site-packages/matplotlib/texmanager.py:363\u001B[0m, in \u001B[0;36mTexManager.get_text_width_height_descent\u001B[0;34m(cls, tex, fontsize, renderer)\u001B[0m\n\u001B[1;32m    361\u001B[0m \u001B[38;5;28;01mif\u001B[39;00m tex\u001B[38;5;241m.\u001B[39mstrip() \u001B[38;5;241m==\u001B[39m \u001B[38;5;124m'\u001B[39m\u001B[38;5;124m'\u001B[39m:\n\u001B[1;32m    362\u001B[0m     \u001B[38;5;28;01mreturn\u001B[39;00m \u001B[38;5;241m0\u001B[39m, \u001B[38;5;241m0\u001B[39m, \u001B[38;5;241m0\u001B[39m\n\u001B[0;32m--> 363\u001B[0m dvifile \u001B[38;5;241m=\u001B[39m \u001B[38;5;28mcls\u001B[39m\u001B[38;5;241m.\u001B[39mmake_dvi(tex, fontsize)\n\u001B[1;32m    364\u001B[0m dpi_fraction \u001B[38;5;241m=\u001B[39m renderer\u001B[38;5;241m.\u001B[39mpoints_to_pixels(\u001B[38;5;241m1.\u001B[39m) \u001B[38;5;28;01mif\u001B[39;00m renderer \u001B[38;5;28;01melse\u001B[39;00m \u001B[38;5;241m1\u001B[39m\n\u001B[1;32m    365\u001B[0m \u001B[38;5;28;01mwith\u001B[39;00m dviread\u001B[38;5;241m.\u001B[39mDvi(dvifile, \u001B[38;5;241m72\u001B[39m \u001B[38;5;241m*\u001B[39m dpi_fraction) \u001B[38;5;28;01mas\u001B[39;00m dvi:\n",
      "File \u001B[0;32m/opt/homebrew/Caskroom/miniconda/base/envs/2024_coelm/lib/python3.12/site-packages/matplotlib/texmanager.py:295\u001B[0m, in \u001B[0;36mTexManager.make_dvi\u001B[0;34m(cls, tex, fontsize)\u001B[0m\n\u001B[1;32m    293\u001B[0m     \u001B[38;5;28;01mwith\u001B[39;00m TemporaryDirectory(\u001B[38;5;28mdir\u001B[39m\u001B[38;5;241m=\u001B[39mcwd) \u001B[38;5;28;01mas\u001B[39;00m tmpdir:\n\u001B[1;32m    294\u001B[0m         tmppath \u001B[38;5;241m=\u001B[39m Path(tmpdir)\n\u001B[0;32m--> 295\u001B[0m         \u001B[38;5;28mcls\u001B[39m\u001B[38;5;241m.\u001B[39m_run_checked_subprocess(\n\u001B[1;32m    296\u001B[0m             [\u001B[38;5;124m\"\u001B[39m\u001B[38;5;124mlatex\u001B[39m\u001B[38;5;124m\"\u001B[39m, \u001B[38;5;124m\"\u001B[39m\u001B[38;5;124m-interaction=nonstopmode\u001B[39m\u001B[38;5;124m\"\u001B[39m, \u001B[38;5;124m\"\u001B[39m\u001B[38;5;124m--halt-on-error\u001B[39m\u001B[38;5;124m\"\u001B[39m,\n\u001B[1;32m    297\u001B[0m              \u001B[38;5;124mf\u001B[39m\u001B[38;5;124m\"\u001B[39m\u001B[38;5;124m--output-directory=\u001B[39m\u001B[38;5;132;01m{\u001B[39;00mtmppath\u001B[38;5;241m.\u001B[39mname\u001B[38;5;132;01m}\u001B[39;00m\u001B[38;5;124m\"\u001B[39m,\n\u001B[1;32m    298\u001B[0m              \u001B[38;5;124mf\u001B[39m\u001B[38;5;124m\"\u001B[39m\u001B[38;5;132;01m{\u001B[39;00mtexfile\u001B[38;5;241m.\u001B[39mname\u001B[38;5;132;01m}\u001B[39;00m\u001B[38;5;124m\"\u001B[39m], tex, cwd\u001B[38;5;241m=\u001B[39mcwd)\n\u001B[1;32m    299\u001B[0m         (tmppath \u001B[38;5;241m/\u001B[39m Path(dvifile)\u001B[38;5;241m.\u001B[39mname)\u001B[38;5;241m.\u001B[39mreplace(dvifile)\n\u001B[1;32m    300\u001B[0m \u001B[38;5;28;01mreturn\u001B[39;00m dvifile\n",
      "File \u001B[0;32m/opt/homebrew/Caskroom/miniconda/base/envs/2024_coelm/lib/python3.12/site-packages/matplotlib/texmanager.py:258\u001B[0m, in \u001B[0;36mTexManager._run_checked_subprocess\u001B[0;34m(cls, command, tex, cwd)\u001B[0m\n\u001B[1;32m    254\u001B[0m     \u001B[38;5;28;01mraise\u001B[39;00m \u001B[38;5;167;01mRuntimeError\u001B[39;00m(\n\u001B[1;32m    255\u001B[0m         \u001B[38;5;124mf\u001B[39m\u001B[38;5;124m'\u001B[39m\u001B[38;5;124mFailed to process string with tex because \u001B[39m\u001B[38;5;132;01m{\u001B[39;00mcommand[\u001B[38;5;241m0\u001B[39m]\u001B[38;5;132;01m}\u001B[39;00m\u001B[38;5;124m \u001B[39m\u001B[38;5;124m'\u001B[39m\n\u001B[1;32m    256\u001B[0m         \u001B[38;5;124m'\u001B[39m\u001B[38;5;124mcould not be found\u001B[39m\u001B[38;5;124m'\u001B[39m) \u001B[38;5;28;01mfrom\u001B[39;00m \u001B[38;5;21;01mexc\u001B[39;00m\n\u001B[1;32m    257\u001B[0m \u001B[38;5;28;01mexcept\u001B[39;00m subprocess\u001B[38;5;241m.\u001B[39mCalledProcessError \u001B[38;5;28;01mas\u001B[39;00m exc:\n\u001B[0;32m--> 258\u001B[0m     \u001B[38;5;28;01mraise\u001B[39;00m \u001B[38;5;167;01mRuntimeError\u001B[39;00m(\n\u001B[1;32m    259\u001B[0m         \u001B[38;5;124m'\u001B[39m\u001B[38;5;132;01m{prog}\u001B[39;00m\u001B[38;5;124m was not able to process the following string:\u001B[39m\u001B[38;5;130;01m\\n\u001B[39;00m\u001B[38;5;124m'\u001B[39m\n\u001B[1;32m    260\u001B[0m         \u001B[38;5;124m'\u001B[39m\u001B[38;5;132;01m{tex!r}\u001B[39;00m\u001B[38;5;130;01m\\n\u001B[39;00m\u001B[38;5;130;01m\\n\u001B[39;00m\u001B[38;5;124m'\u001B[39m\n\u001B[1;32m    261\u001B[0m         \u001B[38;5;124m'\u001B[39m\u001B[38;5;124mHere is the full command invocation and its output:\u001B[39m\u001B[38;5;130;01m\\n\u001B[39;00m\u001B[38;5;130;01m\\n\u001B[39;00m\u001B[38;5;124m'\u001B[39m\n\u001B[1;32m    262\u001B[0m         \u001B[38;5;124m'\u001B[39m\u001B[38;5;132;01m{format_command}\u001B[39;00m\u001B[38;5;130;01m\\n\u001B[39;00m\u001B[38;5;130;01m\\n\u001B[39;00m\u001B[38;5;124m'\u001B[39m\n\u001B[1;32m    263\u001B[0m         \u001B[38;5;124m'\u001B[39m\u001B[38;5;132;01m{exc}\u001B[39;00m\u001B[38;5;130;01m\\n\u001B[39;00m\u001B[38;5;130;01m\\n\u001B[39;00m\u001B[38;5;124m'\u001B[39m\u001B[38;5;241m.\u001B[39mformat(\n\u001B[1;32m    264\u001B[0m             prog\u001B[38;5;241m=\u001B[39mcommand[\u001B[38;5;241m0\u001B[39m],\n\u001B[1;32m    265\u001B[0m             format_command\u001B[38;5;241m=\u001B[39mcbook\u001B[38;5;241m.\u001B[39m_pformat_subprocess(command),\n\u001B[1;32m    266\u001B[0m             tex\u001B[38;5;241m=\u001B[39mtex\u001B[38;5;241m.\u001B[39mencode(\u001B[38;5;124m'\u001B[39m\u001B[38;5;124municode_escape\u001B[39m\u001B[38;5;124m'\u001B[39m),\n\u001B[1;32m    267\u001B[0m             exc\u001B[38;5;241m=\u001B[39mexc\u001B[38;5;241m.\u001B[39moutput\u001B[38;5;241m.\u001B[39mdecode(\u001B[38;5;124m'\u001B[39m\u001B[38;5;124mutf-8\u001B[39m\u001B[38;5;124m'\u001B[39m, \u001B[38;5;124m'\u001B[39m\u001B[38;5;124mbackslashreplace\u001B[39m\u001B[38;5;124m'\u001B[39m))\n\u001B[1;32m    268\u001B[0m         ) \u001B[38;5;28;01mfrom\u001B[39;00m \u001B[38;5;28;01mNone\u001B[39;00m\n\u001B[1;32m    269\u001B[0m _log\u001B[38;5;241m.\u001B[39mdebug(report)\n\u001B[1;32m    270\u001B[0m \u001B[38;5;28;01mreturn\u001B[39;00m report\n",
      "\u001B[0;31mRuntimeError\u001B[0m: latex was not able to process the following string:\nb'\\\\\\\\textcolor{Orange}{beans}'\n\nHere is the full command invocation and its output:\n\nlatex -interaction=nonstopmode --halt-on-error --output-directory=tmpphm4xig8 ea217875f36652814369b96ca50ad54c.tex\n\nThis is pdfTeX, Version 3.141592653-2.6-1.40.26 (TeX Live 2024) (preloaded format=latex)\n restricted \\write18 enabled.\nentering extended mode\n(./ea217875f36652814369b96ca50ad54c.tex\nLaTeX2e <2023-11-01> patch level 1\nL3 programming layer <2024-02-20>\n(/usr/local/texlive/2024/texmf-dist/tex/latex/base/article.cls\nDocument Class: article 2023/05/17 v1.4n Standard LaTeX document class\n(/usr/local/texlive/2024/texmf-dist/tex/latex/base/size10.clo))\n(/usr/local/texlive/2024/texmf-dist/tex/latex/psnfss/mathptmx.sty)\n(/usr/local/texlive/2024/texmf-dist/tex/latex/type1cm/type1cm.sty)\n(/usr/local/texlive/2024/texmf-dist/tex/latex/cm-super/type1ec.sty\n(/usr/local/texlive/2024/texmf-dist/tex/latex/base/t1cmr.fd))\n(/usr/local/texlive/2024/texmf-dist/tex/latex/base/inputenc.sty)\n(/usr/local/texlive/2024/texmf-dist/tex/latex/geometry/geometry.sty\n(/usr/local/texlive/2024/texmf-dist/tex/latex/graphics/keyval.sty)\n(/usr/local/texlive/2024/texmf-dist/tex/generic/iftex/ifvtex.sty\n(/usr/local/texlive/2024/texmf-dist/tex/generic/iftex/iftex.sty)))\n(/usr/local/texlive/2024/texmf-dist/tex/latex/xcolor/xcolor.sty\n(/usr/local/texlive/2024/texmf-dist/tex/latex/graphics-cfg/color.cfg)\n(/usr/local/texlive/2024/texmf-dist/tex/latex/graphics-def/dvips.def)\n(/usr/local/texlive/2024/texmf-dist/tex/latex/graphics/mathcolor.ltx))\n(/usr/local/texlive/2024/texmf-dist/tex/latex/underscore/underscore.sty)\n(/usr/local/texlive/2024/texmf-dist/tex/latex/firstaid/underscore-ltx.sty)\n(/usr/local/texlive/2024/texmf-dist/tex/latex/base/textcomp.sty)\n(/usr/local/texlive/2024/texmf-dist/tex/latex/psnfss/ot1ptm.fd)\n(/usr/local/texlive/2024/texmf-dist/tex/latex/l3backend/l3backend-dvips.def)\nNo file ea217875f36652814369b96ca50ad54c.aux.\n*geometry* driver: auto-detecting\n*geometry* detected driver: dvips\n\n! Package xcolor Error: Undefined color `Orange'.\n\nSee the xcolor package documentation for explanation.\nType  H <return>  for immediate help.\n ...                                              \n                                                  \nl.30 {\\rmfamily \\textcolor{Orange}{beans}\n                                         }%\nNo pages of output.\nTranscript written on tmpphm4xig8/ea217875f36652814369b96ca50ad54c.log.\n\n\n"
     ]
    },
    {
     "data": {
      "text/plain": [
       "<Figure size 300x300 with 1 Axes>"
      ]
     },
     "metadata": {},
     "output_type": "display_data"
    }
   ],
   "execution_count": 50
  },
  {
   "metadata": {},
   "cell_type": "code",
   "source": [
    "\n",
    "from affinity.corr_matrix_new import get_logits_for_masked_sent, compute_surprisal_for_logits, compute_single_local_affinity\n",
    "\n",
    "s1 = \"It is a secret so do not spill the beans.\" # that the speech made me cry.\" #could get my clothes on\"\n",
    "s = Sentence(s1)    # Sentence class takes care of tokenization\n",
    "\n",
    "# prepare sentence with mask at correct location\n",
    "# punctuation is preserved, but will not be part of the mask\n",
    "# this will error if your word is not actually present or if your word is multi-tokenized\n",
    "# masked_sent keeps track of what was masked\n",
    "# masked_sent = s.get_input_with_word_masked(\"Green\")\n",
    "compute_single_local_affinity(\n",
    "    s,\n",
    "    index_to_check=9,\n",
    "    index_to_perturb=3,\n",
    "    expect_word_at_index_to_check=\"beans\",\n",
    "    expect_word_at_index_to_perturb=\"secret\",\n",
    "    print_fills_topk=80\n",
    ")\n",
    "\n"
   ],
   "id": "89a9ce2c165d8896",
   "outputs": [],
   "execution_count": null
  },
  {
   "metadata": {},
   "cell_type": "code",
   "source": [
    "base_inputs = [\n",
    "    ('beans', 0.945),\n",
    "    ('tea', 0.037),\n",
    "    ('details', 0.0021),\n",
    "    ('secret', 0.0013),\n",
    "    ('coffee', 0.0011),\n",
    "    ('milk', .00040730342152528465),\n",
    "]\n",
    "perturbed = [\n",
    "    ('beans', 0.144),\n",
    "    ('tea', 0.131),\n",
    "    ('details', 0.0021),\n",
    "    ('secret', 0.0021),\n",
    "    ('coffee', 0.071),\n",
    "    ('milk', .1311),\n",
    "]\n"
   ],
   "id": "2040c50fcee706d3",
   "outputs": [],
   "execution_count": null
  },
  {
   "metadata": {
    "ExecuteTime": {
     "end_time": "2025-09-17T18:29:41.852096Z",
     "start_time": "2025-09-17T18:29:41.818970Z"
    }
   },
   "cell_type": "code",
   "source": [
    "from matplotlib import pyplot as plt\n",
    "from typing import Optional\n",
    "\n",
    "\n",
    "def plot_histogram_from_pairs(\n",
    "    items: list[tuple[str, float]],\n",
    "    color = None,\n",
    "    *,\n",
    "    title: Optional[str] = None,\n",
    "    rotate_xticks: int = 45,\n",
    "        add_probs = False,\n",
    "        add_labels = False\n",
    ") -> plt.Axes:\n",
    "    \"\"\"\n",
    "    Plot a categorical histogram (bar chart) from (label, value) pairs.\n",
    "\n",
    "    Args:\n",
    "        items: Sequence of (word, value) tuples.\n",
    "        title: Optional plot title.\n",
    "        rotate_xticks: Rotation for x-tick labels.\n",
    "\n",
    "    Returns:\n",
    "        The Matplotlib Axes.\n",
    "    \"\"\"\n",
    "    if not items:\n",
    "        raise ValueError(\"items must be non-empty\")\n",
    "\n",
    "    labels = [w for w, _ in items]\n",
    "    values = [float(v) for _, v in items]\n",
    "\n",
    "    fig, ax = plt.subplots()\n",
    "    if color is not None:\n",
    "        bars = ax.bar(range(len(values)), values, color=color, linewidth=0)\n",
    "    else:\n",
    "        bars = ax.bar(range(len(values)), values)\n",
    "    if add_labels:\n",
    "        ax.set_xticks(range(len(labels)), labels, rotation=rotate_xticks, ha=\"right\")\n",
    "    else:\n",
    "        ax.set_xticks(range(len(labels)), [])\n",
    "    ax.set_yticks([])\n",
    "    ax.yaxis.set_visible(False)\n",
    "    ax.set_ylim(0.0, 1)\n",
    "\n",
    "    if add_probs:\n",
    "        for rect in bars:\n",
    "            height = rect.get_height()\n",
    "            pct_str = f\"{round(height * 100, 2):.2f}%\"\n",
    "            ax.annotate(\n",
    "                pct_str,\n",
    "                xy=(rect.get_x() + rect.get_width() / 2, height),\n",
    "                xytext=(0, 3),  # 3 points above the bar\n",
    "                textcoords=\"offset points\",\n",
    "                ha=\"center\",\n",
    "                va=\"bottom\",\n",
    "                clip_on=False,\n",
    "            )\n",
    "\n",
    "\n",
    "    for spine in ax.spines.values():\n",
    "        spine.set_visible(False)\n",
    "    # ax.set_ylabel(\"Value\")\n",
    "    # if title:\n",
    "    #     ax.set_title(title)\n",
    "    # ax.margins(x=0.01)\n",
    "    ax.margins(x=0.01, y=0.02)\n",
    "\n",
    "    # ax.grid(axis=\"y\", linestyle=\"--\", alpha=0.3)\n",
    "    return fig"
   ],
   "id": "f6ddd25353e08852",
   "outputs": [],
   "execution_count": 40
  },
  {
   "metadata": {
    "ExecuteTime": {
     "end_time": "2025-09-17T21:09:13.815611Z",
     "start_time": "2025-09-17T21:09:13.766913Z"
    }
   },
   "cell_type": "code",
   "source": [
    "from make_graphics.graphics import Colors\n",
    "\n",
    "# cmap = plt.cm.Dark2\n",
    "# c = cmap.colors[2]\n",
    "def cmyk_to_rgb01(cmyk: tuple[float, float, float]) -> tuple[float, float, float]:\n",
    "    \"\"\"\n",
    "    Convert CMYK in [0,1] to RGB in [0,1].\n",
    "    \"\"\"\n",
    "    c, m, y, k = cmyk\n",
    "    if not all(0.0 <= v <= 1.0 for v in (c, m, y, k)):\n",
    "        raise ValueError(\"CMYK components must be in [0,1].\")\n",
    "    r = (1.0 - c) * (1.0 - k)\n",
    "    g = (1.0 - m) * (1.0 - k)\n",
    "    b = (1.0 - y) * (1.0 - k)\n",
    "    return (r, g, b)\n",
    "\n",
    "# f = plot_histogram_from_pairs(base_inputs, color=Colors.cec_clist[0], add_labels=False)\n",
    "f = plot_histogram_from_pairs(base_inputs, color=\"#ff6321\", add_labels=False)\n",
    "fig_saver.save(f, \"dist_initial.png\")"
   ],
   "id": "9d90e9c04a8f8ea9",
   "outputs": [
    {
     "data": {
      "text/plain": [
       "<Figure size 640x480 with 1 Axes>"
      ],
      "image/png": "[encoded data removed]"
     },
     "metadata": {},
     "output_type": "display_data"
    }
   ],
   "execution_count": 63
  },
  {
   "metadata": {
    "ExecuteTime": {
     "end_time": "2025-09-17T21:09:34.269693Z",
     "start_time": "2025-09-17T21:09:34.211124Z"
    }
   },
   "cell_type": "code",
   "source": [
    "\n",
    "f2 = plot_histogram_from_pairs(perturbed, color=\"#1da650\")\n",
    "fig_saver.save(f2, \"dist_final.png\")\n",
    "\n"
   ],
   "id": "47de2c9bad4883b3",
   "outputs": [
    {
     "data": {
      "text/plain": [
       "<Figure size 640x480 with 1 Axes>"
      ],
      "image/png": "[encoded data removed]"
     },
     "metadata": {},
     "output_type": "display_data"
    }
   ],
   "execution_count": 64
  },
  {
   "metadata": {},
   "cell_type": "code",
   "outputs": [],
   "execution_count": null,
   "source": "",
   "id": "5f5e724acc7f91bf"
  },
  {
   "metadata": {},
   "cell_type": "code",
   "source": [
    "print(s1)\n",
    "gaf1 = plot_all_affinities(s1, do_make_local_aff_heatmap=False)\n",
    "\n",
    "print(len(gaf1))\n",
    "words = s1.strip(\".\").split(\" \")\n",
    "fig = plot_one_global_aff(\n",
    "    gaf1,\n",
    "    words,\n",
    "    figsize_if_plotting_single=(4,2)\n",
    ")\n",
    "fig_saver.save(fig, \"gaf.png\")\n",
    "\n"
   ],
   "id": "8e28a56705c44f83",
   "outputs": [],
   "execution_count": null
  },
  {
   "metadata": {},
   "cell_type": "code",
   "source": [
    "import matplotlib.pyplot as plt\n",
    "config_matplot_for_latex(10, dpi=100)\n",
    "\n",
    "from __future__ import annotations\n",
    "\n",
    "# plt.rcParams[\"text.usetex\"] = True\n",
    "# Matplotlib ≥3.6 accepts list preamble; older versions accept a single string.\n",
    "# plt.rcParams[\"text.latex.preamble\"] = [\n",
    "#     # r\"\\usepackage{xcolor}\",\n",
    "#     r\"\\usepackage{amsmath}\",\n",
    "# ]\n",
    "# plt.rcParams[\"text.latex.preamble\"] = r\"\\usepackage{amsmath}\\n\\usepackage{xcolor}\"\n",
    "plt.rcParams[\"text.latex.preamble\"] = r\"\\usepackage{xcolor}\"\n",
    "\n",
    "# s = r\"$\\mathcal{P}^{\\textcolor{blue}{\\text{MASK}}}_{\\textcolor{red}{s}}$\"\n",
    "\n",
    "# fig, ax = plt.subplots()\n",
    "# ax.text(0.5, 0.5, s, fontsize=24, ha=\"center\", va=\"center\")\n",
    "# ax.axis(\"off\")\n",
    "# plt.show()\n",
    "\n",
    "# s = r\"$\\mathcal{P}^{\\color{blue}{\\mathrm{MASK}}}_{\\color{red}{s}}$\"\n",
    "s = r\"\\textcolor{blue}{test}$\"\n",
    "# s = r\"$\\mathcal{P}$\"\n",
    "\n",
    "fig, ax = plt.subplots()\n",
    "ax.text(0.5, 0.5, s, fontsize=24, ha=\"center\", va=\"center\")  # usetex=False by default\n",
    "ax.axis(\"off\")\n",
    "plt.show()\n"
   ],
   "id": "cb6ab6640477dcf4",
   "outputs": [],
   "execution_count": null
  },
  {
   "metadata": {},
   "cell_type": "code",
   "source": "",
   "id": "d0fa363822ced689",
   "outputs": [],
   "execution_count": null
  }
 ],
 "metadata": {
  "kernelspec": {
   "display_name": "Python 3",
   "language": "python",
   "name": "python3"
  },
  "language_info": {
   "codemirror_mode": {
    "name": "ipython",
    "version": 2
   },
   "file_extension": ".py",
   "mimetype": "text/x-python",
   "name": "python",
   "nbconvert_exporter": "python",
   "pygments_lexer": "ipython2",
   "version": "2.7.6"
  }
 },
 "nbformat": 4,
 "nbformat_minor": 5
}
